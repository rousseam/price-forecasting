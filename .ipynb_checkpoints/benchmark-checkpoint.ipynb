{
 "cells": [
  {
   "cell_type": "markdown",
   "metadata": {},
   "source": [
    "# [Challenge Data - Electricity price forecasting by Elmy](https://challengedata.ens.fr/challenges/140)\n",
    "\n",
    "Ce notebook détaille la construction du benchmark de ce challenge - il peut également être utile aux participants pour se lancer dans la compétition. \n",
    "\n",
    "## Librairies"
   ]
  },
  {
   "cell_type": "markdown",
   "metadata": {},
   "source": []
  },
  {
   "cell_type": "code",
   "execution_count": 2,
   "metadata": {},
   "outputs": [],
   "source": [
    "import numpy as np\n",
    "import pandas as pd\n",
    "from scipy.stats import spearmanr\n",
    "from scipy.stats import pearsonr\n",
    "from sklearn.linear_model import LinearRegression\n",
    "import matplotlib.pyplot as plt\n",
    "import seaborn as sns\n",
    "from sklearn.preprocessing import PolynomialFeatures\n",
    "from sklearn.pipeline import Pipeline\n",
    "from sklearn.preprocessing import StandardScaler\n"
   ]
  },
  {
   "cell_type": "markdown",
   "metadata": {},
   "source": [
    "## Chargement des données\n",
    "\n",
    "- `X_train` et `X_test` ont  $10$ colonnes qui représentent les même variables explicatives mais sur des périodes de temps différentes il y a au plus $10 604$ lignes. \n",
    "\n",
    "- `X_train` et `Y_train` partagent la même colonne `DELIVERY_START` - chaque ligne a un DELIVERY_START unique associé à une date et heure de livraison de l'électricité\n",
    ". \n",
    "\n",
    "- La variable cible `spot_id_delta` de `Y_train` correspond à l'écart entre le VWAP des transactions sur le marché infra-journalier (Intraday) et le prix SPOT pour 1MWh d'électricité (spot_id_delta = Intraday - SPOT) : si la valeur est positive, le prix Intraday est supérieur au prix SPOT et inversement.\n",
    "\n",
    "- **On notera que certaines colonnes ont des valeurs manquantes**.\n"
   ]
  },
  {
   "cell_type": "code",
   "execution_count": 5,
   "metadata": {},
   "outputs": [],
   "source": [
    "# After downloading the X_train/X_test/Y_train .csv files in your working directory:\n",
    "\n",
    "X_train = pd.read_csv('data/X_train.csv')\n",
    "Y_train = pd.read_csv('data/y_train.csv')\n",
    "X_test = pd.read_csv('data/X_test.csv')"
   ]
  },
  {
   "cell_type": "code",
   "execution_count": 6,
   "metadata": {},
   "outputs": [
    {
     "data": {
      "text/html": [
       "<div>\n",
       "<style scoped>\n",
       "    .dataframe tbody tr th:only-of-type {\n",
       "        vertical-align: middle;\n",
       "    }\n",
       "\n",
       "    .dataframe tbody tr th {\n",
       "        vertical-align: top;\n",
       "    }\n",
       "\n",
       "    .dataframe thead th {\n",
       "        text-align: right;\n",
       "    }\n",
       "</style>\n",
       "<table border=\"1\" class=\"dataframe\">\n",
       "  <thead>\n",
       "    <tr style=\"text-align: right;\">\n",
       "      <th></th>\n",
       "      <th>DELIVERY_START</th>\n",
       "      <th>load_forecast</th>\n",
       "      <th>coal_power_available</th>\n",
       "      <th>gas_power_available</th>\n",
       "      <th>nucelear_power_available</th>\n",
       "      <th>wind_power_forecasts_average</th>\n",
       "      <th>solar_power_forecasts_average</th>\n",
       "      <th>wind_power_forecasts_std</th>\n",
       "      <th>solar_power_forecasts_std</th>\n",
       "      <th>predicted_spot_price</th>\n",
       "    </tr>\n",
       "  </thead>\n",
       "  <tbody>\n",
       "    <tr>\n",
       "      <th>0</th>\n",
       "      <td>2022-01-01 02:00:00+01:00</td>\n",
       "      <td>49439.0</td>\n",
       "      <td>3386.0</td>\n",
       "      <td>11487.0</td>\n",
       "      <td>44118.0</td>\n",
       "      <td>3035.0</td>\n",
       "      <td>0.0</td>\n",
       "      <td>79.248348</td>\n",
       "      <td>0.0</td>\n",
       "      <td>NaN</td>\n",
       "    </tr>\n",
       "    <tr>\n",
       "      <th>1</th>\n",
       "      <td>2022-01-01 03:00:00+01:00</td>\n",
       "      <td>46511.0</td>\n",
       "      <td>3386.0</td>\n",
       "      <td>11487.0</td>\n",
       "      <td>44118.0</td>\n",
       "      <td>3143.0</td>\n",
       "      <td>0.0</td>\n",
       "      <td>61.776532</td>\n",
       "      <td>0.0</td>\n",
       "      <td>NaN</td>\n",
       "    </tr>\n",
       "    <tr>\n",
       "      <th>2</th>\n",
       "      <td>2022-01-01 04:00:00+01:00</td>\n",
       "      <td>45158.0</td>\n",
       "      <td>3386.0</td>\n",
       "      <td>11487.0</td>\n",
       "      <td>44118.0</td>\n",
       "      <td>3288.0</td>\n",
       "      <td>0.0</td>\n",
       "      <td>44.291112</td>\n",
       "      <td>0.0</td>\n",
       "      <td>NaN</td>\n",
       "    </tr>\n",
       "    <tr>\n",
       "      <th>3</th>\n",
       "      <td>2022-01-01 05:00:00+01:00</td>\n",
       "      <td>44779.0</td>\n",
       "      <td>3386.0</td>\n",
       "      <td>11487.0</td>\n",
       "      <td>44118.0</td>\n",
       "      <td>3447.0</td>\n",
       "      <td>0.0</td>\n",
       "      <td>36.127588</td>\n",
       "      <td>0.0</td>\n",
       "      <td>NaN</td>\n",
       "    </tr>\n",
       "    <tr>\n",
       "      <th>4</th>\n",
       "      <td>2022-01-01 06:00:00+01:00</td>\n",
       "      <td>45284.0</td>\n",
       "      <td>3386.0</td>\n",
       "      <td>11487.0</td>\n",
       "      <td>44118.0</td>\n",
       "      <td>3679.0</td>\n",
       "      <td>0.0</td>\n",
       "      <td>30.983023</td>\n",
       "      <td>0.0</td>\n",
       "      <td>NaN</td>\n",
       "    </tr>\n",
       "  </tbody>\n",
       "</table>\n",
       "</div>"
      ],
      "text/plain": [
       "              DELIVERY_START  load_forecast  coal_power_available  \\\n",
       "0  2022-01-01 02:00:00+01:00        49439.0                3386.0   \n",
       "1  2022-01-01 03:00:00+01:00        46511.0                3386.0   \n",
       "2  2022-01-01 04:00:00+01:00        45158.0                3386.0   \n",
       "3  2022-01-01 05:00:00+01:00        44779.0                3386.0   \n",
       "4  2022-01-01 06:00:00+01:00        45284.0                3386.0   \n",
       "\n",
       "   gas_power_available  nucelear_power_available  \\\n",
       "0              11487.0                   44118.0   \n",
       "1              11487.0                   44118.0   \n",
       "2              11487.0                   44118.0   \n",
       "3              11487.0                   44118.0   \n",
       "4              11487.0                   44118.0   \n",
       "\n",
       "   wind_power_forecasts_average  solar_power_forecasts_average  \\\n",
       "0                        3035.0                            0.0   \n",
       "1                        3143.0                            0.0   \n",
       "2                        3288.0                            0.0   \n",
       "3                        3447.0                            0.0   \n",
       "4                        3679.0                            0.0   \n",
       "\n",
       "   wind_power_forecasts_std  solar_power_forecasts_std  predicted_spot_price  \n",
       "0                 79.248348                        0.0                   NaN  \n",
       "1                 61.776532                        0.0                   NaN  \n",
       "2                 44.291112                        0.0                   NaN  \n",
       "3                 36.127588                        0.0                   NaN  \n",
       "4                 30.983023                        0.0                   NaN  "
      ]
     },
     "execution_count": 6,
     "metadata": {},
     "output_type": "execute_result"
    }
   ],
   "source": [
    "X_train.head()"
   ]
  },
  {
   "cell_type": "code",
   "execution_count": 7,
   "metadata": {},
   "outputs": [
    {
     "data": {
      "text/html": [
       "<div>\n",
       "<style scoped>\n",
       "    .dataframe tbody tr th:only-of-type {\n",
       "        vertical-align: middle;\n",
       "    }\n",
       "\n",
       "    .dataframe tbody tr th {\n",
       "        vertical-align: top;\n",
       "    }\n",
       "\n",
       "    .dataframe thead th {\n",
       "        text-align: right;\n",
       "    }\n",
       "</style>\n",
       "<table border=\"1\" class=\"dataframe\">\n",
       "  <thead>\n",
       "    <tr style=\"text-align: right;\">\n",
       "      <th></th>\n",
       "      <th>load_forecast</th>\n",
       "      <th>coal_power_available</th>\n",
       "      <th>gas_power_available</th>\n",
       "      <th>nucelear_power_available</th>\n",
       "      <th>wind_power_forecasts_average</th>\n",
       "      <th>solar_power_forecasts_average</th>\n",
       "      <th>wind_power_forecasts_std</th>\n",
       "      <th>solar_power_forecasts_std</th>\n",
       "      <th>predicted_spot_price</th>\n",
       "    </tr>\n",
       "  </thead>\n",
       "  <tbody>\n",
       "    <tr>\n",
       "      <th>count</th>\n",
       "      <td>9318.000000</td>\n",
       "      <td>10604.000000</td>\n",
       "      <td>10604.000000</td>\n",
       "      <td>10604.000000</td>\n",
       "      <td>10581.000000</td>\n",
       "      <td>10581.000000</td>\n",
       "      <td>10581.000000</td>\n",
       "      <td>10581.000000</td>\n",
       "      <td>1846.000000</td>\n",
       "    </tr>\n",
       "    <tr>\n",
       "      <th>mean</th>\n",
       "      <td>53725.132968</td>\n",
       "      <td>2819.781592</td>\n",
       "      <td>11463.220671</td>\n",
       "      <td>35393.282252</td>\n",
       "      <td>4512.989415</td>\n",
       "      <td>1919.281353</td>\n",
       "      <td>125.399422</td>\n",
       "      <td>24.997384</td>\n",
       "      <td>140.256024</td>\n",
       "    </tr>\n",
       "    <tr>\n",
       "      <th>std</th>\n",
       "      <td>11274.194929</td>\n",
       "      <td>495.103588</td>\n",
       "      <td>483.799154</td>\n",
       "      <td>7619.820162</td>\n",
       "      <td>3349.419356</td>\n",
       "      <td>2706.963383</td>\n",
       "      <td>132.152875</td>\n",
       "      <td>43.083977</td>\n",
       "      <td>33.922669</td>\n",
       "    </tr>\n",
       "    <tr>\n",
       "      <th>min</th>\n",
       "      <td>30515.000000</td>\n",
       "      <td>1646.000000</td>\n",
       "      <td>9769.000000</td>\n",
       "      <td>22285.000000</td>\n",
       "      <td>592.000000</td>\n",
       "      <td>0.000000</td>\n",
       "      <td>1.830211</td>\n",
       "      <td>0.000000</td>\n",
       "      <td>42.420000</td>\n",
       "    </tr>\n",
       "    <tr>\n",
       "      <th>25%</th>\n",
       "      <td>45336.500000</td>\n",
       "      <td>2226.000000</td>\n",
       "      <td>11140.000000</td>\n",
       "      <td>29005.000000</td>\n",
       "      <td>2036.000000</td>\n",
       "      <td>0.000000</td>\n",
       "      <td>46.818974</td>\n",
       "      <td>0.000000</td>\n",
       "      <td>119.405000</td>\n",
       "    </tr>\n",
       "    <tr>\n",
       "      <th>50%</th>\n",
       "      <td>51846.000000</td>\n",
       "      <td>2806.000000</td>\n",
       "      <td>11487.000000</td>\n",
       "      <td>32470.000000</td>\n",
       "      <td>3319.000000</td>\n",
       "      <td>149.000000</td>\n",
       "      <td>86.700163</td>\n",
       "      <td>3.507229</td>\n",
       "      <td>140.040000</td>\n",
       "    </tr>\n",
       "    <tr>\n",
       "      <th>75%</th>\n",
       "      <td>62091.750000</td>\n",
       "      <td>3386.000000</td>\n",
       "      <td>11945.000000</td>\n",
       "      <td>43055.000000</td>\n",
       "      <td>5951.000000</td>\n",
       "      <td>3507.000000</td>\n",
       "      <td>155.325644</td>\n",
       "      <td>35.137019</td>\n",
       "      <td>160.765000</td>\n",
       "    </tr>\n",
       "    <tr>\n",
       "      <th>max</th>\n",
       "      <td>85145.000000</td>\n",
       "      <td>3391.000000</td>\n",
       "      <td>11963.000000</td>\n",
       "      <td>50122.000000</td>\n",
       "      <td>15167.000000</td>\n",
       "      <td>10127.000000</td>\n",
       "      <td>1871.571992</td>\n",
       "      <td>745.261316</td>\n",
       "      <td>254.190000</td>\n",
       "    </tr>\n",
       "  </tbody>\n",
       "</table>\n",
       "</div>"
      ],
      "text/plain": [
       "       load_forecast  coal_power_available  gas_power_available  \\\n",
       "count    9318.000000          10604.000000         10604.000000   \n",
       "mean    53725.132968           2819.781592         11463.220671   \n",
       "std     11274.194929            495.103588           483.799154   \n",
       "min     30515.000000           1646.000000          9769.000000   \n",
       "25%     45336.500000           2226.000000         11140.000000   \n",
       "50%     51846.000000           2806.000000         11487.000000   \n",
       "75%     62091.750000           3386.000000         11945.000000   \n",
       "max     85145.000000           3391.000000         11963.000000   \n",
       "\n",
       "       nucelear_power_available  wind_power_forecasts_average  \\\n",
       "count              10604.000000                  10581.000000   \n",
       "mean               35393.282252                   4512.989415   \n",
       "std                 7619.820162                   3349.419356   \n",
       "min                22285.000000                    592.000000   \n",
       "25%                29005.000000                   2036.000000   \n",
       "50%                32470.000000                   3319.000000   \n",
       "75%                43055.000000                   5951.000000   \n",
       "max                50122.000000                  15167.000000   \n",
       "\n",
       "       solar_power_forecasts_average  wind_power_forecasts_std  \\\n",
       "count                   10581.000000              10581.000000   \n",
       "mean                     1919.281353                125.399422   \n",
       "std                      2706.963383                132.152875   \n",
       "min                         0.000000                  1.830211   \n",
       "25%                         0.000000                 46.818974   \n",
       "50%                       149.000000                 86.700163   \n",
       "75%                      3507.000000                155.325644   \n",
       "max                     10127.000000               1871.571992   \n",
       "\n",
       "       solar_power_forecasts_std  predicted_spot_price  \n",
       "count               10581.000000           1846.000000  \n",
       "mean                   24.997384            140.256024  \n",
       "std                    43.083977             33.922669  \n",
       "min                     0.000000             42.420000  \n",
       "25%                     0.000000            119.405000  \n",
       "50%                     3.507229            140.040000  \n",
       "75%                    35.137019            160.765000  \n",
       "max                   745.261316            254.190000  "
      ]
     },
     "execution_count": 7,
     "metadata": {},
     "output_type": "execute_result"
    }
   ],
   "source": [
    "X_train.describe()"
   ]
  },
  {
   "cell_type": "code",
   "execution_count": 8,
   "metadata": {},
   "outputs": [
    {
     "data": {
      "text/html": [
       "<div>\n",
       "<style scoped>\n",
       "    .dataframe tbody tr th:only-of-type {\n",
       "        vertical-align: middle;\n",
       "    }\n",
       "\n",
       "    .dataframe tbody tr th {\n",
       "        vertical-align: top;\n",
       "    }\n",
       "\n",
       "    .dataframe thead th {\n",
       "        text-align: right;\n",
       "    }\n",
       "</style>\n",
       "<table border=\"1\" class=\"dataframe\">\n",
       "  <thead>\n",
       "    <tr style=\"text-align: right;\">\n",
       "      <th></th>\n",
       "      <th>DELIVERY_START</th>\n",
       "      <th>spot_id_delta</th>\n",
       "    </tr>\n",
       "  </thead>\n",
       "  <tbody>\n",
       "    <tr>\n",
       "      <th>0</th>\n",
       "      <td>2022-01-01 02:00:00+01:00</td>\n",
       "      <td>-36.874770</td>\n",
       "    </tr>\n",
       "    <tr>\n",
       "      <th>1</th>\n",
       "      <td>2022-01-01 03:00:00+01:00</td>\n",
       "      <td>-12.643588</td>\n",
       "    </tr>\n",
       "    <tr>\n",
       "      <th>2</th>\n",
       "      <td>2022-01-01 04:00:00+01:00</td>\n",
       "      <td>-1.950193</td>\n",
       "    </tr>\n",
       "    <tr>\n",
       "      <th>3</th>\n",
       "      <td>2022-01-01 05:00:00+01:00</td>\n",
       "      <td>1.938272</td>\n",
       "    </tr>\n",
       "    <tr>\n",
       "      <th>4</th>\n",
       "      <td>2022-01-01 06:00:00+01:00</td>\n",
       "      <td>0.199907</td>\n",
       "    </tr>\n",
       "  </tbody>\n",
       "</table>\n",
       "</div>"
      ],
      "text/plain": [
       "              DELIVERY_START  spot_id_delta\n",
       "0  2022-01-01 02:00:00+01:00     -36.874770\n",
       "1  2022-01-01 03:00:00+01:00     -12.643588\n",
       "2  2022-01-01 04:00:00+01:00      -1.950193\n",
       "3  2022-01-01 05:00:00+01:00       1.938272\n",
       "4  2022-01-01 06:00:00+01:00       0.199907"
      ]
     },
     "execution_count": 8,
     "metadata": {},
     "output_type": "execute_result"
    }
   ],
   "source": [
    "Y_train.head()"
   ]
  },
  {
   "cell_type": "code",
   "execution_count": 9,
   "metadata": {},
   "outputs": [
    {
     "data": {
      "text/html": [
       "<div>\n",
       "<style scoped>\n",
       "    .dataframe tbody tr th:only-of-type {\n",
       "        vertical-align: middle;\n",
       "    }\n",
       "\n",
       "    .dataframe tbody tr th {\n",
       "        vertical-align: top;\n",
       "    }\n",
       "\n",
       "    .dataframe thead th {\n",
       "        text-align: right;\n",
       "    }\n",
       "</style>\n",
       "<table border=\"1\" class=\"dataframe\">\n",
       "  <thead>\n",
       "    <tr style=\"text-align: right;\">\n",
       "      <th></th>\n",
       "      <th>spot_id_delta</th>\n",
       "    </tr>\n",
       "  </thead>\n",
       "  <tbody>\n",
       "    <tr>\n",
       "      <th>count</th>\n",
       "      <td>10605.000000</td>\n",
       "    </tr>\n",
       "    <tr>\n",
       "      <th>mean</th>\n",
       "      <td>0.943358</td>\n",
       "    </tr>\n",
       "    <tr>\n",
       "      <th>std</th>\n",
       "      <td>38.093819</td>\n",
       "    </tr>\n",
       "    <tr>\n",
       "      <th>min</th>\n",
       "      <td>-1567.353547</td>\n",
       "    </tr>\n",
       "    <tr>\n",
       "      <th>25%</th>\n",
       "      <td>-11.934152</td>\n",
       "    </tr>\n",
       "    <tr>\n",
       "      <th>50%</th>\n",
       "      <td>0.059125</td>\n",
       "    </tr>\n",
       "    <tr>\n",
       "      <th>75%</th>\n",
       "      <td>12.190489</td>\n",
       "    </tr>\n",
       "    <tr>\n",
       "      <th>max</th>\n",
       "      <td>658.961329</td>\n",
       "    </tr>\n",
       "  </tbody>\n",
       "</table>\n",
       "</div>"
      ],
      "text/plain": [
       "       spot_id_delta\n",
       "count   10605.000000\n",
       "mean        0.943358\n",
       "std        38.093819\n",
       "min     -1567.353547\n",
       "25%       -11.934152\n",
       "50%         0.059125\n",
       "75%        12.190489\n",
       "max       658.961329"
      ]
     },
     "execution_count": 9,
     "metadata": {},
     "output_type": "execute_result"
    }
   ],
   "source": [
    "Y_train.describe()"
   ]
  },
  {
   "cell_type": "code",
   "execution_count": 10,
   "metadata": {},
   "outputs": [
    {
     "data": {
      "text/plain": [
       "0   -36.874770\n",
       "1   -12.643588\n",
       "2    -1.950193\n",
       "3     1.938272\n",
       "4     0.199907\n",
       "Name: spot_id_delta, dtype: float64"
      ]
     },
     "execution_count": 10,
     "metadata": {},
     "output_type": "execute_result"
    }
   ],
   "source": [
    "Y_train_clean = Y_train['spot_id_delta']\n",
    "Y_train_clean.head()"
   ]
  },
  {
   "cell_type": "markdown",
   "metadata": {},
   "source": [
    "## Modèles et score d'entrainement\n",
    "\n",
    "Le benchmark pour ce challenge consiste en une simple régression linéaire, après un léger nettoyage des données : Les valeurs manquantes (NaN) ont été remplacées par des zéros et la colonne `DELIVERY_START` a été supprimée "
   ]
  },
  {
   "cell_type": "code",
   "execution_count": 11,
   "metadata": {},
   "outputs": [
    {
     "name": "stdout",
     "output_type": "stream",
     "text": [
      "Corrélation (Spearman) pour les données d'entrainement : 10.3%\n"
     ]
    }
   ],
   "source": [
    "lr = LinearRegression()\n",
    "\n",
    "X_train_clean = X_train.drop(['DELIVERY_START'], axis=1).fillna(0)\n",
    "Y_train_clean = Y_train['spot_id_delta']\n",
    "\n",
    "lr.fit(X_train_clean, Y_train_clean)\n",
    "\n",
    "output_train = lr.predict(X_train_clean)\n",
    "\n",
    "def metric_train(output):\n",
    "\n",
    "    return  spearmanr(output, Y_train_clean).correlation\n",
    "\n",
    "print(\"Corrélation (Spearman) pour les données d'entrainement : {:.1f}%\".format(100 * metric_train(output_train) ))\n",
    "\n"
   ]
  },
  {
   "cell_type": "markdown",
   "metadata": {},
   "source": [
    "La corrélation de Spearman obtenue avec notre modèle sur les données d'entrainement est d'environ 10.3%.\n",
    "\n",
    "NB : Les variations du prix de l'électricité peuvent être très volatiles et c'est pour cette raison que nous avons préféré la corrélation de Spearman à la corrélation usuelle (Pearson), pour avoir une fonction de score plus robuste."
   ]
  },
  {
   "cell_type": "markdown",
   "metadata": {},
   "source": [
    "## Générer le benchmark\n",
    "\n",
    "Pour générer le benchmark on procède comme on l'a fait avec les données d'entrainement mais cette fois sur les données test, et on renvoie la sortie au format csv adapté aux contraintes des sorties du challenge.  \n"
   ]
  },
  {
   "cell_type": "code",
   "execution_count": 12,
   "metadata": {},
   "outputs": [
    {
     "data": {
      "text/html": [
       "<div>\n",
       "<style scoped>\n",
       "    .dataframe tbody tr th:only-of-type {\n",
       "        vertical-align: middle;\n",
       "    }\n",
       "\n",
       "    .dataframe tbody tr th {\n",
       "        vertical-align: top;\n",
       "    }\n",
       "\n",
       "    .dataframe thead th {\n",
       "        text-align: right;\n",
       "    }\n",
       "</style>\n",
       "<table border=\"1\" class=\"dataframe\">\n",
       "  <thead>\n",
       "    <tr style=\"text-align: right;\">\n",
       "      <th></th>\n",
       "      <th>DELIVERY_START</th>\n",
       "      <th>load_forecast</th>\n",
       "      <th>coal_power_available</th>\n",
       "      <th>gas_power_available</th>\n",
       "      <th>nucelear_power_available</th>\n",
       "      <th>wind_power_forecasts_average</th>\n",
       "      <th>solar_power_forecasts_average</th>\n",
       "      <th>wind_power_forecasts_std</th>\n",
       "      <th>solar_power_forecasts_std</th>\n",
       "      <th>predicted_spot_price</th>\n",
       "    </tr>\n",
       "  </thead>\n",
       "  <tbody>\n",
       "    <tr>\n",
       "      <th>0</th>\n",
       "      <td>2023-04-02 00:00:00+02:00</td>\n",
       "      <td>45814.0</td>\n",
       "      <td>3386.0</td>\n",
       "      <td>10902.0</td>\n",
       "      <td>36705.0</td>\n",
       "      <td>6359.0</td>\n",
       "      <td>0.0</td>\n",
       "      <td>56.764535</td>\n",
       "      <td>0.0</td>\n",
       "      <td>NaN</td>\n",
       "    </tr>\n",
       "    <tr>\n",
       "      <th>1</th>\n",
       "      <td>2023-04-02 01:00:00+02:00</td>\n",
       "      <td>44084.0</td>\n",
       "      <td>3386.0</td>\n",
       "      <td>10902.0</td>\n",
       "      <td>36705.0</td>\n",
       "      <td>6469.0</td>\n",
       "      <td>0.0</td>\n",
       "      <td>54.262133</td>\n",
       "      <td>0.0</td>\n",
       "      <td>NaN</td>\n",
       "    </tr>\n",
       "    <tr>\n",
       "      <th>2</th>\n",
       "      <td>2023-04-02 02:00:00+02:00</td>\n",
       "      <td>43281.0</td>\n",
       "      <td>3386.0</td>\n",
       "      <td>10902.0</td>\n",
       "      <td>36705.0</td>\n",
       "      <td>6511.0</td>\n",
       "      <td>0.0</td>\n",
       "      <td>78.105928</td>\n",
       "      <td>0.0</td>\n",
       "      <td>NaN</td>\n",
       "    </tr>\n",
       "    <tr>\n",
       "      <th>3</th>\n",
       "      <td>2023-04-02 03:00:00+02:00</td>\n",
       "      <td>40825.0</td>\n",
       "      <td>3386.0</td>\n",
       "      <td>10902.0</td>\n",
       "      <td>36705.0</td>\n",
       "      <td>6628.0</td>\n",
       "      <td>0.0</td>\n",
       "      <td>78.187557</td>\n",
       "      <td>0.0</td>\n",
       "      <td>NaN</td>\n",
       "    </tr>\n",
       "    <tr>\n",
       "      <th>4</th>\n",
       "      <td>2023-04-02 04:00:00+02:00</td>\n",
       "      <td>39181.0</td>\n",
       "      <td>3386.0</td>\n",
       "      <td>10902.0</td>\n",
       "      <td>36705.0</td>\n",
       "      <td>6700.0</td>\n",
       "      <td>0.0</td>\n",
       "      <td>96.765484</td>\n",
       "      <td>0.0</td>\n",
       "      <td>NaN</td>\n",
       "    </tr>\n",
       "  </tbody>\n",
       "</table>\n",
       "</div>"
      ],
      "text/plain": [
       "              DELIVERY_START  load_forecast  coal_power_available  \\\n",
       "0  2023-04-02 00:00:00+02:00        45814.0                3386.0   \n",
       "1  2023-04-02 01:00:00+02:00        44084.0                3386.0   \n",
       "2  2023-04-02 02:00:00+02:00        43281.0                3386.0   \n",
       "3  2023-04-02 03:00:00+02:00        40825.0                3386.0   \n",
       "4  2023-04-02 04:00:00+02:00        39181.0                3386.0   \n",
       "\n",
       "   gas_power_available  nucelear_power_available  \\\n",
       "0              10902.0                   36705.0   \n",
       "1              10902.0                   36705.0   \n",
       "2              10902.0                   36705.0   \n",
       "3              10902.0                   36705.0   \n",
       "4              10902.0                   36705.0   \n",
       "\n",
       "   wind_power_forecasts_average  solar_power_forecasts_average  \\\n",
       "0                        6359.0                            0.0   \n",
       "1                        6469.0                            0.0   \n",
       "2                        6511.0                            0.0   \n",
       "3                        6628.0                            0.0   \n",
       "4                        6700.0                            0.0   \n",
       "\n",
       "   wind_power_forecasts_std  solar_power_forecasts_std  predicted_spot_price  \n",
       "0                 56.764535                        0.0                   NaN  \n",
       "1                 54.262133                        0.0                   NaN  \n",
       "2                 78.105928                        0.0                   NaN  \n",
       "3                 78.187557                        0.0                   NaN  \n",
       "4                 96.765484                        0.0                   NaN  "
      ]
     },
     "execution_count": 12,
     "metadata": {},
     "output_type": "execute_result"
    }
   ],
   "source": [
    "X_test.head()"
   ]
  },
  {
   "cell_type": "code",
   "execution_count": 13,
   "metadata": {},
   "outputs": [
    {
     "data": {
      "text/plain": [
       "0   -36.874770\n",
       "1   -12.643588\n",
       "2    -1.950193\n",
       "3     1.938272\n",
       "4     0.199907\n",
       "Name: spot_id_delta, dtype: float64"
      ]
     },
     "execution_count": 13,
     "metadata": {},
     "output_type": "execute_result"
    }
   ],
   "source": [
    "Y_train_clean.head()"
   ]
  },
  {
   "cell_type": "code",
   "execution_count": 14,
   "metadata": {},
   "outputs": [],
   "source": [
    "X_test_clean = X_test.drop(['DELIVERY_START'], axis=1).fillna(0)\n",
    "\n",
    "Y_test_submission = X_test[['DELIVERY_START']].copy()\n",
    "Y_test_submission['spot_id_delta'] = lr.predict(X_test_clean)\n",
    "\n",
    "Y_test_submission.to_csv('benchmark_qrt.csv', index=False)\n"
   ]
  },
  {
   "cell_type": "markdown",
   "metadata": {},
   "source": [
    "On soumet alors le fichier benchmark_qrt.csv sur le site du challenge https://challengedata.ens.fr, et on obtient alors une corrélation d'environ 55.26 % sur le site\n"
   ]
  },
  {
   "cell_type": "code",
   "execution_count": null,
   "metadata": {},
   "outputs": [],
   "source": [
    "X_train_clean.describe()"
   ]
  },
  {
   "cell_type": "markdown",
   "metadata": {},
   "source": [
    "On a 10605 données\n"
   ]
  },
  {
   "cell_type": "code",
   "execution_count": null,
   "metadata": {},
   "outputs": [
    {
     "data": {
      "text/plain": [
       "<matplotlib.collections.PathCollection at 0x24616cf6df0>"
      ]
     },
     "execution_count": 26,
     "metadata": {},
     "output_type": "execute_result"
    },
    {
     "data": {
      "image/png": "[encoded data removed]",
      "text/plain": [
       "<Figure size 640x480 with 1 Axes>"
      ]
     },
     "metadata": {},
     "output_type": "display_data"
    }
   ],
   "source": [
    "y=Y_train[\"spot_id_delta\"]\n",
    "x=X_train[\"load_forecast\"]\n",
    "plt.title(\"écart en fonction de la prévision de consommation totale d'éléctricité en France\")\n",
    "plt.xlabel(\"consommation\")\n",
    "plt.ylabel(\"écart\")\n",
    "plt.scatter(x,y)"
   ]
  },
  {
   "cell_type": "code",
   "execution_count": null,
   "metadata": {},
   "outputs": [],
   "source": [
    "df = pd.merge(X_train, Y_train, on='DELIVERY_START', how='inner')\n",
    "df.head()"
   ]
  },
  {
   "cell_type": "code",
   "execution_count": null,
   "metadata": {},
   "outputs": [],
   "source": [
    "tab=df.corr()\n",
    "fig, ax = plt.subplots()\n",
    "im = ax.pcolor(tab, cmap='RdBu')\n",
    "row_labels = tab.columns\n",
    "col_labels = tab.index\n",
    "ax.set_xticks(np.arange(tab.shape[1])+0.5, minor= False)\n",
    "ax.set_yticks(np.arange(tab.shape[0])+0.5, minor= False)\n",
    "ax.set_xticklabels(row_labels, minor = False)\n",
    "ax.set_yticklabels(col_labels, minor = False)\n",
    "plt.xticks(rotation=90)\n",
    "fig.colorbar(im)\n",
    "plt.show()"
   ]
  },
  {
   "cell_type": "code",
   "execution_count": null,
   "metadata": {},
   "outputs": [],
   "source": []
  },
  {
   "cell_type": "code",
   "execution_count": 44,
   "metadata": {},
   "outputs": [],
   "source": []
  },
  {
   "cell_type": "raw",
   "metadata": {},
   "source": []
  },
  {
   "cell_type": "markdown",
   "metadata": {},
   "source": []
  }
 ],
 "metadata": {
  "hide_input": false,
  "kernelspec": {
   "display_name": "Python 3",
   "language": "python",
   "name": "python3"
  },
  "language_info": {
   "codemirror_mode": {
    "name": "ipython",
    "version": 3
   },
   "file_extension": ".py",
   "mimetype": "text/x-python",
   "name": "python",
   "nbconvert_exporter": "python",
   "pygments_lexer": "ipython3",
   "version": "3.8.8"
  },
  "toc": {
   "base_numbering": 1,
   "nav_menu": {},
   "number_sections": true,
   "sideBar": true,
   "skip_h1_title": false,
   "title_cell": "Table of Contents",
   "title_sidebar": "Contents",
   "toc_cell": false,
   "toc_position": {},
   "toc_section_display": true,
   "toc_window_display": false
  },
  "vscode": {
   "interpreter": {
    "hash": "e98505b2ea4c5ad54dad79b106a9e9e74f288112ea588ce88c6ce949430e0824"
   }
  }
 },
 "nbformat": 4,
 "nbformat_minor": 2
}
