{
 "cells": [
  {
   "cell_type": "markdown",
   "id": "8066c52c",
   "metadata": {},
   "source": [
    "# [Challenge Data - Electricity price forecasting by Elmy](https://challengedata.ens.fr/challenges/140)\n",
    "\n",
    "## Decision Tree Classifier\n",
    "\n",
    "Ce notebook vise à faire l'étude (mise en place, optimisation et score) de la méthode de Decision Tree Learning sur notre problème de prédiction du paramètre _spot_id_delta_. Pour cela, nous allons regrouper les données d'entrainement en deux groupes :\n",
    "* _spot_id_delta_ >= 0\n",
    "* _spot_id_delta_ <= 0"
   ]
  },
  {
   "cell_type": "code",
   "execution_count": 22,
   "id": "3f52f399",
   "metadata": {},
   "outputs": [],
   "source": [
    "import numpy as np\n",
    "import pandas as pd\n",
    "\n",
    "from sklearn.model_selection import train_test_split\n",
    "\n",
    "X = pd.read_csv('data/X_train.csv').drop('DELIVERY_START', axis=1).fillna(0)\n",
    "y = pd.read_csv('data/y_train.csv').drop('DELIVERY_START', axis=1).fillna(0)\n",
    "\n",
    "X_train, X_test, y_train, y_test = train_test_split(X, y, test_size=0.3)\n",
    "\n",
    "y_train = y_train.loc[:, ['spot_id_delta']] # permet de ne pas  déclencher un SettingWithCopyWarning\n",
    "y_test = y_test.loc[:, ['spot_id_delta']]   # permet de ne pas  déclencher un SettingWithCopyWarning\n",
    "y_train['spot_id_delta'] = np.sign(y_train['spot_id_delta'])\n",
    "y_test['spot_id_delta'] = np.sign(y_test['spot_id_delta'])"
   ]
  },
  {
   "cell_type": "code",
   "execution_count": 23,
   "id": "4800d8cf",
   "metadata": {},
   "outputs": [
    {
     "data": {
      "text/html": [
       "<div>\n",
       "<style scoped>\n",
       "    .dataframe tbody tr th:only-of-type {\n",
       "        vertical-align: middle;\n",
       "    }\n",
       "\n",
       "    .dataframe tbody tr th {\n",
       "        vertical-align: top;\n",
       "    }\n",
       "\n",
       "    .dataframe thead th {\n",
       "        text-align: right;\n",
       "    }\n",
       "</style>\n",
       "<table border=\"1\" class=\"dataframe\">\n",
       "  <thead>\n",
       "    <tr style=\"text-align: right;\">\n",
       "      <th></th>\n",
       "      <th>spot_id_delta</th>\n",
       "    </tr>\n",
       "  </thead>\n",
       "  <tbody>\n",
       "    <tr>\n",
       "      <th>273</th>\n",
       "      <td>-1.0</td>\n",
       "    </tr>\n",
       "    <tr>\n",
       "      <th>4948</th>\n",
       "      <td>-1.0</td>\n",
       "    </tr>\n",
       "    <tr>\n",
       "      <th>2960</th>\n",
       "      <td>1.0</td>\n",
       "    </tr>\n",
       "    <tr>\n",
       "      <th>132</th>\n",
       "      <td>-1.0</td>\n",
       "    </tr>\n",
       "    <tr>\n",
       "      <th>9758</th>\n",
       "      <td>1.0</td>\n",
       "    </tr>\n",
       "  </tbody>\n",
       "</table>\n",
       "</div>"
      ],
      "text/plain": [
       "      spot_id_delta\n",
       "273            -1.0\n",
       "4948           -1.0\n",
       "2960            1.0\n",
       "132            -1.0\n",
       "9758            1.0"
      ]
     },
     "execution_count": 23,
     "metadata": {},
     "output_type": "execute_result"
    }
   ],
   "source": [
    "y_train.head()"
   ]
  },
  {
   "cell_type": "markdown",
   "id": "4c56c94a",
   "metadata": {},
   "source": [
    "Maintenant que les données sont classifiées, on peut entraîner un modèle de Decistion Tree Learning:"
   ]
  },
  {
   "cell_type": "code",
   "execution_count": 29,
   "id": "e8c2f1fc",
   "metadata": {},
   "outputs": [
    {
     "data": {
      "text/plain": [
       "<matplotlib.legend.Legend at 0x26ead4ec280>"
      ]
     },
     "execution_count": 29,
     "metadata": {},
     "output_type": "execute_result"
    },
    {
     "data": {
      "image/png": "[encoded data removed]",
      "text/plain": [
       "<Figure size 720x360 with 1 Axes>"
      ]
     },
     "metadata": {
      "needs_background": "light"
     },
     "output_type": "display_data"
    }
   ],
   "source": [
    "import matplotlib.pyplot as plt\n",
    "from sklearn.tree import DecisionTreeClassifier\n",
    "\n",
    "depths = np.arange(1, 30)\n",
    "train_scores = []\n",
    "test_scores = []\n",
    "\n",
    "for depth in depths:\n",
    "    clf = DecisionTreeClassifier(max_depth=depth)\n",
    "    clf.fit(X_train, y_train)\n",
    "    train_scores.append(clf.score(X_train, y_train))\n",
    "    test_scores.append(clf.score(X_test, y_test))\n",
    "    \n",
    "\n",
    "plt.figure(figsize=(10, 5))\n",
    "plt.plot(depths, train_scores, color=\"b\", linestyle=':', label=\"train\")\n",
    "plt.plot(depths, test_scores, color=\"r\", linestyle='-', label=\"test\")\n",
    "plt.xlabel(\"Tree depth\")\n",
    "plt.ylabel(\"Score\")\n",
    "plt.grid()\n",
    "plt.legend(loc=\"best\")\n"
   ]
  },
  {
   "cell_type": "markdown",
   "id": "a19c07d4",
   "metadata": {},
   "source": [
    "On en déduit la profondeur optimale pour le Decision Tree Classifier :"
   ]
  },
  {
   "cell_type": "code",
   "execution_count": 32,
   "id": "b7fd2f80",
   "metadata": {},
   "outputs": [
    {
     "name": "stdout",
     "output_type": "stream",
     "text": [
      "best depth =  24\n"
     ]
    }
   ],
   "source": [
    "best_depth = depths[np.argmax(test_scores)]\n",
    "print(f\"best_depth = {best_depth} for a score of {max(test_scores)}\")"
   ]
  },
  {
   "cell_type": "code",
   "execution_count": null,
   "id": "2de7ecc9",
   "metadata": {},
   "outputs": [],
   "source": []
  }
 ],
 "metadata": {
  "kernelspec": {
   "display_name": "Python 3",
   "language": "python",
   "name": "python3"
  },
  "language_info": {
   "codemirror_mode": {
    "name": "ipython",
    "version": 3
   },
   "file_extension": ".py",
   "mimetype": "text/x-python",
   "name": "python",
   "nbconvert_exporter": "python",
   "pygments_lexer": "ipython3",
   "version": "3.8.8"
  }
 },
 "nbformat": 4,
 "nbformat_minor": 5
}
