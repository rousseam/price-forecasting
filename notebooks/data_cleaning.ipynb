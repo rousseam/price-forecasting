{
 "cells": [
  {
   "cell_type": "markdown",
   "metadata": {},
   "source": [
    "# QRT ENS Challenge Data 2023 - Benchmark\n",
    "\n",
    "Ce notebook détaille la construction du benchmark de ce challenge - il peut également être utile aux participants pour se lancer dans la compétition. \n",
    "\n",
    "## Librairies"
   ]
  },
  {
   "cell_type": "code",
   "execution_count": 1,
   "metadata": {},
   "outputs": [],
   "source": [
    "import numpy as np\n",
    "import pandas as pd\n",
    "from sklearn.linear_model import LinearRegression\n",
    "import matplotlib.pyplot as plt\n",
    "import seaborn as sns\n",
    "from sklearn.impute import KNNImputer\n",
    "from sklearn.model_selection import train_test_split"
   ]
  },
  {
   "cell_type": "markdown",
   "metadata": {},
   "source": [
    "# Chargement des données\n",
    "\n",
    "- `X_train` et `X_test` ont  $10$ colonnes qui représentent les même variables explicatives mais sur des périodes de temps différentes il y a au plus $10 604$ lignes. \n",
    "\n",
    "- `X_train` et `y_train` partagent la même colonne `DELIVERY_START` - chaque ligne a un DELIVERY_START unique associéz à une date et heure de livraison de l'électricité\n",
    ". \n",
    "\n",
    "- La variable cible `spot_id_delta` de `y_train` correspond à l'écart entre le VWAP des transactions sur le marché infra-journalier (Intraday) et le prix SPOT pour 1MWh d'électricité (spot_id_delta = Intraday - SPOT) : si la valeur est positive, le prix Intraday est supérieur au prix SPOT et inversement.\n",
    "\n",
    "- **On notera que certaines colonnes ont des valeurs manquantes**.\n"
   ]
  },
  {
   "cell_type": "code",
   "execution_count": 2,
   "metadata": {},
   "outputs": [],
   "source": [
    "# After downloading the X_train/X_test/Y_train .csv files in your working directory:\n",
    "X = pd.read_csv('../raw_data/X_train_Wwou3IE.csv')\n",
    "y = pd.read_csv('../raw_data/y_train_jJtXgMX.csv')\n",
    "X_rendu = pd.read_csv('../raw_data/X_test_GgyECq8.csv')\n",
    "\n",
    "X_train, X_test, y_train, y_test = train_test_split(X, y, test_size=0.3)"
   ]
  },
  {
   "cell_type": "markdown",
   "metadata": {},
   "source": [
    "On manipule les données pour enlever les NaN qui ne nous intéressent pas: "
   ]
  },
  {
   "cell_type": "code",
   "execution_count": 3,
   "metadata": {},
   "outputs": [],
   "source": [
    "X_train_kept = X_train.dropna(subset=['coal_power_available', 'gas_power_available', 'nucelear_power_available', 'wind_power_forecasts_average', 'solar_power_forecasts_average', 'wind_power_forecasts_std', 'solar_power_forecasts_std'])\n",
    "X_rendu_kept = X_train.dropna(subset=['coal_power_available', 'gas_power_available', 'nucelear_power_available', 'wind_power_forecasts_average', 'solar_power_forecasts_average', 'wind_power_forecasts_std', 'solar_power_forecasts_std'])\n",
    "\n",
    "marked_train = pd.concat([X_train, X_train_kept]).drop_duplicates(keep=False)['DELIVERY_START']\n",
    "marked_rendu = pd.concat([X_rendu, X_rendu_kept]).drop_duplicates(keep=False)['DELIVERY_START']\n",
    "\n",
    "X_train = X_train[~X_train['DELIVERY_START'].isin(marked_train)]\n",
    "y_train = y_train[~y_train['DELIVERY_START'].isin(marked_train)]\n",
    "X_rendu = X_rendu[~X_rendu['DELIVERY_START'].isin(marked_train)]"
   ]
  },
  {
   "cell_type": "code",
   "execution_count": 4,
   "metadata": {},
   "outputs": [
    {
     "data": {
      "text/html": [
       "<div>\n",
       "<style scoped>\n",
       "    .dataframe tbody tr th:only-of-type {\n",
       "        vertical-align: middle;\n",
       "    }\n",
       "\n",
       "    .dataframe tbody tr th {\n",
       "        vertical-align: top;\n",
       "    }\n",
       "\n",
       "    .dataframe thead th {\n",
       "        text-align: right;\n",
       "    }\n",
       "</style>\n",
       "<table border=\"1\" class=\"dataframe\">\n",
       "  <thead>\n",
       "    <tr style=\"text-align: right;\">\n",
       "      <th></th>\n",
       "      <th>DELIVERY_START</th>\n",
       "      <th>load_forecast</th>\n",
       "      <th>coal_power_available</th>\n",
       "      <th>gas_power_available</th>\n",
       "      <th>nucelear_power_available</th>\n",
       "      <th>wind_power_forecasts_average</th>\n",
       "      <th>solar_power_forecasts_average</th>\n",
       "      <th>wind_power_forecasts_std</th>\n",
       "      <th>solar_power_forecasts_std</th>\n",
       "      <th>predicted_spot_price</th>\n",
       "    </tr>\n",
       "  </thead>\n",
       "  <tbody>\n",
       "    <tr>\n",
       "      <th>4516</th>\n",
       "      <td>2022-07-15 06:00:00+02:00</td>\n",
       "      <td>NaN</td>\n",
       "      <td>2226.0</td>\n",
       "      <td>11140.0</td>\n",
       "      <td>27995.0</td>\n",
       "      <td>2779.0</td>\n",
       "      <td>260.0</td>\n",
       "      <td>50.888446</td>\n",
       "      <td>4.977892</td>\n",
       "      <td>NaN</td>\n",
       "    </tr>\n",
       "    <tr>\n",
       "      <th>452</th>\n",
       "      <td>2022-01-19 22:00:00+01:00</td>\n",
       "      <td>70957.0</td>\n",
       "      <td>3386.0</td>\n",
       "      <td>11487.0</td>\n",
       "      <td>49821.0</td>\n",
       "      <td>4783.0</td>\n",
       "      <td>0.0</td>\n",
       "      <td>262.145591</td>\n",
       "      <td>0.000000</td>\n",
       "      <td>NaN</td>\n",
       "    </tr>\n",
       "    <tr>\n",
       "      <th>4136</th>\n",
       "      <td>2022-06-29 10:00:00+02:00</td>\n",
       "      <td>50921.0</td>\n",
       "      <td>2226.0</td>\n",
       "      <td>10555.0</td>\n",
       "      <td>28620.0</td>\n",
       "      <td>975.0</td>\n",
       "      <td>6901.0</td>\n",
       "      <td>29.768661</td>\n",
       "      <td>19.272470</td>\n",
       "      <td>NaN</td>\n",
       "    </tr>\n",
       "    <tr>\n",
       "      <th>5440</th>\n",
       "      <td>2022-08-22 18:00:00+02:00</td>\n",
       "      <td>46075.0</td>\n",
       "      <td>2226.0</td>\n",
       "      <td>11060.0</td>\n",
       "      <td>26320.0</td>\n",
       "      <td>1919.0</td>\n",
       "      <td>2645.0</td>\n",
       "      <td>141.690169</td>\n",
       "      <td>56.861925</td>\n",
       "      <td>NaN</td>\n",
       "    </tr>\n",
       "    <tr>\n",
       "      <th>9162</th>\n",
       "      <td>2023-01-27 20:00:00+01:00</td>\n",
       "      <td>72628.0</td>\n",
       "      <td>3386.0</td>\n",
       "      <td>11945.0</td>\n",
       "      <td>44655.0</td>\n",
       "      <td>6839.0</td>\n",
       "      <td>0.0</td>\n",
       "      <td>363.769772</td>\n",
       "      <td>0.000000</td>\n",
       "      <td>199.06</td>\n",
       "    </tr>\n",
       "  </tbody>\n",
       "</table>\n",
       "</div>"
      ],
      "text/plain": [
       "                 DELIVERY_START  load_forecast  coal_power_available  \\\n",
       "4516  2022-07-15 06:00:00+02:00            NaN                2226.0   \n",
       "452   2022-01-19 22:00:00+01:00        70957.0                3386.0   \n",
       "4136  2022-06-29 10:00:00+02:00        50921.0                2226.0   \n",
       "5440  2022-08-22 18:00:00+02:00        46075.0                2226.0   \n",
       "9162  2023-01-27 20:00:00+01:00        72628.0                3386.0   \n",
       "\n",
       "      gas_power_available  nucelear_power_available  \\\n",
       "4516              11140.0                   27995.0   \n",
       "452               11487.0                   49821.0   \n",
       "4136              10555.0                   28620.0   \n",
       "5440              11060.0                   26320.0   \n",
       "9162              11945.0                   44655.0   \n",
       "\n",
       "      wind_power_forecasts_average  solar_power_forecasts_average  \\\n",
       "4516                        2779.0                          260.0   \n",
       "452                         4783.0                            0.0   \n",
       "4136                         975.0                         6901.0   \n",
       "5440                        1919.0                         2645.0   \n",
       "9162                        6839.0                            0.0   \n",
       "\n",
       "      wind_power_forecasts_std  solar_power_forecasts_std  \\\n",
       "4516                 50.888446                   4.977892   \n",
       "452                 262.145591                   0.000000   \n",
       "4136                 29.768661                  19.272470   \n",
       "5440                141.690169                  56.861925   \n",
       "9162                363.769772                   0.000000   \n",
       "\n",
       "      predicted_spot_price  \n",
       "4516                   NaN  \n",
       "452                    NaN  \n",
       "4136                   NaN  \n",
       "5440                   NaN  \n",
       "9162                199.06  "
      ]
     },
     "execution_count": 4,
     "metadata": {},
     "output_type": "execute_result"
    }
   ],
   "source": [
    "X_train.head()"
   ]
  },
  {
   "cell_type": "code",
   "execution_count": 5,
   "metadata": {
    "scrolled": true
   },
   "outputs": [
    {
     "data": {
      "text/html": [
       "<div>\n",
       "<style scoped>\n",
       "    .dataframe tbody tr th:only-of-type {\n",
       "        vertical-align: middle;\n",
       "    }\n",
       "\n",
       "    .dataframe tbody tr th {\n",
       "        vertical-align: top;\n",
       "    }\n",
       "\n",
       "    .dataframe thead th {\n",
       "        text-align: right;\n",
       "    }\n",
       "</style>\n",
       "<table border=\"1\" class=\"dataframe\">\n",
       "  <thead>\n",
       "    <tr style=\"text-align: right;\">\n",
       "      <th></th>\n",
       "      <th>load_forecast</th>\n",
       "      <th>coal_power_available</th>\n",
       "      <th>gas_power_available</th>\n",
       "      <th>nucelear_power_available</th>\n",
       "      <th>wind_power_forecasts_average</th>\n",
       "      <th>solar_power_forecasts_average</th>\n",
       "      <th>wind_power_forecasts_std</th>\n",
       "      <th>solar_power_forecasts_std</th>\n",
       "      <th>predicted_spot_price</th>\n",
       "    </tr>\n",
       "  </thead>\n",
       "  <tbody>\n",
       "    <tr>\n",
       "      <th>count</th>\n",
       "      <td>6519.000000</td>\n",
       "      <td>7387.000000</td>\n",
       "      <td>7387.000000</td>\n",
       "      <td>7387.000000</td>\n",
       "      <td>7387.000000</td>\n",
       "      <td>7387.000000</td>\n",
       "      <td>7387.000000</td>\n",
       "      <td>7387.000000</td>\n",
       "      <td>1279.000000</td>\n",
       "    </tr>\n",
       "    <tr>\n",
       "      <th>mean</th>\n",
       "      <td>53922.938027</td>\n",
       "      <td>2828.026262</td>\n",
       "      <td>11468.501015</td>\n",
       "      <td>35486.366455</td>\n",
       "      <td>4549.369297</td>\n",
       "      <td>1906.215514</td>\n",
       "      <td>126.730776</td>\n",
       "      <td>25.380678</td>\n",
       "      <td>140.828389</td>\n",
       "    </tr>\n",
       "    <tr>\n",
       "      <th>std</th>\n",
       "      <td>11294.635350</td>\n",
       "      <td>491.901064</td>\n",
       "      <td>483.773296</td>\n",
       "      <td>7616.369208</td>\n",
       "      <td>3346.152787</td>\n",
       "      <td>2694.408002</td>\n",
       "      <td>129.816870</td>\n",
       "      <td>44.016714</td>\n",
       "      <td>34.294975</td>\n",
       "    </tr>\n",
       "    <tr>\n",
       "      <th>min</th>\n",
       "      <td>30515.000000</td>\n",
       "      <td>1646.000000</td>\n",
       "      <td>9769.000000</td>\n",
       "      <td>22285.000000</td>\n",
       "      <td>592.000000</td>\n",
       "      <td>0.000000</td>\n",
       "      <td>1.830211</td>\n",
       "      <td>0.000000</td>\n",
       "      <td>42.420000</td>\n",
       "    </tr>\n",
       "    <tr>\n",
       "      <th>25%</th>\n",
       "      <td>45548.000000</td>\n",
       "      <td>2226.000000</td>\n",
       "      <td>11140.000000</td>\n",
       "      <td>29075.000000</td>\n",
       "      <td>2068.500000</td>\n",
       "      <td>0.000000</td>\n",
       "      <td>47.162420</td>\n",
       "      <td>0.000000</td>\n",
       "      <td>120.365000</td>\n",
       "    </tr>\n",
       "    <tr>\n",
       "      <th>50%</th>\n",
       "      <td>52084.000000</td>\n",
       "      <td>2806.000000</td>\n",
       "      <td>11487.000000</td>\n",
       "      <td>32540.000000</td>\n",
       "      <td>3364.000000</td>\n",
       "      <td>152.000000</td>\n",
       "      <td>87.456376</td>\n",
       "      <td>3.531372</td>\n",
       "      <td>140.540000</td>\n",
       "    </tr>\n",
       "    <tr>\n",
       "      <th>75%</th>\n",
       "      <td>62201.000000</td>\n",
       "      <td>3386.000000</td>\n",
       "      <td>11945.000000</td>\n",
       "      <td>43180.000000</td>\n",
       "      <td>6039.500000</td>\n",
       "      <td>3468.000000</td>\n",
       "      <td>157.424757</td>\n",
       "      <td>35.399240</td>\n",
       "      <td>162.105000</td>\n",
       "    </tr>\n",
       "    <tr>\n",
       "      <th>max</th>\n",
       "      <td>85145.000000</td>\n",
       "      <td>3386.000000</td>\n",
       "      <td>11963.000000</td>\n",
       "      <td>50122.000000</td>\n",
       "      <td>15066.000000</td>\n",
       "      <td>10127.000000</td>\n",
       "      <td>1564.336345</td>\n",
       "      <td>745.261316</td>\n",
       "      <td>254.190000</td>\n",
       "    </tr>\n",
       "  </tbody>\n",
       "</table>\n",
       "</div>"
      ],
      "text/plain": [
       "       load_forecast  coal_power_available  gas_power_available  \\\n",
       "count    6519.000000           7387.000000          7387.000000   \n",
       "mean    53922.938027           2828.026262         11468.501015   \n",
       "std     11294.635350            491.901064           483.773296   \n",
       "min     30515.000000           1646.000000          9769.000000   \n",
       "25%     45548.000000           2226.000000         11140.000000   \n",
       "50%     52084.000000           2806.000000         11487.000000   \n",
       "75%     62201.000000           3386.000000         11945.000000   \n",
       "max     85145.000000           3386.000000         11963.000000   \n",
       "\n",
       "       nucelear_power_available  wind_power_forecasts_average  \\\n",
       "count               7387.000000                   7387.000000   \n",
       "mean               35486.366455                   4549.369297   \n",
       "std                 7616.369208                   3346.152787   \n",
       "min                22285.000000                    592.000000   \n",
       "25%                29075.000000                   2068.500000   \n",
       "50%                32540.000000                   3364.000000   \n",
       "75%                43180.000000                   6039.500000   \n",
       "max                50122.000000                  15066.000000   \n",
       "\n",
       "       solar_power_forecasts_average  wind_power_forecasts_std  \\\n",
       "count                    7387.000000               7387.000000   \n",
       "mean                     1906.215514                126.730776   \n",
       "std                      2694.408002                129.816870   \n",
       "min                         0.000000                  1.830211   \n",
       "25%                         0.000000                 47.162420   \n",
       "50%                       152.000000                 87.456376   \n",
       "75%                      3468.000000                157.424757   \n",
       "max                     10127.000000               1564.336345   \n",
       "\n",
       "       solar_power_forecasts_std  predicted_spot_price  \n",
       "count                7387.000000           1279.000000  \n",
       "mean                   25.380678            140.828389  \n",
       "std                    44.016714             34.294975  \n",
       "min                     0.000000             42.420000  \n",
       "25%                     0.000000            120.365000  \n",
       "50%                     3.531372            140.540000  \n",
       "75%                    35.399240            162.105000  \n",
       "max                   745.261316            254.190000  "
      ]
     },
     "execution_count": 5,
     "metadata": {},
     "output_type": "execute_result"
    }
   ],
   "source": [
    "X_train.describe()"
   ]
  },
  {
   "cell_type": "code",
   "execution_count": 6,
   "metadata": {},
   "outputs": [
    {
     "data": {
      "text/html": [
       "<div>\n",
       "<style scoped>\n",
       "    .dataframe tbody tr th:only-of-type {\n",
       "        vertical-align: middle;\n",
       "    }\n",
       "\n",
       "    .dataframe tbody tr th {\n",
       "        vertical-align: top;\n",
       "    }\n",
       "\n",
       "    .dataframe thead th {\n",
       "        text-align: right;\n",
       "    }\n",
       "</style>\n",
       "<table border=\"1\" class=\"dataframe\">\n",
       "  <thead>\n",
       "    <tr style=\"text-align: right;\">\n",
       "      <th></th>\n",
       "      <th>DELIVERY_START</th>\n",
       "      <th>spot_id_delta</th>\n",
       "    </tr>\n",
       "  </thead>\n",
       "  <tbody>\n",
       "    <tr>\n",
       "      <th>4516</th>\n",
       "      <td>2022-07-15 06:00:00+02:00</td>\n",
       "      <td>20.659531</td>\n",
       "    </tr>\n",
       "    <tr>\n",
       "      <th>452</th>\n",
       "      <td>2022-01-19 22:00:00+01:00</td>\n",
       "      <td>1.461511</td>\n",
       "    </tr>\n",
       "    <tr>\n",
       "      <th>4136</th>\n",
       "      <td>2022-06-29 10:00:00+02:00</td>\n",
       "      <td>11.289694</td>\n",
       "    </tr>\n",
       "    <tr>\n",
       "      <th>5440</th>\n",
       "      <td>2022-08-22 18:00:00+02:00</td>\n",
       "      <td>25.537520</td>\n",
       "    </tr>\n",
       "    <tr>\n",
       "      <th>9162</th>\n",
       "      <td>2023-01-27 20:00:00+01:00</td>\n",
       "      <td>-7.382322</td>\n",
       "    </tr>\n",
       "  </tbody>\n",
       "</table>\n",
       "</div>"
      ],
      "text/plain": [
       "                 DELIVERY_START  spot_id_delta\n",
       "4516  2022-07-15 06:00:00+02:00      20.659531\n",
       "452   2022-01-19 22:00:00+01:00       1.461511\n",
       "4136  2022-06-29 10:00:00+02:00      11.289694\n",
       "5440  2022-08-22 18:00:00+02:00      25.537520\n",
       "9162  2023-01-27 20:00:00+01:00      -7.382322"
      ]
     },
     "execution_count": 6,
     "metadata": {},
     "output_type": "execute_result"
    }
   ],
   "source": [
    "y_train.head()"
   ]
  },
  {
   "cell_type": "code",
   "execution_count": 7,
   "metadata": {},
   "outputs": [
    {
     "data": {
      "text/html": [
       "<div>\n",
       "<style scoped>\n",
       "    .dataframe tbody tr th:only-of-type {\n",
       "        vertical-align: middle;\n",
       "    }\n",
       "\n",
       "    .dataframe tbody tr th {\n",
       "        vertical-align: top;\n",
       "    }\n",
       "\n",
       "    .dataframe thead th {\n",
       "        text-align: right;\n",
       "    }\n",
       "</style>\n",
       "<table border=\"1\" class=\"dataframe\">\n",
       "  <thead>\n",
       "    <tr style=\"text-align: right;\">\n",
       "      <th></th>\n",
       "      <th>spot_id_delta</th>\n",
       "    </tr>\n",
       "  </thead>\n",
       "  <tbody>\n",
       "    <tr>\n",
       "      <th>count</th>\n",
       "      <td>7387.000000</td>\n",
       "    </tr>\n",
       "    <tr>\n",
       "      <th>mean</th>\n",
       "      <td>0.296400</td>\n",
       "    </tr>\n",
       "    <tr>\n",
       "      <th>std</th>\n",
       "      <td>39.281045</td>\n",
       "    </tr>\n",
       "    <tr>\n",
       "      <th>min</th>\n",
       "      <td>-1567.353547</td>\n",
       "    </tr>\n",
       "    <tr>\n",
       "      <th>25%</th>\n",
       "      <td>-12.032543</td>\n",
       "    </tr>\n",
       "    <tr>\n",
       "      <th>50%</th>\n",
       "      <td>-0.234599</td>\n",
       "    </tr>\n",
       "    <tr>\n",
       "      <th>75%</th>\n",
       "      <td>11.731071</td>\n",
       "    </tr>\n",
       "    <tr>\n",
       "      <th>max</th>\n",
       "      <td>415.819924</td>\n",
       "    </tr>\n",
       "  </tbody>\n",
       "</table>\n",
       "</div>"
      ],
      "text/plain": [
       "       spot_id_delta\n",
       "count    7387.000000\n",
       "mean        0.296400\n",
       "std        39.281045\n",
       "min     -1567.353547\n",
       "25%       -12.032543\n",
       "50%        -0.234599\n",
       "75%        11.731071\n",
       "max       415.819924"
      ]
     },
     "execution_count": 7,
     "metadata": {},
     "output_type": "execute_result"
    }
   ],
   "source": [
    "y_train.describe()"
   ]
  },
  {
   "cell_type": "code",
   "execution_count": 8,
   "metadata": {},
   "outputs": [
    {
     "data": {
      "text/html": [
       "<div>\n",
       "<style scoped>\n",
       "    .dataframe tbody tr th:only-of-type {\n",
       "        vertical-align: middle;\n",
       "    }\n",
       "\n",
       "    .dataframe tbody tr th {\n",
       "        vertical-align: top;\n",
       "    }\n",
       "\n",
       "    .dataframe thead th {\n",
       "        text-align: right;\n",
       "    }\n",
       "</style>\n",
       "<table border=\"1\" class=\"dataframe\">\n",
       "  <thead>\n",
       "    <tr style=\"text-align: right;\">\n",
       "      <th></th>\n",
       "      <th>DELIVERY_START</th>\n",
       "      <th>load_forecast</th>\n",
       "      <th>coal_power_available</th>\n",
       "      <th>gas_power_available</th>\n",
       "      <th>nucelear_power_available</th>\n",
       "      <th>wind_power_forecasts_average</th>\n",
       "      <th>solar_power_forecasts_average</th>\n",
       "      <th>wind_power_forecasts_std</th>\n",
       "      <th>solar_power_forecasts_std</th>\n",
       "      <th>predicted_spot_price</th>\n",
       "    </tr>\n",
       "  </thead>\n",
       "  <tbody>\n",
       "    <tr>\n",
       "      <th>1974</th>\n",
       "      <td>2022-03-25 23:00:00+01:00</td>\n",
       "      <td>52535.0</td>\n",
       "      <td>3386.0</td>\n",
       "      <td>11952.0</td>\n",
       "      <td>31705.0</td>\n",
       "      <td>6856.0</td>\n",
       "      <td>0.0</td>\n",
       "      <td>358.609320</td>\n",
       "      <td>0.000000</td>\n",
       "      <td>NaN</td>\n",
       "    </tr>\n",
       "    <tr>\n",
       "      <th>2086</th>\n",
       "      <td>2022-04-02 00:00:00+02:00</td>\n",
       "      <td>59705.0</td>\n",
       "      <td>2806.0</td>\n",
       "      <td>11567.0</td>\n",
       "      <td>31380.0</td>\n",
       "      <td>10255.0</td>\n",
       "      <td>0.0</td>\n",
       "      <td>74.807837</td>\n",
       "      <td>0.000000</td>\n",
       "      <td>NaN</td>\n",
       "    </tr>\n",
       "    <tr>\n",
       "      <th>1361</th>\n",
       "      <td>2022-02-28 10:00:00+01:00</td>\n",
       "      <td>70804.0</td>\n",
       "      <td>3386.0</td>\n",
       "      <td>11952.0</td>\n",
       "      <td>43290.0</td>\n",
       "      <td>2124.0</td>\n",
       "      <td>5684.0</td>\n",
       "      <td>15.866374</td>\n",
       "      <td>27.841991</td>\n",
       "      <td>NaN</td>\n",
       "    </tr>\n",
       "    <tr>\n",
       "      <th>2216</th>\n",
       "      <td>2022-04-07 10:00:00+02:00</td>\n",
       "      <td>61938.0</td>\n",
       "      <td>2226.0</td>\n",
       "      <td>11567.0</td>\n",
       "      <td>32275.0</td>\n",
       "      <td>13554.0</td>\n",
       "      <td>2510.0</td>\n",
       "      <td>26.566232</td>\n",
       "      <td>37.130929</td>\n",
       "      <td>NaN</td>\n",
       "    </tr>\n",
       "    <tr>\n",
       "      <th>8812</th>\n",
       "      <td>2023-01-13 06:00:00+01:00</td>\n",
       "      <td>55721.0</td>\n",
       "      <td>3386.0</td>\n",
       "      <td>11945.0</td>\n",
       "      <td>46265.0</td>\n",
       "      <td>12888.0</td>\n",
       "      <td>0.0</td>\n",
       "      <td>59.904308</td>\n",
       "      <td>0.000000</td>\n",
       "      <td>78.88</td>\n",
       "    </tr>\n",
       "  </tbody>\n",
       "</table>\n",
       "</div>"
      ],
      "text/plain": [
       "                 DELIVERY_START  load_forecast  coal_power_available  \\\n",
       "1974  2022-03-25 23:00:00+01:00        52535.0                3386.0   \n",
       "2086  2022-04-02 00:00:00+02:00        59705.0                2806.0   \n",
       "1361  2022-02-28 10:00:00+01:00        70804.0                3386.0   \n",
       "2216  2022-04-07 10:00:00+02:00        61938.0                2226.0   \n",
       "8812  2023-01-13 06:00:00+01:00        55721.0                3386.0   \n",
       "\n",
       "      gas_power_available  nucelear_power_available  \\\n",
       "1974              11952.0                   31705.0   \n",
       "2086              11567.0                   31380.0   \n",
       "1361              11952.0                   43290.0   \n",
       "2216              11567.0                   32275.0   \n",
       "8812              11945.0                   46265.0   \n",
       "\n",
       "      wind_power_forecasts_average  solar_power_forecasts_average  \\\n",
       "1974                        6856.0                            0.0   \n",
       "2086                       10255.0                            0.0   \n",
       "1361                        2124.0                         5684.0   \n",
       "2216                       13554.0                         2510.0   \n",
       "8812                       12888.0                            0.0   \n",
       "\n",
       "      wind_power_forecasts_std  solar_power_forecasts_std  \\\n",
       "1974                358.609320                   0.000000   \n",
       "2086                 74.807837                   0.000000   \n",
       "1361                 15.866374                  27.841991   \n",
       "2216                 26.566232                  37.130929   \n",
       "8812                 59.904308                   0.000000   \n",
       "\n",
       "      predicted_spot_price  \n",
       "1974                   NaN  \n",
       "2086                   NaN  \n",
       "1361                   NaN  \n",
       "2216                   NaN  \n",
       "8812                 78.88  "
      ]
     },
     "execution_count": 8,
     "metadata": {},
     "output_type": "execute_result"
    }
   ],
   "source": [
    "X_test.head()"
   ]
  },
  {
   "cell_type": "markdown",
   "metadata": {},
   "source": [
    "# Data analysis\n",
    "\n",
    "Représentation graphique des données de test de notre modèle :\n",
    "\n",
    "## 1) Histogramme des données d'apprentissage"
   ]
  },
  {
   "cell_type": "code",
   "execution_count": 9,
   "metadata": {},
   "outputs": [
    {
     "data": {
      "text/plain": [
       "array([[<AxesSubplot:title={'center':'load_forecast'}>,\n",
       "        <AxesSubplot:title={'center':'coal_power_available'}>,\n",
       "        <AxesSubplot:title={'center':'gas_power_available'}>],\n",
       "       [<AxesSubplot:title={'center':'nucelear_power_available'}>,\n",
       "        <AxesSubplot:title={'center':'wind_power_forecasts_average'}>,\n",
       "        <AxesSubplot:title={'center':'solar_power_forecasts_average'}>],\n",
       "       [<AxesSubplot:title={'center':'wind_power_forecasts_std'}>,\n",
       "        <AxesSubplot:title={'center':'solar_power_forecasts_std'}>,\n",
       "        <AxesSubplot:title={'center':'predicted_spot_price'}>]],\n",
       "      dtype=object)"
      ]
     },
     "execution_count": 9,
     "metadata": {},
     "output_type": "execute_result"
    },
    {
     "data": {
      "image/png": "[encoded data removed]",
      "text/plain": [
       "<Figure size 1152x1440 with 9 Axes>"
      ]
     },
     "metadata": {
      "needs_background": "light"
     },
     "output_type": "display_data"
    }
   ],
   "source": [
    "X_test.hist(figsize=(16, 20), bins=50, xlabelsize=8, ylabelsize=8)"
   ]
  },
  {
   "cell_type": "markdown",
   "metadata": {},
   "source": [
    "## 2) Répartition des *spot_id_delta* dans *y_train*"
   ]
  },
  {
   "cell_type": "code",
   "execution_count": 10,
   "metadata": {},
   "outputs": [
    {
     "name": "stderr",
     "output_type": "stream",
     "text": [
      "C:\\Users\\matte\\anaconda3\\lib\\site-packages\\seaborn\\distributions.py:2557: FutureWarning: `distplot` is a deprecated function and will be removed in a future version. Please adapt your code to use either `displot` (a figure-level function with similar flexibility) or `histplot` (an axes-level function for histograms).\n",
      "  warnings.warn(msg, FutureWarning)\n"
     ]
    },
    {
     "data": {
      "text/plain": [
       "<AxesSubplot:xlabel='spot_id_delta', ylabel='Density'>"
      ]
     },
     "execution_count": 10,
     "metadata": {},
     "output_type": "execute_result"
    },
    {
     "data": {
      "image/png": "[encoded data removed]",
      "text/plain": [
       "<Figure size 720x360 with 1 Axes>"
      ]
     },
     "metadata": {
      "needs_background": "light"
     },
     "output_type": "display_data"
    }
   ],
   "source": [
    "plt.figure(figsize=(10, 5))\n",
    "sns.distplot(y_train['spot_id_delta'], color='g', bins=1000, hist_kws={'alpha': 0.4})"
   ]
  },
  {
   "cell_type": "markdown",
   "metadata": {},
   "source": [
    "## 3) Corrélation générale entre les paramètres du modèle :"
   ]
  },
  {
   "cell_type": "code",
   "execution_count": 11,
   "metadata": {},
   "outputs": [
    {
     "data": {
      "image/png": "[encoded data removed]",
      "text/plain": [
       "<Figure size 432x288 with 2 Axes>"
      ]
     },
     "metadata": {
      "needs_background": "light"
     },
     "output_type": "display_data"
    }
   ],
   "source": [
    "df = pd.merge(X_train, y_train, on='DELIVERY_START', how='inner')\n",
    "tab=df.corr()\n",
    "fig, ax = plt.subplots()\n",
    "im = ax.pcolor(tab, cmap='RdBu')\n",
    "row_labels = tab.columns\n",
    "col_labels = tab.index\n",
    "ax.set_xticks(np.arange(tab.shape[1])+0.5, minor= False)\n",
    "ax.set_yticks(np.arange(tab.shape[0])+0.5, minor= False)\n",
    "ax.set_xticklabels(row_labels, minor = False)\n",
    "ax.set_yticklabels(col_labels, minor = False)\n",
    "plt.xticks(rotation=90)\n",
    "fig.colorbar(im)\n",
    "plt.show()"
   ]
  },
  {
   "cell_type": "markdown",
   "metadata": {},
   "source": [
    "# Data cleaning\n",
    "\n",
    "On s'intéresse ici à la présence de nombreuses valeurs NaN. Ces valeurs représentent un vrai manque pour l'entraînement de notre modèle car elles sont majoritairement situées sur les données très corrélées avec le *spot_id_delta*.\n",
    "\n",
    "## 1) Valeurs aberrantes dans *y_train*\n",
    "\n",
    "Comme vu lors de la partie Data Analysis, certaines des valeurs de *y_train* (3) ont des valeurs très éloignées des autres. On s'occupe donc ici de retirer ces valeurs qui ne semblent pas cohérentes pour notre modèle :"
   ]
  },
  {
   "cell_type": "code",
   "execution_count": 12,
   "metadata": {},
   "outputs": [
    {
     "name": "stdout",
     "output_type": "stream",
     "text": [
      "7385\n",
      "7385\n"
     ]
    }
   ],
   "source": [
    "threshold = 600\n",
    "\n",
    "eliminated_starts = y_train[abs(y_train['spot_id_delta']) - threshold >= 0].DELIVERY_START\n",
    "\n",
    "y_train = y_train[~y_train['DELIVERY_START'].isin(eliminated_starts)] # on ne sélectionne que les valeurs qui ne correspondent pas aux dates enlevées\n",
    "X_train = X_train[~X_train['DELIVERY_START'].isin(eliminated_starts)] # de même ici pour être cohérent sur le nombre de lignes\n",
    "\n",
    "print(len(y_train))\n",
    "print(len(X_train))"
   ]
  },
  {
   "cell_type": "code",
   "execution_count": 13,
   "metadata": {},
   "outputs": [
    {
     "data": {
      "text/plain": [
       "2"
      ]
     },
     "execution_count": 13,
     "metadata": {},
     "output_type": "execute_result"
    }
   ],
   "source": [
    "eliminated_starts.size"
   ]
  },
  {
   "cell_type": "markdown",
   "metadata": {},
   "source": [
    "## 2) Prédiction de *load_forecast*\n",
    "\n",
    "Il y a environ 1500 données manquantes, que l'on va prédire à l'aide d'un modèle de régression Ridge:"
   ]
  },
  {
   "cell_type": "code",
   "execution_count": 14,
   "metadata": {
    "scrolled": true
   },
   "outputs": [
    {
     "data": {
      "text/plain": [
       "<AxesSubplot:>"
      ]
     },
     "execution_count": 14,
     "metadata": {},
     "output_type": "execute_result"
    },
    {
     "data": {
      "image/png": "[encoded data removed]",
      "text/plain": [
       "<Figure size 432x288 with 1 Axes>"
      ]
     },
     "metadata": {
      "needs_background": "light"
     },
     "output_type": "display_data"
    }
   ],
   "source": [
    "sns.heatmap(X_train.isna(),cbar=False)"
   ]
  },
  {
   "cell_type": "code",
   "execution_count": 15,
   "metadata": {},
   "outputs": [],
   "source": [
    "predicted_spot_price_train = X_train['predicted_spot_price']\n",
    "predicted_spot_price_rendu = X_rendu['predicted_spot_price']"
   ]
  },
  {
   "cell_type": "code",
   "execution_count": 16,
   "metadata": {},
   "outputs": [
    {
     "name": "stdout",
     "output_type": "stream",
     "text": [
      "linear regression score:  0.6634290739985632\n",
      "gradient boosting regression score:  0.7854499329545064\n",
      "random forest regression score:  0.8815121453552278\n"
     ]
    }
   ],
   "source": [
    "from sklearn.ensemble import GradientBoostingRegressor\n",
    "from sklearn.ensemble import RandomForestRegressor\n",
    "\n",
    "y_load = X_train.dropna(subset=['load_forecast'])['load_forecast']\n",
    "X_load = X_train.dropna(subset=['load_forecast'])\n",
    "X_load = X_load.loc[:, X_load.columns != 'predicted_spot_price']\n",
    "X_load = X_load.loc[:, X_load.columns != 'load_forecast']\n",
    "\n",
    "X_train_load, X_test_load, y_train_load, y_test_load = train_test_split(X_load, y_load, test_size=0.3)\n",
    "\n",
    "clf = LinearRegression()\n",
    "clf.fit(X_train_load.set_index('DELIVERY_START'), y_train_load)\n",
    "print('linear regression score: ', clf.score(X_test_load.set_index('DELIVERY_START'), y_test_load))\n",
    "\n",
    "clf = GradientBoostingRegressor()\n",
    "clf.fit(X_train_load.set_index('DELIVERY_START'), y_train_load)\n",
    "print('gradient boosting regression score: ', clf.score(X_test_load.set_index('DELIVERY_START'), y_test_load))\n",
    "\n",
    "clf = RandomForestRegressor()\n",
    "clf.fit(X_train_load.set_index('DELIVERY_START'), y_train_load)\n",
    "print('random forest regression score: ', clf.score(X_test_load.set_index('DELIVERY_START'), y_test_load))"
   ]
  },
  {
   "cell_type": "markdown",
   "metadata": {},
   "source": [
    "\n",
    "On choisit donc ici la régression ayant le meilleur score : Random Forest. On peut maintenant prédire les valeurs manquantes pour le *load_forecast* :"
   ]
  },
  {
   "cell_type": "code",
   "execution_count": 17,
   "metadata": {},
   "outputs": [
    {
     "name": "stdout",
     "output_type": "stream",
     "text": [
      "                 DELIVERY_START  load_forecast  coal_power_available  \\\n",
      "0     2023-04-02 00:00:00+02:00        45814.0                3386.0   \n",
      "1     2023-04-02 01:00:00+02:00        44084.0                3386.0   \n",
      "2     2023-04-02 02:00:00+02:00        43281.0                3386.0   \n",
      "3     2023-04-02 03:00:00+02:00        40825.0                3386.0   \n",
      "4     2023-04-02 04:00:00+02:00        39181.0                3386.0   \n",
      "...                         ...            ...                   ...   \n",
      "4937  2023-10-24 19:00:00+02:00        49686.0                2226.0   \n",
      "4938  2023-10-24 20:00:00+02:00        53397.0                2226.0   \n",
      "4939  2023-10-24 21:00:00+02:00        50586.0                2226.0   \n",
      "4940  2023-10-24 22:00:00+02:00        46777.0                2226.0   \n",
      "4941  2023-10-24 23:00:00+02:00        46380.0                2226.0   \n",
      "\n",
      "      gas_power_available  nucelear_power_available  \\\n",
      "0                 10902.0                   36705.0   \n",
      "1                 10902.0                   36705.0   \n",
      "2                 10902.0                   36705.0   \n",
      "3                 10902.0                   36705.0   \n",
      "4                 10902.0                   36705.0   \n",
      "...                   ...                       ...   \n",
      "4937              11749.0                   42980.0   \n",
      "4938              11749.0                   42980.0   \n",
      "4939              11749.0                   42980.0   \n",
      "4940              11749.0                   42980.0   \n",
      "4941              11749.0                   42980.0   \n",
      "\n",
      "      wind_power_forecasts_average  solar_power_forecasts_average  \\\n",
      "0                           6359.0                            0.0   \n",
      "1                           6469.0                            0.0   \n",
      "2                           6511.0                            0.0   \n",
      "3                           6628.0                            0.0   \n",
      "4                           6700.0                            0.0   \n",
      "...                            ...                            ...   \n",
      "4937                        4901.0                            0.0   \n",
      "4938                        5584.0                            0.0   \n",
      "4939                        6306.0                            0.0   \n",
      "4940                        6959.0                            0.0   \n",
      "4941                        7444.0                            0.0   \n",
      "\n",
      "      wind_power_forecasts_std  solar_power_forecasts_std  \\\n",
      "0                    56.764535                        0.0   \n",
      "1                    54.262133                        0.0   \n",
      "2                    78.105928                        0.0   \n",
      "3                    78.187557                        0.0   \n",
      "4                    96.765484                        0.0   \n",
      "...                        ...                        ...   \n",
      "4937                247.887323                        0.0   \n",
      "4938                343.192642                        0.0   \n",
      "4939                471.875973                        0.0   \n",
      "4940                595.528100                        0.0   \n",
      "4941                675.624809                        0.0   \n",
      "\n",
      "      predicted_spot_price  \n",
      "0                      NaN  \n",
      "1                      NaN  \n",
      "2                      NaN  \n",
      "3                      NaN  \n",
      "4                      NaN  \n",
      "...                    ...  \n",
      "4937                125.67  \n",
      "4938                139.58  \n",
      "4939                147.93  \n",
      "4940                122.20  \n",
      "4941                105.12  \n",
      "\n",
      "[4942 rows x 10 columns]\n"
     ]
    },
    {
     "ename": "ValueError",
     "evalue": "Found array with 0 sample(s) (shape=(0, 7)) while a minimum of 1 is required.",
     "output_type": "error",
     "traceback": [
      "\u001b[1;31m---------------------------------------------------------------------------\u001b[0m",
      "\u001b[1;31mValueError\u001b[0m                                Traceback (most recent call last)",
      "\u001b[1;32m<ipython-input-17-a9f6e94ce130>\u001b[0m in \u001b[0;36m<module>\u001b[1;34m\u001b[0m\n\u001b[0;32m     13\u001b[0m \u001b[0mX_predict_load\u001b[0m\u001b[1;33m.\u001b[0m\u001b[0minsert\u001b[0m\u001b[1;33m(\u001b[0m\u001b[1;36m9\u001b[0m\u001b[1;33m,\u001b[0m \u001b[1;34m'predicted_spot_price'\u001b[0m\u001b[1;33m,\u001b[0m \u001b[0mpredicted_spot_price1\u001b[0m\u001b[1;33m)\u001b[0m\u001b[1;33m\u001b[0m\u001b[1;33m\u001b[0m\u001b[0m\n\u001b[0;32m     14\u001b[0m \u001b[1;33m\u001b[0m\u001b[0m\n\u001b[1;32m---> 15\u001b[1;33m \u001b[0mX_predict_load_rendu\u001b[0m\u001b[1;33m.\u001b[0m\u001b[0minsert\u001b[0m\u001b[1;33m(\u001b[0m\u001b[1;36m1\u001b[0m\u001b[1;33m,\u001b[0m \u001b[1;34m'load_forecast'\u001b[0m\u001b[1;33m,\u001b[0m \u001b[0mclf\u001b[0m\u001b[1;33m.\u001b[0m\u001b[0mpredict\u001b[0m\u001b[1;33m(\u001b[0m\u001b[0mX_predict_load_rendu\u001b[0m\u001b[1;33m.\u001b[0m\u001b[0mset_index\u001b[0m\u001b[1;33m(\u001b[0m\u001b[1;34m'DELIVERY_START'\u001b[0m\u001b[1;33m)\u001b[0m\u001b[1;33m)\u001b[0m\u001b[1;33m)\u001b[0m\u001b[1;33m\u001b[0m\u001b[1;33m\u001b[0m\u001b[0m\n\u001b[0m\u001b[0;32m     16\u001b[0m \u001b[0mX_predict_load_rendu\u001b[0m\u001b[1;33m.\u001b[0m\u001b[0minsert\u001b[0m\u001b[1;33m(\u001b[0m\u001b[1;36m9\u001b[0m\u001b[1;33m,\u001b[0m \u001b[1;34m'predicted_spot_price'\u001b[0m\u001b[1;33m,\u001b[0m \u001b[0mpredicted_spot_price2\u001b[0m\u001b[1;33m)\u001b[0m\u001b[1;33m\u001b[0m\u001b[1;33m\u001b[0m\u001b[0m\n\u001b[0;32m     17\u001b[0m \u001b[1;33m\u001b[0m\u001b[0m\n",
      "\u001b[1;32m~\\anaconda3\\lib\\site-packages\\sklearn\\ensemble\\_forest.py\u001b[0m in \u001b[0;36mpredict\u001b[1;34m(self, X)\u001b[0m\n\u001b[0;32m    782\u001b[0m         \u001b[0mcheck_is_fitted\u001b[0m\u001b[1;33m(\u001b[0m\u001b[0mself\u001b[0m\u001b[1;33m)\u001b[0m\u001b[1;33m\u001b[0m\u001b[1;33m\u001b[0m\u001b[0m\n\u001b[0;32m    783\u001b[0m         \u001b[1;31m# Check data\u001b[0m\u001b[1;33m\u001b[0m\u001b[1;33m\u001b[0m\u001b[1;33m\u001b[0m\u001b[0m\n\u001b[1;32m--> 784\u001b[1;33m         \u001b[0mX\u001b[0m \u001b[1;33m=\u001b[0m \u001b[0mself\u001b[0m\u001b[1;33m.\u001b[0m\u001b[0m_validate_X_predict\u001b[0m\u001b[1;33m(\u001b[0m\u001b[0mX\u001b[0m\u001b[1;33m)\u001b[0m\u001b[1;33m\u001b[0m\u001b[1;33m\u001b[0m\u001b[0m\n\u001b[0m\u001b[0;32m    785\u001b[0m \u001b[1;33m\u001b[0m\u001b[0m\n\u001b[0;32m    786\u001b[0m         \u001b[1;31m# Assign chunk of trees to jobs\u001b[0m\u001b[1;33m\u001b[0m\u001b[1;33m\u001b[0m\u001b[1;33m\u001b[0m\u001b[0m\n",
      "\u001b[1;32m~\\anaconda3\\lib\\site-packages\\sklearn\\ensemble\\_forest.py\u001b[0m in \u001b[0;36m_validate_X_predict\u001b[1;34m(self, X)\u001b[0m\n\u001b[0;32m    420\u001b[0m         \u001b[0mcheck_is_fitted\u001b[0m\u001b[1;33m(\u001b[0m\u001b[0mself\u001b[0m\u001b[1;33m)\u001b[0m\u001b[1;33m\u001b[0m\u001b[1;33m\u001b[0m\u001b[0m\n\u001b[0;32m    421\u001b[0m \u001b[1;33m\u001b[0m\u001b[0m\n\u001b[1;32m--> 422\u001b[1;33m         \u001b[1;32mreturn\u001b[0m \u001b[0mself\u001b[0m\u001b[1;33m.\u001b[0m\u001b[0mestimators_\u001b[0m\u001b[1;33m[\u001b[0m\u001b[1;36m0\u001b[0m\u001b[1;33m]\u001b[0m\u001b[1;33m.\u001b[0m\u001b[0m_validate_X_predict\u001b[0m\u001b[1;33m(\u001b[0m\u001b[0mX\u001b[0m\u001b[1;33m,\u001b[0m \u001b[0mcheck_input\u001b[0m\u001b[1;33m=\u001b[0m\u001b[1;32mTrue\u001b[0m\u001b[1;33m)\u001b[0m\u001b[1;33m\u001b[0m\u001b[1;33m\u001b[0m\u001b[0m\n\u001b[0m\u001b[0;32m    423\u001b[0m \u001b[1;33m\u001b[0m\u001b[0m\n\u001b[0;32m    424\u001b[0m     \u001b[1;33m@\u001b[0m\u001b[0mproperty\u001b[0m\u001b[1;33m\u001b[0m\u001b[1;33m\u001b[0m\u001b[0m\n",
      "\u001b[1;32m~\\anaconda3\\lib\\site-packages\\sklearn\\tree\\_classes.py\u001b[0m in \u001b[0;36m_validate_X_predict\u001b[1;34m(self, X, check_input)\u001b[0m\n\u001b[0;32m    400\u001b[0m         \u001b[1;34m\"\"\"Validate the training data on predict (probabilities).\"\"\"\u001b[0m\u001b[1;33m\u001b[0m\u001b[1;33m\u001b[0m\u001b[0m\n\u001b[0;32m    401\u001b[0m         \u001b[1;32mif\u001b[0m \u001b[0mcheck_input\u001b[0m\u001b[1;33m:\u001b[0m\u001b[1;33m\u001b[0m\u001b[1;33m\u001b[0m\u001b[0m\n\u001b[1;32m--> 402\u001b[1;33m             X = self._validate_data(X, dtype=DTYPE, accept_sparse=\"csr\",\n\u001b[0m\u001b[0;32m    403\u001b[0m                                     reset=False)\n\u001b[0;32m    404\u001b[0m             if issparse(X) and (X.indices.dtype != np.intc or\n",
      "\u001b[1;32m~\\anaconda3\\lib\\site-packages\\sklearn\\base.py\u001b[0m in \u001b[0;36m_validate_data\u001b[1;34m(self, X, y, reset, validate_separately, **check_params)\u001b[0m\n\u001b[0;32m    419\u001b[0m             \u001b[0mout\u001b[0m \u001b[1;33m=\u001b[0m \u001b[0mX\u001b[0m\u001b[1;33m\u001b[0m\u001b[1;33m\u001b[0m\u001b[0m\n\u001b[0;32m    420\u001b[0m         \u001b[1;32melif\u001b[0m \u001b[0misinstance\u001b[0m\u001b[1;33m(\u001b[0m\u001b[0my\u001b[0m\u001b[1;33m,\u001b[0m \u001b[0mstr\u001b[0m\u001b[1;33m)\u001b[0m \u001b[1;32mand\u001b[0m \u001b[0my\u001b[0m \u001b[1;33m==\u001b[0m \u001b[1;34m'no_validation'\u001b[0m\u001b[1;33m:\u001b[0m\u001b[1;33m\u001b[0m\u001b[1;33m\u001b[0m\u001b[0m\n\u001b[1;32m--> 421\u001b[1;33m             \u001b[0mX\u001b[0m \u001b[1;33m=\u001b[0m \u001b[0mcheck_array\u001b[0m\u001b[1;33m(\u001b[0m\u001b[0mX\u001b[0m\u001b[1;33m,\u001b[0m \u001b[1;33m**\u001b[0m\u001b[0mcheck_params\u001b[0m\u001b[1;33m)\u001b[0m\u001b[1;33m\u001b[0m\u001b[1;33m\u001b[0m\u001b[0m\n\u001b[0m\u001b[0;32m    422\u001b[0m             \u001b[0mout\u001b[0m \u001b[1;33m=\u001b[0m \u001b[0mX\u001b[0m\u001b[1;33m\u001b[0m\u001b[1;33m\u001b[0m\u001b[0m\n\u001b[0;32m    423\u001b[0m         \u001b[1;32melse\u001b[0m\u001b[1;33m:\u001b[0m\u001b[1;33m\u001b[0m\u001b[1;33m\u001b[0m\u001b[0m\n",
      "\u001b[1;32m~\\anaconda3\\lib\\site-packages\\sklearn\\utils\\validation.py\u001b[0m in \u001b[0;36minner_f\u001b[1;34m(*args, **kwargs)\u001b[0m\n\u001b[0;32m     61\u001b[0m             \u001b[0mextra_args\u001b[0m \u001b[1;33m=\u001b[0m \u001b[0mlen\u001b[0m\u001b[1;33m(\u001b[0m\u001b[0margs\u001b[0m\u001b[1;33m)\u001b[0m \u001b[1;33m-\u001b[0m \u001b[0mlen\u001b[0m\u001b[1;33m(\u001b[0m\u001b[0mall_args\u001b[0m\u001b[1;33m)\u001b[0m\u001b[1;33m\u001b[0m\u001b[1;33m\u001b[0m\u001b[0m\n\u001b[0;32m     62\u001b[0m             \u001b[1;32mif\u001b[0m \u001b[0mextra_args\u001b[0m \u001b[1;33m<=\u001b[0m \u001b[1;36m0\u001b[0m\u001b[1;33m:\u001b[0m\u001b[1;33m\u001b[0m\u001b[1;33m\u001b[0m\u001b[0m\n\u001b[1;32m---> 63\u001b[1;33m                 \u001b[1;32mreturn\u001b[0m \u001b[0mf\u001b[0m\u001b[1;33m(\u001b[0m\u001b[1;33m*\u001b[0m\u001b[0margs\u001b[0m\u001b[1;33m,\u001b[0m \u001b[1;33m**\u001b[0m\u001b[0mkwargs\u001b[0m\u001b[1;33m)\u001b[0m\u001b[1;33m\u001b[0m\u001b[1;33m\u001b[0m\u001b[0m\n\u001b[0m\u001b[0;32m     64\u001b[0m \u001b[1;33m\u001b[0m\u001b[0m\n\u001b[0;32m     65\u001b[0m             \u001b[1;31m# extra_args > 0\u001b[0m\u001b[1;33m\u001b[0m\u001b[1;33m\u001b[0m\u001b[1;33m\u001b[0m\u001b[0m\n",
      "\u001b[1;32m~\\anaconda3\\lib\\site-packages\\sklearn\\utils\\validation.py\u001b[0m in \u001b[0;36mcheck_array\u001b[1;34m(array, accept_sparse, accept_large_sparse, dtype, order, copy, force_all_finite, ensure_2d, allow_nd, ensure_min_samples, ensure_min_features, estimator)\u001b[0m\n\u001b[0;32m    667\u001b[0m         \u001b[0mn_samples\u001b[0m \u001b[1;33m=\u001b[0m \u001b[0m_num_samples\u001b[0m\u001b[1;33m(\u001b[0m\u001b[0marray\u001b[0m\u001b[1;33m)\u001b[0m\u001b[1;33m\u001b[0m\u001b[1;33m\u001b[0m\u001b[0m\n\u001b[0;32m    668\u001b[0m         \u001b[1;32mif\u001b[0m \u001b[0mn_samples\u001b[0m \u001b[1;33m<\u001b[0m \u001b[0mensure_min_samples\u001b[0m\u001b[1;33m:\u001b[0m\u001b[1;33m\u001b[0m\u001b[1;33m\u001b[0m\u001b[0m\n\u001b[1;32m--> 669\u001b[1;33m             raise ValueError(\"Found array with %d sample(s) (shape=%s) while a\"\n\u001b[0m\u001b[0;32m    670\u001b[0m                              \u001b[1;34m\" minimum of %d is required%s.\"\u001b[0m\u001b[1;33m\u001b[0m\u001b[1;33m\u001b[0m\u001b[0m\n\u001b[0;32m    671\u001b[0m                              % (n_samples, array.shape, ensure_min_samples,\n",
      "\u001b[1;31mValueError\u001b[0m: Found array with 0 sample(s) (shape=(0, 7)) while a minimum of 1 is required."
     ]
    }
   ],
   "source": [
    "X_predict_load = X_train[X_train['load_forecast'].isna()]\n",
    "predicted_spot_price1 = X_predict_load['predicted_spot_price']\n",
    "load_forecast1 = X_predict_load['load_forecast']\n",
    "X_predict_load = X_predict_load.loc[:, ~(X_predict_load.columns.isin(['predicted_spot_price', 'load_forecast']))]\n",
    "\n",
    "X_predict_load_rendu = X_rendu[X_rendu['load_forecast'].isna()]\n",
    "print(X_rendu)\n",
    "predicted_spot_price2 = X_predict_load_rendu['predicted_spot_price']\n",
    "load_forecast2 = X_predict_load_rendu['load_forecast']\n",
    "X_predict_load_rendu = X_predict_load_rendu.loc[:, ~(X_predict_load_rendu.columns.isin(['predicted_spot_price', 'load_forecast']))]\n",
    "\n",
    "X_predict_load.insert(1, 'load_forecast', clf.predict(X_predict_load.set_index('DELIVERY_START')))\n",
    "X_predict_load.insert(9, 'predicted_spot_price', predicted_spot_price1)\n",
    "\n",
    "X_predict_load_rendu.insert(1, 'load_forecast', clf.predict(X_predict_load_rendu.set_index('DELIVERY_START')))\n",
    "X_predict_load_rendu.insert(9, 'predicted_spot_price', predicted_spot_price2)"
   ]
  },
  {
   "cell_type": "code",
   "execution_count": 18,
   "metadata": {},
   "outputs": [
    {
     "data": {
      "text/html": [
       "<div>\n",
       "<style scoped>\n",
       "    .dataframe tbody tr th:only-of-type {\n",
       "        vertical-align: middle;\n",
       "    }\n",
       "\n",
       "    .dataframe tbody tr th {\n",
       "        vertical-align: top;\n",
       "    }\n",
       "\n",
       "    .dataframe thead th {\n",
       "        text-align: right;\n",
       "    }\n",
       "</style>\n",
       "<table border=\"1\" class=\"dataframe\">\n",
       "  <thead>\n",
       "    <tr style=\"text-align: right;\">\n",
       "      <th></th>\n",
       "      <th>DELIVERY_START</th>\n",
       "      <th>load_forecast</th>\n",
       "      <th>coal_power_available</th>\n",
       "      <th>gas_power_available</th>\n",
       "      <th>nucelear_power_available</th>\n",
       "      <th>wind_power_forecasts_average</th>\n",
       "      <th>solar_power_forecasts_average</th>\n",
       "      <th>wind_power_forecasts_std</th>\n",
       "      <th>solar_power_forecasts_std</th>\n",
       "      <th>predicted_spot_price</th>\n",
       "    </tr>\n",
       "  </thead>\n",
       "  <tbody>\n",
       "    <tr>\n",
       "      <th>452</th>\n",
       "      <td>2022-01-19 22:00:00+01:00</td>\n",
       "      <td>70957.0</td>\n",
       "      <td>3386.0</td>\n",
       "      <td>11487.0</td>\n",
       "      <td>49821.0</td>\n",
       "      <td>4783.0</td>\n",
       "      <td>0.0</td>\n",
       "      <td>262.145591</td>\n",
       "      <td>0.000000</td>\n",
       "      <td>NaN</td>\n",
       "    </tr>\n",
       "    <tr>\n",
       "      <th>4136</th>\n",
       "      <td>2022-06-29 10:00:00+02:00</td>\n",
       "      <td>50921.0</td>\n",
       "      <td>2226.0</td>\n",
       "      <td>10555.0</td>\n",
       "      <td>28620.0</td>\n",
       "      <td>975.0</td>\n",
       "      <td>6901.0</td>\n",
       "      <td>29.768661</td>\n",
       "      <td>19.272470</td>\n",
       "      <td>NaN</td>\n",
       "    </tr>\n",
       "    <tr>\n",
       "      <th>5440</th>\n",
       "      <td>2022-08-22 18:00:00+02:00</td>\n",
       "      <td>46075.0</td>\n",
       "      <td>2226.0</td>\n",
       "      <td>11060.0</td>\n",
       "      <td>26320.0</td>\n",
       "      <td>1919.0</td>\n",
       "      <td>2645.0</td>\n",
       "      <td>141.690169</td>\n",
       "      <td>56.861925</td>\n",
       "      <td>NaN</td>\n",
       "    </tr>\n",
       "    <tr>\n",
       "      <th>9162</th>\n",
       "      <td>2023-01-27 20:00:00+01:00</td>\n",
       "      <td>72628.0</td>\n",
       "      <td>3386.0</td>\n",
       "      <td>11945.0</td>\n",
       "      <td>44655.0</td>\n",
       "      <td>6839.0</td>\n",
       "      <td>0.0</td>\n",
       "      <td>363.769772</td>\n",
       "      <td>0.000000</td>\n",
       "      <td>199.06</td>\n",
       "    </tr>\n",
       "    <tr>\n",
       "      <th>153</th>\n",
       "      <td>2022-01-07 11:00:00+01:00</td>\n",
       "      <td>78583.0</td>\n",
       "      <td>3386.0</td>\n",
       "      <td>11487.0</td>\n",
       "      <td>47728.0</td>\n",
       "      <td>8171.0</td>\n",
       "      <td>2559.0</td>\n",
       "      <td>100.930265</td>\n",
       "      <td>12.044037</td>\n",
       "      <td>NaN</td>\n",
       "    </tr>\n",
       "  </tbody>\n",
       "</table>\n",
       "</div>"
      ],
      "text/plain": [
       "                 DELIVERY_START  load_forecast  coal_power_available  \\\n",
       "452   2022-01-19 22:00:00+01:00        70957.0                3386.0   \n",
       "4136  2022-06-29 10:00:00+02:00        50921.0                2226.0   \n",
       "5440  2022-08-22 18:00:00+02:00        46075.0                2226.0   \n",
       "9162  2023-01-27 20:00:00+01:00        72628.0                3386.0   \n",
       "153   2022-01-07 11:00:00+01:00        78583.0                3386.0   \n",
       "\n",
       "      gas_power_available  nucelear_power_available  \\\n",
       "452               11487.0                   49821.0   \n",
       "4136              10555.0                   28620.0   \n",
       "5440              11060.0                   26320.0   \n",
       "9162              11945.0                   44655.0   \n",
       "153               11487.0                   47728.0   \n",
       "\n",
       "      wind_power_forecasts_average  solar_power_forecasts_average  \\\n",
       "452                         4783.0                            0.0   \n",
       "4136                         975.0                         6901.0   \n",
       "5440                        1919.0                         2645.0   \n",
       "9162                        6839.0                            0.0   \n",
       "153                         8171.0                         2559.0   \n",
       "\n",
       "      wind_power_forecasts_std  solar_power_forecasts_std  \\\n",
       "452                 262.145591                   0.000000   \n",
       "4136                 29.768661                  19.272470   \n",
       "5440                141.690169                  56.861925   \n",
       "9162                363.769772                   0.000000   \n",
       "153                 100.930265                  12.044037   \n",
       "\n",
       "      predicted_spot_price  \n",
       "452                    NaN  \n",
       "4136                   NaN  \n",
       "5440                   NaN  \n",
       "9162                199.06  \n",
       "153                    NaN  "
      ]
     },
     "execution_count": 18,
     "metadata": {},
     "output_type": "execute_result"
    }
   ],
   "source": [
    "X_train = pd.concat([X_train[~X_train['load_forecast'].isna()], X_predict_load])\n",
    "X_rendu = pd.concat([X_rendu[~X_rendu['load_forecast'].isna()], X_predict_load_rendu])\n",
    "X_train.head()"
   ]
  },
  {
   "cell_type": "code",
   "execution_count": 19,
   "metadata": {},
   "outputs": [
    {
     "data": {
      "text/plain": [
       "count    1279.000000\n",
       "mean      140.828389\n",
       "std        34.294975\n",
       "min        42.420000\n",
       "25%       120.365000\n",
       "50%       140.540000\n",
       "75%       162.105000\n",
       "max       254.190000\n",
       "Name: predicted_spot_price, dtype: float64"
      ]
     },
     "execution_count": 19,
     "metadata": {},
     "output_type": "execute_result"
    }
   ],
   "source": [
    "X_train['predicted_spot_price'] = predicted_spot_price_train\n",
    "X_rendu['predicted_spot_price'] = predicted_spot_price_rendu\n",
    "X_train['predicted_spot_price'].describe()"
   ]
  },
  {
   "cell_type": "markdown",
   "metadata": {},
   "source": [
    "## 3) Prédiction de *predicted_spot_price*\n",
    "\n",
    "Maintenant, les valeurs pour de *load_forecast* NaN ont été remplacées. De part la forte corrélation en *predicted_spot_price* en *load_forecast*, et comme on dispose de toutes les valeurs de *load_forecast*, on peut maintenant créer un modèle capable de nous prédire les valeurs de *predicted_spot_price* manquantes:"
   ]
  },
  {
   "cell_type": "code",
   "execution_count": 20,
   "metadata": {},
   "outputs": [
    {
     "data": {
      "text/plain": [
       "<AxesSubplot:>"
      ]
     },
     "execution_count": 20,
     "metadata": {},
     "output_type": "execute_result"
    },
    {
     "data": {
      "image/png": "[encoded data removed]",
      "text/plain": [
       "<Figure size 432x288 with 1 Axes>"
      ]
     },
     "metadata": {
      "needs_background": "light"
     },
     "output_type": "display_data"
    }
   ],
   "source": [
    "sns.heatmap(X_train.isna(),cbar=False) # vérification qu'il n'y a plus de valeur manquante dans load_forecast"
   ]
  },
  {
   "cell_type": "code",
   "execution_count": 21,
   "metadata": {},
   "outputs": [
    {
     "name": "stdout",
     "output_type": "stream",
     "text": [
      "nombre de valeurs non NaN:  1279\n",
      "linear regression score:  0.737953421536983\n",
      "random forest regression score:  0.7990867718393576\n",
      "gradient boosting regression score:  0.810684581320599\n"
     ]
    }
   ],
   "source": [
    "from sklearn.model_selection import RandomizedSearchCV\n",
    "from scipy.stats import uniform\n",
    "from scipy.stats import randint\n",
    "\n",
    "delivery_starts = X_train['DELIVERY_START']\n",
    "\n",
    "y_spot = X_train.dropna(subset=['predicted_spot_price'])['predicted_spot_price']\n",
    "X_spot = X_train.dropna(subset=['predicted_spot_price'])\n",
    "X_spot = X_spot.loc[:, X_spot.columns != 'predicted_spot_price']\n",
    "X_spot = X_spot.set_index('DELIVERY_START')\n",
    "\n",
    "print('nombre de valeurs non NaN: ', len(y_spot))\n",
    "\n",
    "X_train_spot, X_test_spot, y_train_spot, y_test_spot = train_test_split(X_spot, y_spot, test_size=0.25)\n",
    "\n",
    "clf = LinearRegression()\n",
    "clf.fit(X_train_spot, y_train_spot)\n",
    "print('linear regression score: ', clf.score(X_test_spot, y_test_spot))\n",
    "\n",
    "clf = RandomForestRegressor()\n",
    "clf.fit(X_train_spot, y_train_spot)\n",
    "print('random forest regression score: ', clf.score(X_test_spot, y_test_spot))\n",
    "\n",
    "clf = GradientBoostingRegressor()\n",
    "clf.fit(X_train_spot, y_train_spot)\n",
    "print('gradient boosting regression score: ', clf.score(X_test_spot, y_test_spot))"
   ]
  },
  {
   "cell_type": "code",
   "execution_count": 22,
   "metadata": {},
   "outputs": [
    {
     "data": {
      "text/html": [
       "<div>\n",
       "<style scoped>\n",
       "    .dataframe tbody tr th:only-of-type {\n",
       "        vertical-align: middle;\n",
       "    }\n",
       "\n",
       "    .dataframe tbody tr th {\n",
       "        vertical-align: top;\n",
       "    }\n",
       "\n",
       "    .dataframe thead th {\n",
       "        text-align: right;\n",
       "    }\n",
       "</style>\n",
       "<table border=\"1\" class=\"dataframe\">\n",
       "  <thead>\n",
       "    <tr style=\"text-align: right;\">\n",
       "      <th></th>\n",
       "      <th>load_forecast</th>\n",
       "      <th>coal_power_available</th>\n",
       "      <th>gas_power_available</th>\n",
       "      <th>nucelear_power_available</th>\n",
       "      <th>wind_power_forecasts_average</th>\n",
       "      <th>solar_power_forecasts_average</th>\n",
       "      <th>wind_power_forecasts_std</th>\n",
       "      <th>solar_power_forecasts_std</th>\n",
       "      <th>predicted_spot_price</th>\n",
       "    </tr>\n",
       "    <tr>\n",
       "      <th>DELIVERY_START</th>\n",
       "      <th></th>\n",
       "      <th></th>\n",
       "      <th></th>\n",
       "      <th></th>\n",
       "      <th></th>\n",
       "      <th></th>\n",
       "      <th></th>\n",
       "      <th></th>\n",
       "      <th></th>\n",
       "    </tr>\n",
       "  </thead>\n",
       "  <tbody>\n",
       "    <tr>\n",
       "      <th>2022-01-19 22:00:00+01:00</th>\n",
       "      <td>70957.0</td>\n",
       "      <td>3386.0</td>\n",
       "      <td>11487.0</td>\n",
       "      <td>49821.0</td>\n",
       "      <td>4783.0</td>\n",
       "      <td>0.0</td>\n",
       "      <td>262.145591</td>\n",
       "      <td>0.000000</td>\n",
       "      <td>176.270541</td>\n",
       "    </tr>\n",
       "    <tr>\n",
       "      <th>2022-06-29 10:00:00+02:00</th>\n",
       "      <td>50921.0</td>\n",
       "      <td>2226.0</td>\n",
       "      <td>10555.0</td>\n",
       "      <td>28620.0</td>\n",
       "      <td>975.0</td>\n",
       "      <td>6901.0</td>\n",
       "      <td>29.768661</td>\n",
       "      <td>19.272470</td>\n",
       "      <td>114.634861</td>\n",
       "    </tr>\n",
       "    <tr>\n",
       "      <th>2022-08-22 18:00:00+02:00</th>\n",
       "      <td>46075.0</td>\n",
       "      <td>2226.0</td>\n",
       "      <td>11060.0</td>\n",
       "      <td>26320.0</td>\n",
       "      <td>1919.0</td>\n",
       "      <td>2645.0</td>\n",
       "      <td>141.690169</td>\n",
       "      <td>56.861925</td>\n",
       "      <td>103.406219</td>\n",
       "    </tr>\n",
       "    <tr>\n",
       "      <th>2022-01-07 11:00:00+01:00</th>\n",
       "      <td>78583.0</td>\n",
       "      <td>3386.0</td>\n",
       "      <td>11487.0</td>\n",
       "      <td>47728.0</td>\n",
       "      <td>8171.0</td>\n",
       "      <td>2559.0</td>\n",
       "      <td>100.930265</td>\n",
       "      <td>12.044037</td>\n",
       "      <td>195.736762</td>\n",
       "    </tr>\n",
       "    <tr>\n",
       "      <th>2022-04-25 19:00:00+02:00</th>\n",
       "      <td>48511.0</td>\n",
       "      <td>2806.0</td>\n",
       "      <td>11140.0</td>\n",
       "      <td>30420.0</td>\n",
       "      <td>2473.0</td>\n",
       "      <td>1178.0</td>\n",
       "      <td>191.893942</td>\n",
       "      <td>10.167603</td>\n",
       "      <td>112.560855</td>\n",
       "    </tr>\n",
       "  </tbody>\n",
       "</table>\n",
       "</div>"
      ],
      "text/plain": [
       "                           load_forecast  coal_power_available  \\\n",
       "DELIVERY_START                                                   \n",
       "2022-01-19 22:00:00+01:00        70957.0                3386.0   \n",
       "2022-06-29 10:00:00+02:00        50921.0                2226.0   \n",
       "2022-08-22 18:00:00+02:00        46075.0                2226.0   \n",
       "2022-01-07 11:00:00+01:00        78583.0                3386.0   \n",
       "2022-04-25 19:00:00+02:00        48511.0                2806.0   \n",
       "\n",
       "                           gas_power_available  nucelear_power_available  \\\n",
       "DELIVERY_START                                                             \n",
       "2022-01-19 22:00:00+01:00              11487.0                   49821.0   \n",
       "2022-06-29 10:00:00+02:00              10555.0                   28620.0   \n",
       "2022-08-22 18:00:00+02:00              11060.0                   26320.0   \n",
       "2022-01-07 11:00:00+01:00              11487.0                   47728.0   \n",
       "2022-04-25 19:00:00+02:00              11140.0                   30420.0   \n",
       "\n",
       "                           wind_power_forecasts_average  \\\n",
       "DELIVERY_START                                            \n",
       "2022-01-19 22:00:00+01:00                        4783.0   \n",
       "2022-06-29 10:00:00+02:00                         975.0   \n",
       "2022-08-22 18:00:00+02:00                        1919.0   \n",
       "2022-01-07 11:00:00+01:00                        8171.0   \n",
       "2022-04-25 19:00:00+02:00                        2473.0   \n",
       "\n",
       "                           solar_power_forecasts_average  \\\n",
       "DELIVERY_START                                             \n",
       "2022-01-19 22:00:00+01:00                            0.0   \n",
       "2022-06-29 10:00:00+02:00                         6901.0   \n",
       "2022-08-22 18:00:00+02:00                         2645.0   \n",
       "2022-01-07 11:00:00+01:00                         2559.0   \n",
       "2022-04-25 19:00:00+02:00                         1178.0   \n",
       "\n",
       "                           wind_power_forecasts_std  \\\n",
       "DELIVERY_START                                        \n",
       "2022-01-19 22:00:00+01:00                262.145591   \n",
       "2022-06-29 10:00:00+02:00                 29.768661   \n",
       "2022-08-22 18:00:00+02:00                141.690169   \n",
       "2022-01-07 11:00:00+01:00                100.930265   \n",
       "2022-04-25 19:00:00+02:00                191.893942   \n",
       "\n",
       "                           solar_power_forecasts_std  predicted_spot_price  \n",
       "DELIVERY_START                                                              \n",
       "2022-01-19 22:00:00+01:00                   0.000000            176.270541  \n",
       "2022-06-29 10:00:00+02:00                  19.272470            114.634861  \n",
       "2022-08-22 18:00:00+02:00                  56.861925            103.406219  \n",
       "2022-01-07 11:00:00+01:00                  12.044037            195.736762  \n",
       "2022-04-25 19:00:00+02:00                  10.167603            112.560855  "
      ]
     },
     "execution_count": 22,
     "metadata": {},
     "output_type": "execute_result"
    }
   ],
   "source": [
    "X_predict_spot = X_train[X_train['predicted_spot_price'].isna()]\n",
    "X_predict_spot = X_predict_spot.loc[:, X_predict_spot.columns != 'predicted_spot_price']\n",
    "X_predict_spot = X_predict_spot.set_index('DELIVERY_START')\n",
    "\n",
    "X_predict_rendu = X_rendu[X_rendu['predicted_spot_price'].isna()]\n",
    "X_predict_rendu = X_predict_rendu.loc[:, X_predict_rendu.columns != 'predicted_spot_price']\n",
    "X_predict_rendu = X_predict_rendu.set_index('DELIVERY_START')\n",
    "\n",
    "X_predict_spot.insert(8, 'predicted_spot_price', clf.predict(X_predict_spot))\n",
    "X_predict_rendu.insert(8, 'predicted_spot_price', clf.predict(X_predict_rendu))\n",
    "X_predict_spot.head()"
   ]
  },
  {
   "cell_type": "code",
   "execution_count": 23,
   "metadata": {},
   "outputs": [
    {
     "data": {
      "text/plain": [
       "<AxesSubplot:>"
      ]
     },
     "execution_count": 23,
     "metadata": {},
     "output_type": "execute_result"
    },
    {
     "data": {
      "image/png": "[encoded data removed]",
      "text/plain": [
       "<Figure size 432x288 with 1 Axes>"
      ]
     },
     "metadata": {
      "needs_background": "light"
     },
     "output_type": "display_data"
    }
   ],
   "source": [
    "X_train = pd.concat([X_train[~X_train['predicted_spot_price'].isna()], X_predict_spot.reset_index('DELIVERY_START')])\n",
    "X_rendu = pd.concat([X_rendu[~X_rendu['predicted_spot_price'].isna()], X_predict_rendu.reset_index('DELIVERY_START')])\n",
    "sns.heatmap(X_train.isna(),cbar=False)"
   ]
  },
  {
   "cell_type": "code",
   "execution_count": 24,
   "metadata": {},
   "outputs": [
    {
     "data": {
      "text/plain": [
       "<AxesSubplot:>"
      ]
     },
     "execution_count": 24,
     "metadata": {},
     "output_type": "execute_result"
    },
    {
     "data": {
      "image/png": "[encoded data removed]",
      "text/plain": [
       "<Figure size 432x288 with 1 Axes>"
      ]
     },
     "metadata": {
      "needs_background": "light"
     },
     "output_type": "display_data"
    }
   ],
   "source": [
    "sns.heatmap(X_rendu.isna(),cbar=False)"
   ]
  },
  {
   "cell_type": "code",
   "execution_count": 25,
   "metadata": {},
   "outputs": [],
   "source": [
    "X_train.to_csv('../data/X_train.csv')\n",
    "y_train.to_csv('../data/y_')\n",
    "X_rendu.to_csv('../data/X_test.csv')"
   ]
  },
  {
   "cell_type": "markdown",
   "metadata": {},
   "source": [
    "On remarque bien que le database est maintenant dépourvu de valeurs NaN !"
   ]
  },
  {
   "cell_type": "markdown",
   "metadata": {},
   "source": [
    "## Astuces et idées d'amélioration\n",
    "\n",
    "- Réféchir à la modélation des différents facteurs qui font bouger les prix de l'électricité dans chaque pays pourra être utile. \n",
    "\n",
    "- Le jeu de données est relativement petit - c'est un \"small data challenge\" - alors attention à ne pas surapprendre les paramètres de vos modèles ! Il sera certainement utile de mettre en place de bonnes pratiques de validation croisée.\n"
   ]
  },
  {
   "cell_type": "code",
   "execution_count": null,
   "metadata": {},
   "outputs": [],
   "source": [
    "lm=LinearRegression()\n",
    "Z = X_train_clean\n",
    "lm.fit(Z, Y_train['spot_id_delta'])\n",
    "Y_hat = lm.predict(X_train_clean)\n",
    "sns.residplot(Z['load_forecast'], Y_train['spot_id_delta'])"
   ]
  },
  {
   "cell_type": "code",
   "execution_count": null,
   "metadata": {},
   "outputs": [],
   "source": [
    "Input = [('Scale',StandardScaler()),('polynomial',PolynomialFeatures(degree=2)),('model',LinearRegression())]\n",
    "pipe=Pipeline(Input)\n",
    "pipe.fit(X_train_clean,Y_train['spot_id_delta'])\n",
    "Y_hat=pipe.predict(X_train_clean)"
   ]
  },
  {
   "cell_type": "markdown",
   "metadata": {},
   "source": [
    "On voit quand on trace les résidus de la regression linéaire entre le load_forecast en France et la différence, une distribution équiprobable partout ce qui laisse penser que la regression linéaire est correcte\n"
   ]
  },
  {
   "cell_type": "code",
   "execution_count": null,
   "metadata": {},
   "outputs": [],
   "source": [
    "RSQ_test= []\n",
    "lr=LinearRegression()\n",
    "X_test_clean = X_test.drop(['DELIVERY_START'], axis=1).fillna(0)\n",
    "Y_test_clean = Y_train.drop(['DELIVERY_START'], axis=1).fillna(0)\n",
    "order = [1,2,3,4,5]\n",
    "for n in order :\n",
    "    pr = PolynomialFeatures(degree=n)\n",
    "    x_train_pr=pr.fit_transform(X_train_clean[['load_forecast']])\n",
    "    x_test_pr=pr.fit_transform(X_test_clean[['load_forecast']])\n",
    "    lr.fit(x_train_pr,Y_train_clean)\n",
    "    RSQ_test.append(lr.score(x_test_pr,Y_test_clean))"
   ]
  },
  {
   "cell_type": "code",
   "execution_count": null,
   "metadata": {},
   "outputs": [],
   "source": [
    "from sklearn.linear_model import Ridge\n",
    "from sklearn.model_selection import GridSearchCV\n",
    "\n",
    "RidgeModel = Ridge(alpha=0.1)\n",
    "RidgeModel.fit(X_train_clean,Y_train_clean)\n",
    "Yhat=RidgeModel.predict(X_train_clean)\n",
    "\n",
    "parameters = [{'alpha': [0.001,2,10,100,1000,10000,100000,1000000000]}]\n",
    "RR=Ridge()\n",
    "Grid1=GridSearchCV(RR,parameters,cv=5)\n",
    "Grid1.fit(X_train_clean,Y_train_clean)\n",
    "Grid1.best_estimator_\n",
    "scores=Grid1.cv_results_\n",
    "\n",
    "\n",
    "for param, mean_val in zip(scores['params'],scores['mean_test_score']):\n",
    "    print(param, \"R^2 on test data:\", mean_val)\n",
    "    \n"
   ]
  }
 ],
 "metadata": {
  "hide_input": false,
  "kernelspec": {
   "display_name": "Python 3",
   "language": "python",
   "name": "python3"
  },
  "language_info": {
   "codemirror_mode": {
    "name": "ipython",
    "version": 3
   },
   "file_extension": ".py",
   "mimetype": "text/x-python",
   "name": "python",
   "nbconvert_exporter": "python",
   "pygments_lexer": "ipython3",
   "version": "3.8.8"
  },
  "toc": {
   "base_numbering": 1,
   "nav_menu": {},
   "number_sections": true,
   "sideBar": true,
   "skip_h1_title": false,
   "title_cell": "Table of Contents",
   "title_sidebar": "Contents",
   "toc_cell": false,
   "toc_position": {},
   "toc_section_display": true,
   "toc_window_display": false
  },
  "vscode": {
   "interpreter": {
    "hash": "e98505b2ea4c5ad54dad79b106a9e9e74f288112ea588ce88c6ce949430e0824"
   }
  }
 },
 "nbformat": 4,
 "nbformat_minor": 2
}
