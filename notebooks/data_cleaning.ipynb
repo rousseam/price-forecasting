{
 "cells": [
  {
   "cell_type": "markdown",
   "metadata": {},
   "source": [
    "# QRT ENS Challenge Data 2023 - Benchmark\n",
    "\n",
    "Ce notebook détaille la construction du benchmark de ce challenge - il peut également être utile aux participants pour se lancer dans la compétition. \n",
    "\n",
    "## Librairies"
   ]
  },
  {
   "cell_type": "code",
   "execution_count": 1,
   "metadata": {},
   "outputs": [],
   "source": [
    "import numpy as np\n",
    "import pandas as pd\n",
    "from sklearn.linear_model import LinearRegression\n",
    "import matplotlib.pyplot as plt\n",
    "import seaborn as sns\n",
    "from sklearn.impute import KNNImputer\n",
    "from sklearn.model_selection import train_test_split"
   ]
  },
  {
   "cell_type": "markdown",
   "metadata": {},
   "source": [
    "# Chargement des données\n",
    "\n",
    "- `X_train` et `X_test` ont  $10$ colonnes qui représentent les même variables explicatives mais sur des périodes de temps différentes il y a au plus $10 604$ lignes. \n",
    "\n",
    "- `X_train` et `y_train` partagent la même colonne `DELIVERY_START` - chaque ligne a un DELIVERY_START unique associéz à une date et heure de livraison de l'électricité\n",
    ". \n",
    "\n",
    "- La variable cible `spot_id_delta` de `y_train` correspond à l'écart entre le VWAP des transactions sur le marché infra-journalier (Intraday) et le prix SPOT pour 1MWh d'électricité (spot_id_delta = Intraday - SPOT) : si la valeur est positive, le prix Intraday est supérieur au prix SPOT et inversement.\n",
    "\n",
    "- **On notera que certaines colonnes ont des valeurs manquantes**.\n"
   ]
  },
  {
   "cell_type": "code",
   "execution_count": 2,
   "metadata": {},
   "outputs": [],
   "source": [
    "# After downloading the X_train/X_test/Y_train .csv files in your working directory:\n",
    "X = pd.read_csv('../data/X_train.csv')\n",
    "y = pd.read_csv('../data/y_train.csv')\n",
    "X_rendu = pd.read_csv('../data/X_test.csv')\n",
    "\n",
    "X_train, X_test, y_train, y_test = train_test_split(X, y, test_size=0.3)\n",
    "\n",
    "X_train = X_train.dropna(subset=['coal_power_available', 'gas_power_available', 'nucelear_power_available', 'wind_power_forecasts_average', 'solar_power_forecasts_average', 'wind_power_forecasts_std', 'solar_power_forecasts_std'])\n",
    "X_rendu = X_train.dropna(subset=['coal_power_available', 'gas_power_available', 'nucelear_power_available', 'wind_power_forecasts_average', 'solar_power_forecasts_average', 'wind_power_forecasts_std', 'solar_power_forecasts_std'])"
   ]
  },
  {
   "cell_type": "code",
   "execution_count": 3,
   "metadata": {},
   "outputs": [
    {
     "data": {
      "text/html": [
       "<div>\n",
       "<style scoped>\n",
       "    .dataframe tbody tr th:only-of-type {\n",
       "        vertical-align: middle;\n",
       "    }\n",
       "\n",
       "    .dataframe tbody tr th {\n",
       "        vertical-align: top;\n",
       "    }\n",
       "\n",
       "    .dataframe thead th {\n",
       "        text-align: right;\n",
       "    }\n",
       "</style>\n",
       "<table border=\"1\" class=\"dataframe\">\n",
       "  <thead>\n",
       "    <tr style=\"text-align: right;\">\n",
       "      <th></th>\n",
       "      <th>DELIVERY_START</th>\n",
       "      <th>load_forecast</th>\n",
       "      <th>coal_power_available</th>\n",
       "      <th>gas_power_available</th>\n",
       "      <th>nucelear_power_available</th>\n",
       "      <th>wind_power_forecasts_average</th>\n",
       "      <th>solar_power_forecasts_average</th>\n",
       "      <th>wind_power_forecasts_std</th>\n",
       "      <th>solar_power_forecasts_std</th>\n",
       "      <th>predicted_spot_price</th>\n",
       "    </tr>\n",
       "  </thead>\n",
       "  <tbody>\n",
       "    <tr>\n",
       "      <th>5984</th>\n",
       "      <td>2022-09-17 10:00:00+02:00</td>\n",
       "      <td>42593.0</td>\n",
       "      <td>2226.0</td>\n",
       "      <td>10819.0</td>\n",
       "      <td>27360.0</td>\n",
       "      <td>4079.0</td>\n",
       "      <td>6062.0</td>\n",
       "      <td>110.569548</td>\n",
       "      <td>36.878399</td>\n",
       "      <td>NaN</td>\n",
       "    </tr>\n",
       "    <tr>\n",
       "      <th>10118</th>\n",
       "      <td>2023-03-09 16:00:00+01:00</td>\n",
       "      <td>52698.0</td>\n",
       "      <td>3386.0</td>\n",
       "      <td>11945.0</td>\n",
       "      <td>39815.0</td>\n",
       "      <td>11812.0</td>\n",
       "      <td>2777.0</td>\n",
       "      <td>505.979474</td>\n",
       "      <td>103.648685</td>\n",
       "      <td>118.64</td>\n",
       "    </tr>\n",
       "    <tr>\n",
       "      <th>8138</th>\n",
       "      <td>2022-12-16 04:00:00+01:00</td>\n",
       "      <td>60213.0</td>\n",
       "      <td>3386.0</td>\n",
       "      <td>11742.0</td>\n",
       "      <td>41880.0</td>\n",
       "      <td>5734.0</td>\n",
       "      <td>0.0</td>\n",
       "      <td>132.079212</td>\n",
       "      <td>0.000000</td>\n",
       "      <td>NaN</td>\n",
       "    </tr>\n",
       "    <tr>\n",
       "      <th>4849</th>\n",
       "      <td>2022-07-29 03:00:00+02:00</td>\n",
       "      <td>NaN</td>\n",
       "      <td>2226.0</td>\n",
       "      <td>11525.0</td>\n",
       "      <td>26430.0</td>\n",
       "      <td>1633.0</td>\n",
       "      <td>0.0</td>\n",
       "      <td>30.453919</td>\n",
       "      <td>0.000000</td>\n",
       "      <td>NaN</td>\n",
       "    </tr>\n",
       "    <tr>\n",
       "      <th>3353</th>\n",
       "      <td>2022-05-24 19:00:00+02:00</td>\n",
       "      <td>47934.0</td>\n",
       "      <td>2806.0</td>\n",
       "      <td>11140.0</td>\n",
       "      <td>30099.0</td>\n",
       "      <td>2284.0</td>\n",
       "      <td>1473.0</td>\n",
       "      <td>161.078062</td>\n",
       "      <td>25.593526</td>\n",
       "      <td>NaN</td>\n",
       "    </tr>\n",
       "  </tbody>\n",
       "</table>\n",
       "</div>"
      ],
      "text/plain": [
       "                  DELIVERY_START  load_forecast  coal_power_available  \\\n",
       "5984   2022-09-17 10:00:00+02:00        42593.0                2226.0   \n",
       "10118  2023-03-09 16:00:00+01:00        52698.0                3386.0   \n",
       "8138   2022-12-16 04:00:00+01:00        60213.0                3386.0   \n",
       "4849   2022-07-29 03:00:00+02:00            NaN                2226.0   \n",
       "3353   2022-05-24 19:00:00+02:00        47934.0                2806.0   \n",
       "\n",
       "       gas_power_available  nucelear_power_available  \\\n",
       "5984               10819.0                   27360.0   \n",
       "10118              11945.0                   39815.0   \n",
       "8138               11742.0                   41880.0   \n",
       "4849               11525.0                   26430.0   \n",
       "3353               11140.0                   30099.0   \n",
       "\n",
       "       wind_power_forecasts_average  solar_power_forecasts_average  \\\n",
       "5984                         4079.0                         6062.0   \n",
       "10118                       11812.0                         2777.0   \n",
       "8138                         5734.0                            0.0   \n",
       "4849                         1633.0                            0.0   \n",
       "3353                         2284.0                         1473.0   \n",
       "\n",
       "       wind_power_forecasts_std  solar_power_forecasts_std  \\\n",
       "5984                 110.569548                  36.878399   \n",
       "10118                505.979474                 103.648685   \n",
       "8138                 132.079212                   0.000000   \n",
       "4849                  30.453919                   0.000000   \n",
       "3353                 161.078062                  25.593526   \n",
       "\n",
       "       predicted_spot_price  \n",
       "5984                    NaN  \n",
       "10118                118.64  \n",
       "8138                    NaN  \n",
       "4849                    NaN  \n",
       "3353                    NaN  "
      ]
     },
     "execution_count": 3,
     "metadata": {},
     "output_type": "execute_result"
    }
   ],
   "source": [
    "X_train.head()"
   ]
  },
  {
   "cell_type": "code",
   "execution_count": 4,
   "metadata": {
    "scrolled": true
   },
   "outputs": [
    {
     "data": {
      "text/html": [
       "<div>\n",
       "<style scoped>\n",
       "    .dataframe tbody tr th:only-of-type {\n",
       "        vertical-align: middle;\n",
       "    }\n",
       "\n",
       "    .dataframe tbody tr th {\n",
       "        vertical-align: top;\n",
       "    }\n",
       "\n",
       "    .dataframe thead th {\n",
       "        text-align: right;\n",
       "    }\n",
       "</style>\n",
       "<table border=\"1\" class=\"dataframe\">\n",
       "  <thead>\n",
       "    <tr style=\"text-align: right;\">\n",
       "      <th></th>\n",
       "      <th>load_forecast</th>\n",
       "      <th>coal_power_available</th>\n",
       "      <th>gas_power_available</th>\n",
       "      <th>nucelear_power_available</th>\n",
       "      <th>wind_power_forecasts_average</th>\n",
       "      <th>solar_power_forecasts_average</th>\n",
       "      <th>wind_power_forecasts_std</th>\n",
       "      <th>solar_power_forecasts_std</th>\n",
       "      <th>predicted_spot_price</th>\n",
       "    </tr>\n",
       "  </thead>\n",
       "  <tbody>\n",
       "    <tr>\n",
       "      <th>count</th>\n",
       "      <td>6490.000000</td>\n",
       "      <td>7396.000000</td>\n",
       "      <td>7396.000000</td>\n",
       "      <td>7396.000000</td>\n",
       "      <td>7396.000000</td>\n",
       "      <td>7396.000000</td>\n",
       "      <td>7396.000000</td>\n",
       "      <td>7396.000000</td>\n",
       "      <td>1267.000000</td>\n",
       "    </tr>\n",
       "    <tr>\n",
       "      <th>mean</th>\n",
       "      <td>53824.212481</td>\n",
       "      <td>2821.648459</td>\n",
       "      <td>11459.129935</td>\n",
       "      <td>35387.822742</td>\n",
       "      <td>4503.145484</td>\n",
       "      <td>1937.115197</td>\n",
       "      <td>125.619925</td>\n",
       "      <td>25.246948</td>\n",
       "      <td>140.322739</td>\n",
       "    </tr>\n",
       "    <tr>\n",
       "      <th>std</th>\n",
       "      <td>11369.806405</td>\n",
       "      <td>493.577963</td>\n",
       "      <td>484.880880</td>\n",
       "      <td>7663.645923</td>\n",
       "      <td>3324.943411</td>\n",
       "      <td>2720.520151</td>\n",
       "      <td>130.758405</td>\n",
       "      <td>43.575693</td>\n",
       "      <td>33.981070</td>\n",
       "    </tr>\n",
       "    <tr>\n",
       "      <th>min</th>\n",
       "      <td>30515.000000</td>\n",
       "      <td>1646.000000</td>\n",
       "      <td>9790.000000</td>\n",
       "      <td>22285.000000</td>\n",
       "      <td>592.000000</td>\n",
       "      <td>0.000000</td>\n",
       "      <td>1.830211</td>\n",
       "      <td>0.000000</td>\n",
       "      <td>42.420000</td>\n",
       "    </tr>\n",
       "    <tr>\n",
       "      <th>25%</th>\n",
       "      <td>45464.250000</td>\n",
       "      <td>2226.000000</td>\n",
       "      <td>11140.000000</td>\n",
       "      <td>28989.000000</td>\n",
       "      <td>2045.750000</td>\n",
       "      <td>0.000000</td>\n",
       "      <td>46.555642</td>\n",
       "      <td>0.000000</td>\n",
       "      <td>120.035000</td>\n",
       "    </tr>\n",
       "    <tr>\n",
       "      <th>50%</th>\n",
       "      <td>51882.500000</td>\n",
       "      <td>2806.000000</td>\n",
       "      <td>11487.000000</td>\n",
       "      <td>32463.000000</td>\n",
       "      <td>3315.500000</td>\n",
       "      <td>157.000000</td>\n",
       "      <td>86.270471</td>\n",
       "      <td>3.640927</td>\n",
       "      <td>139.720000</td>\n",
       "    </tr>\n",
       "    <tr>\n",
       "      <th>75%</th>\n",
       "      <td>62242.000000</td>\n",
       "      <td>3386.000000</td>\n",
       "      <td>11945.000000</td>\n",
       "      <td>43180.000000</td>\n",
       "      <td>5932.500000</td>\n",
       "      <td>3552.000000</td>\n",
       "      <td>156.118847</td>\n",
       "      <td>35.254117</td>\n",
       "      <td>160.540000</td>\n",
       "    </tr>\n",
       "    <tr>\n",
       "      <th>max</th>\n",
       "      <td>85145.000000</td>\n",
       "      <td>3386.000000</td>\n",
       "      <td>11963.000000</td>\n",
       "      <td>50122.000000</td>\n",
       "      <td>15167.000000</td>\n",
       "      <td>10127.000000</td>\n",
       "      <td>1667.688143</td>\n",
       "      <td>745.261316</td>\n",
       "      <td>254.190000</td>\n",
       "    </tr>\n",
       "  </tbody>\n",
       "</table>\n",
       "</div>"
      ],
      "text/plain": [
       "       load_forecast  coal_power_available  gas_power_available  \\\n",
       "count    6490.000000           7396.000000          7396.000000   \n",
       "mean    53824.212481           2821.648459         11459.129935   \n",
       "std     11369.806405            493.577963           484.880880   \n",
       "min     30515.000000           1646.000000          9790.000000   \n",
       "25%     45464.250000           2226.000000         11140.000000   \n",
       "50%     51882.500000           2806.000000         11487.000000   \n",
       "75%     62242.000000           3386.000000         11945.000000   \n",
       "max     85145.000000           3386.000000         11963.000000   \n",
       "\n",
       "       nucelear_power_available  wind_power_forecasts_average  \\\n",
       "count               7396.000000                   7396.000000   \n",
       "mean               35387.822742                   4503.145484   \n",
       "std                 7663.645923                   3324.943411   \n",
       "min                22285.000000                    592.000000   \n",
       "25%                28989.000000                   2045.750000   \n",
       "50%                32463.000000                   3315.500000   \n",
       "75%                43180.000000                   5932.500000   \n",
       "max                50122.000000                  15167.000000   \n",
       "\n",
       "       solar_power_forecasts_average  wind_power_forecasts_std  \\\n",
       "count                    7396.000000               7396.000000   \n",
       "mean                     1937.115197                125.619925   \n",
       "std                      2720.520151                130.758405   \n",
       "min                         0.000000                  1.830211   \n",
       "25%                         0.000000                 46.555642   \n",
       "50%                       157.000000                 86.270471   \n",
       "75%                      3552.000000                156.118847   \n",
       "max                     10127.000000               1667.688143   \n",
       "\n",
       "       solar_power_forecasts_std  predicted_spot_price  \n",
       "count                7396.000000           1267.000000  \n",
       "mean                   25.246948            140.322739  \n",
       "std                    43.575693             33.981070  \n",
       "min                     0.000000             42.420000  \n",
       "25%                     0.000000            120.035000  \n",
       "50%                     3.640927            139.720000  \n",
       "75%                    35.254117            160.540000  \n",
       "max                   745.261316            254.190000  "
      ]
     },
     "execution_count": 4,
     "metadata": {},
     "output_type": "execute_result"
    }
   ],
   "source": [
    "X_train.describe()"
   ]
  },
  {
   "cell_type": "code",
   "execution_count": 5,
   "metadata": {},
   "outputs": [
    {
     "data": {
      "text/html": [
       "<div>\n",
       "<style scoped>\n",
       "    .dataframe tbody tr th:only-of-type {\n",
       "        vertical-align: middle;\n",
       "    }\n",
       "\n",
       "    .dataframe tbody tr th {\n",
       "        vertical-align: top;\n",
       "    }\n",
       "\n",
       "    .dataframe thead th {\n",
       "        text-align: right;\n",
       "    }\n",
       "</style>\n",
       "<table border=\"1\" class=\"dataframe\">\n",
       "  <thead>\n",
       "    <tr style=\"text-align: right;\">\n",
       "      <th></th>\n",
       "      <th>DELIVERY_START</th>\n",
       "      <th>spot_id_delta</th>\n",
       "    </tr>\n",
       "  </thead>\n",
       "  <tbody>\n",
       "    <tr>\n",
       "      <th>5984</th>\n",
       "      <td>2022-09-17 10:00:00+02:00</td>\n",
       "      <td>-37.905677</td>\n",
       "    </tr>\n",
       "    <tr>\n",
       "      <th>10118</th>\n",
       "      <td>2023-03-09 16:00:00+01:00</td>\n",
       "      <td>24.399947</td>\n",
       "    </tr>\n",
       "    <tr>\n",
       "      <th>8138</th>\n",
       "      <td>2022-12-16 04:00:00+01:00</td>\n",
       "      <td>-17.531674</td>\n",
       "    </tr>\n",
       "    <tr>\n",
       "      <th>4849</th>\n",
       "      <td>2022-07-29 03:00:00+02:00</td>\n",
       "      <td>-10.448003</td>\n",
       "    </tr>\n",
       "    <tr>\n",
       "      <th>3353</th>\n",
       "      <td>2022-05-24 19:00:00+02:00</td>\n",
       "      <td>18.265919</td>\n",
       "    </tr>\n",
       "  </tbody>\n",
       "</table>\n",
       "</div>"
      ],
      "text/plain": [
       "                  DELIVERY_START  spot_id_delta\n",
       "5984   2022-09-17 10:00:00+02:00     -37.905677\n",
       "10118  2023-03-09 16:00:00+01:00      24.399947\n",
       "8138   2022-12-16 04:00:00+01:00     -17.531674\n",
       "4849   2022-07-29 03:00:00+02:00     -10.448003\n",
       "3353   2022-05-24 19:00:00+02:00      18.265919"
      ]
     },
     "execution_count": 5,
     "metadata": {},
     "output_type": "execute_result"
    }
   ],
   "source": [
    "y_train.head()"
   ]
  },
  {
   "cell_type": "code",
   "execution_count": 6,
   "metadata": {},
   "outputs": [
    {
     "data": {
      "text/html": [
       "<div>\n",
       "<style scoped>\n",
       "    .dataframe tbody tr th:only-of-type {\n",
       "        vertical-align: middle;\n",
       "    }\n",
       "\n",
       "    .dataframe tbody tr th {\n",
       "        vertical-align: top;\n",
       "    }\n",
       "\n",
       "    .dataframe thead th {\n",
       "        text-align: right;\n",
       "    }\n",
       "</style>\n",
       "<table border=\"1\" class=\"dataframe\">\n",
       "  <thead>\n",
       "    <tr style=\"text-align: right;\">\n",
       "      <th></th>\n",
       "      <th>spot_id_delta</th>\n",
       "    </tr>\n",
       "  </thead>\n",
       "  <tbody>\n",
       "    <tr>\n",
       "      <th>count</th>\n",
       "      <td>7423.000000</td>\n",
       "    </tr>\n",
       "    <tr>\n",
       "      <th>mean</th>\n",
       "      <td>0.736097</td>\n",
       "    </tr>\n",
       "    <tr>\n",
       "      <th>std</th>\n",
       "      <td>40.075981</td>\n",
       "    </tr>\n",
       "    <tr>\n",
       "      <th>min</th>\n",
       "      <td>-1567.353547</td>\n",
       "    </tr>\n",
       "    <tr>\n",
       "      <th>25%</th>\n",
       "      <td>-12.038325</td>\n",
       "    </tr>\n",
       "    <tr>\n",
       "      <th>50%</th>\n",
       "      <td>0.042506</td>\n",
       "    </tr>\n",
       "    <tr>\n",
       "      <th>75%</th>\n",
       "      <td>12.210459</td>\n",
       "    </tr>\n",
       "    <tr>\n",
       "      <th>max</th>\n",
       "      <td>658.961329</td>\n",
       "    </tr>\n",
       "  </tbody>\n",
       "</table>\n",
       "</div>"
      ],
      "text/plain": [
       "       spot_id_delta\n",
       "count    7423.000000\n",
       "mean        0.736097\n",
       "std        40.075981\n",
       "min     -1567.353547\n",
       "25%       -12.038325\n",
       "50%         0.042506\n",
       "75%        12.210459\n",
       "max       658.961329"
      ]
     },
     "execution_count": 6,
     "metadata": {},
     "output_type": "execute_result"
    }
   ],
   "source": [
    "y_train.describe()"
   ]
  },
  {
   "cell_type": "code",
   "execution_count": 7,
   "metadata": {},
   "outputs": [
    {
     "data": {
      "text/html": [
       "<div>\n",
       "<style scoped>\n",
       "    .dataframe tbody tr th:only-of-type {\n",
       "        vertical-align: middle;\n",
       "    }\n",
       "\n",
       "    .dataframe tbody tr th {\n",
       "        vertical-align: top;\n",
       "    }\n",
       "\n",
       "    .dataframe thead th {\n",
       "        text-align: right;\n",
       "    }\n",
       "</style>\n",
       "<table border=\"1\" class=\"dataframe\">\n",
       "  <thead>\n",
       "    <tr style=\"text-align: right;\">\n",
       "      <th></th>\n",
       "      <th>DELIVERY_START</th>\n",
       "      <th>load_forecast</th>\n",
       "      <th>coal_power_available</th>\n",
       "      <th>gas_power_available</th>\n",
       "      <th>nucelear_power_available</th>\n",
       "      <th>wind_power_forecasts_average</th>\n",
       "      <th>solar_power_forecasts_average</th>\n",
       "      <th>wind_power_forecasts_std</th>\n",
       "      <th>solar_power_forecasts_std</th>\n",
       "      <th>predicted_spot_price</th>\n",
       "    </tr>\n",
       "  </thead>\n",
       "  <tbody>\n",
       "    <tr>\n",
       "      <th>1792</th>\n",
       "      <td>2022-03-18 09:00:00+01:00</td>\n",
       "      <td>62432.0</td>\n",
       "      <td>2806.0</td>\n",
       "      <td>11952.0</td>\n",
       "      <td>36810.0</td>\n",
       "      <td>7078.0</td>\n",
       "      <td>2693.0</td>\n",
       "      <td>93.089615</td>\n",
       "      <td>55.392716</td>\n",
       "      <td>NaN</td>\n",
       "    </tr>\n",
       "    <tr>\n",
       "      <th>6734</th>\n",
       "      <td>2022-10-18 16:00:00+02:00</td>\n",
       "      <td>46182.0</td>\n",
       "      <td>2806.0</td>\n",
       "      <td>11480.0</td>\n",
       "      <td>29250.0</td>\n",
       "      <td>2018.0</td>\n",
       "      <td>4697.0</td>\n",
       "      <td>24.670262</td>\n",
       "      <td>75.358714</td>\n",
       "      <td>NaN</td>\n",
       "    </tr>\n",
       "    <tr>\n",
       "      <th>3667</th>\n",
       "      <td>2022-06-07 21:00:00+02:00</td>\n",
       "      <td>44381.0</td>\n",
       "      <td>2226.0</td>\n",
       "      <td>10840.0</td>\n",
       "      <td>30098.0</td>\n",
       "      <td>2428.0</td>\n",
       "      <td>146.0</td>\n",
       "      <td>119.820776</td>\n",
       "      <td>5.263318</td>\n",
       "      <td>NaN</td>\n",
       "    </tr>\n",
       "    <tr>\n",
       "      <th>7756</th>\n",
       "      <td>2022-11-30 06:00:00+01:00</td>\n",
       "      <td>58595.0</td>\n",
       "      <td>3386.0</td>\n",
       "      <td>11945.0</td>\n",
       "      <td>34706.0</td>\n",
       "      <td>1625.0</td>\n",
       "      <td>0.0</td>\n",
       "      <td>29.010760</td>\n",
       "      <td>0.000000</td>\n",
       "      <td>NaN</td>\n",
       "    </tr>\n",
       "    <tr>\n",
       "      <th>3068</th>\n",
       "      <td>2022-05-12 22:00:00+02:00</td>\n",
       "      <td>46170.0</td>\n",
       "      <td>2806.0</td>\n",
       "      <td>11140.0</td>\n",
       "      <td>29640.0</td>\n",
       "      <td>2046.0</td>\n",
       "      <td>0.0</td>\n",
       "      <td>50.109943</td>\n",
       "      <td>0.000000</td>\n",
       "      <td>NaN</td>\n",
       "    </tr>\n",
       "  </tbody>\n",
       "</table>\n",
       "</div>"
      ],
      "text/plain": [
       "                 DELIVERY_START  load_forecast  coal_power_available  \\\n",
       "1792  2022-03-18 09:00:00+01:00        62432.0                2806.0   \n",
       "6734  2022-10-18 16:00:00+02:00        46182.0                2806.0   \n",
       "3667  2022-06-07 21:00:00+02:00        44381.0                2226.0   \n",
       "7756  2022-11-30 06:00:00+01:00        58595.0                3386.0   \n",
       "3068  2022-05-12 22:00:00+02:00        46170.0                2806.0   \n",
       "\n",
       "      gas_power_available  nucelear_power_available  \\\n",
       "1792              11952.0                   36810.0   \n",
       "6734              11480.0                   29250.0   \n",
       "3667              10840.0                   30098.0   \n",
       "7756              11945.0                   34706.0   \n",
       "3068              11140.0                   29640.0   \n",
       "\n",
       "      wind_power_forecasts_average  solar_power_forecasts_average  \\\n",
       "1792                        7078.0                         2693.0   \n",
       "6734                        2018.0                         4697.0   \n",
       "3667                        2428.0                          146.0   \n",
       "7756                        1625.0                            0.0   \n",
       "3068                        2046.0                            0.0   \n",
       "\n",
       "      wind_power_forecasts_std  solar_power_forecasts_std  \\\n",
       "1792                 93.089615                  55.392716   \n",
       "6734                 24.670262                  75.358714   \n",
       "3667                119.820776                   5.263318   \n",
       "7756                 29.010760                   0.000000   \n",
       "3068                 50.109943                   0.000000   \n",
       "\n",
       "      predicted_spot_price  \n",
       "1792                   NaN  \n",
       "6734                   NaN  \n",
       "3667                   NaN  \n",
       "7756                   NaN  \n",
       "3068                   NaN  "
      ]
     },
     "execution_count": 7,
     "metadata": {},
     "output_type": "execute_result"
    }
   ],
   "source": [
    "X_test.head()"
   ]
  },
  {
   "cell_type": "code",
   "execution_count": 8,
   "metadata": {},
   "outputs": [
    {
     "data": {
      "text/plain": [
       "<AxesSubplot:>"
      ]
     },
     "execution_count": 8,
     "metadata": {},
     "output_type": "execute_result"
    },
    {
     "data": {
      "image/png": "[encoded data removed]",
      "text/plain": [
       "<Figure size 432x288 with 1 Axes>"
      ]
     },
     "metadata": {
      "needs_background": "light"
     },
     "output_type": "display_data"
    }
   ],
   "source": [
    "sns.heatmap(X_rendu.isna(),cbar=False)"
   ]
  },
  {
   "cell_type": "markdown",
   "metadata": {},
   "source": [
    "# Data analysis\n",
    "\n",
    "Représentation graphique des données de test de notre modèle :\n",
    "\n",
    "## 1) Histogramme des données d'apprentissage"
   ]
  },
  {
   "cell_type": "code",
   "execution_count": 9,
   "metadata": {},
   "outputs": [
    {
     "data": {
      "text/plain": [
       "array([[<AxesSubplot:title={'center':'load_forecast'}>,\n",
       "        <AxesSubplot:title={'center':'coal_power_available'}>,\n",
       "        <AxesSubplot:title={'center':'gas_power_available'}>],\n",
       "       [<AxesSubplot:title={'center':'nucelear_power_available'}>,\n",
       "        <AxesSubplot:title={'center':'wind_power_forecasts_average'}>,\n",
       "        <AxesSubplot:title={'center':'solar_power_forecasts_average'}>],\n",
       "       [<AxesSubplot:title={'center':'wind_power_forecasts_std'}>,\n",
       "        <AxesSubplot:title={'center':'solar_power_forecasts_std'}>,\n",
       "        <AxesSubplot:title={'center':'predicted_spot_price'}>]],\n",
       "      dtype=object)"
      ]
     },
     "execution_count": 9,
     "metadata": {},
     "output_type": "execute_result"
    },
    {
     "data": {
      "image/png": "[encoded data removed]",
      "text/plain": [
       "<Figure size 1152x1440 with 9 Axes>"
      ]
     },
     "metadata": {
      "needs_background": "light"
     },
     "output_type": "display_data"
    }
   ],
   "source": [
    "X_test.hist(figsize=(16, 20), bins=50, xlabelsize=8, ylabelsize=8)"
   ]
  },
  {
   "cell_type": "markdown",
   "metadata": {},
   "source": [
    "## 2) Répartition des *spot_id_delta* dans *y_train*"
   ]
  },
  {
   "cell_type": "code",
   "execution_count": 10,
   "metadata": {},
   "outputs": [
    {
     "name": "stderr",
     "output_type": "stream",
     "text": [
      "C:\\Users\\matte\\anaconda3\\lib\\site-packages\\seaborn\\distributions.py:2557: FutureWarning: `distplot` is a deprecated function and will be removed in a future version. Please adapt your code to use either `displot` (a figure-level function with similar flexibility) or `histplot` (an axes-level function for histograms).\n",
      "  warnings.warn(msg, FutureWarning)\n"
     ]
    },
    {
     "data": {
      "text/plain": [
       "<AxesSubplot:xlabel='spot_id_delta', ylabel='Density'>"
      ]
     },
     "execution_count": 10,
     "metadata": {},
     "output_type": "execute_result"
    },
    {
     "data": {
      "image/png": "[encoded data removed]",
      "text/plain": [
       "<Figure size 720x360 with 1 Axes>"
      ]
     },
     "metadata": {
      "needs_background": "light"
     },
     "output_type": "display_data"
    }
   ],
   "source": [
    "plt.figure(figsize=(10, 5))\n",
    "sns.distplot(y_train['spot_id_delta'], color='g', bins=1000, hist_kws={'alpha': 0.4})"
   ]
  },
  {
   "cell_type": "markdown",
   "metadata": {},
   "source": [
    "## 3) Corrélation générale entre les paramètres du modèle :"
   ]
  },
  {
   "cell_type": "code",
   "execution_count": 11,
   "metadata": {},
   "outputs": [
    {
     "data": {
      "image/png": "[encoded data removed]",
      "text/plain": [
       "<Figure size 432x288 with 2 Axes>"
      ]
     },
     "metadata": {
      "needs_background": "light"
     },
     "output_type": "display_data"
    }
   ],
   "source": [
    "df = pd.merge(X_train, y_train, on='DELIVERY_START', how='inner')\n",
    "tab=df.corr()\n",
    "fig, ax = plt.subplots()\n",
    "im = ax.pcolor(tab, cmap='RdBu')\n",
    "row_labels = tab.columns\n",
    "col_labels = tab.index\n",
    "ax.set_xticks(np.arange(tab.shape[1])+0.5, minor= False)\n",
    "ax.set_yticks(np.arange(tab.shape[0])+0.5, minor= False)\n",
    "ax.set_xticklabels(row_labels, minor = False)\n",
    "ax.set_yticklabels(col_labels, minor = False)\n",
    "plt.xticks(rotation=90)\n",
    "fig.colorbar(im)\n",
    "plt.show()"
   ]
  },
  {
   "cell_type": "markdown",
   "metadata": {},
   "source": [
    "# Data cleaning\n",
    "\n",
    "On s'intéresse ici à la présence de nombreuses valeurs NaN. Ces valeurs représentent un vrai manque pour l'entraînement de notre modèle car elles sont majoritairement situées sur les données très corrélées avec le *spot_id_delta*.\n",
    "\n",
    "## 1) Valeurs aberrantes dans *y_train*\n",
    "\n",
    "Comme vu lors de la partie Data Analysis, certaines des valeurs de *y_train* (3) ont des valeurs très éloignées des autres. On s'occupe donc ici de retirer ces valeurs qui ne semblent pas cohérentes pour notre modèle :"
   ]
  },
  {
   "cell_type": "code",
   "execution_count": 12,
   "metadata": {},
   "outputs": [
    {
     "data": {
      "text/html": [
       "<div>\n",
       "<style scoped>\n",
       "    .dataframe tbody tr th:only-of-type {\n",
       "        vertical-align: middle;\n",
       "    }\n",
       "\n",
       "    .dataframe tbody tr th {\n",
       "        vertical-align: top;\n",
       "    }\n",
       "\n",
       "    .dataframe thead th {\n",
       "        text-align: right;\n",
       "    }\n",
       "</style>\n",
       "<table border=\"1\" class=\"dataframe\">\n",
       "  <thead>\n",
       "    <tr style=\"text-align: right;\">\n",
       "      <th></th>\n",
       "      <th>DELIVERY_START</th>\n",
       "      <th>spot_id_delta</th>\n",
       "    </tr>\n",
       "  </thead>\n",
       "  <tbody>\n",
       "    <tr>\n",
       "      <th>5984</th>\n",
       "      <td>2022-09-17 10:00:00+02:00</td>\n",
       "      <td>-37.905677</td>\n",
       "    </tr>\n",
       "    <tr>\n",
       "      <th>10118</th>\n",
       "      <td>2023-03-09 16:00:00+01:00</td>\n",
       "      <td>24.399947</td>\n",
       "    </tr>\n",
       "    <tr>\n",
       "      <th>8138</th>\n",
       "      <td>2022-12-16 04:00:00+01:00</td>\n",
       "      <td>-17.531674</td>\n",
       "    </tr>\n",
       "    <tr>\n",
       "      <th>4849</th>\n",
       "      <td>2022-07-29 03:00:00+02:00</td>\n",
       "      <td>-10.448003</td>\n",
       "    </tr>\n",
       "    <tr>\n",
       "      <th>3353</th>\n",
       "      <td>2022-05-24 19:00:00+02:00</td>\n",
       "      <td>18.265919</td>\n",
       "    </tr>\n",
       "  </tbody>\n",
       "</table>\n",
       "</div>"
      ],
      "text/plain": [
       "                  DELIVERY_START  spot_id_delta\n",
       "5984   2022-09-17 10:00:00+02:00     -37.905677\n",
       "10118  2023-03-09 16:00:00+01:00      24.399947\n",
       "8138   2022-12-16 04:00:00+01:00     -17.531674\n",
       "4849   2022-07-29 03:00:00+02:00     -10.448003\n",
       "3353   2022-05-24 19:00:00+02:00      18.265919"
      ]
     },
     "execution_count": 12,
     "metadata": {},
     "output_type": "execute_result"
    }
   ],
   "source": [
    "y_train.head()"
   ]
  },
  {
   "cell_type": "code",
   "execution_count": 13,
   "metadata": {},
   "outputs": [],
   "source": [
    "threshold = 600\n",
    "\n",
    "eliminated_starts = y_train[abs(y_train['spot_id_delta']) - threshold >= 0].DELIVERY_START\n",
    "\n",
    "y_train = y_train[~y_train['DELIVERY_START'].isin(eliminated_starts)] # on ne sélectionne que les valeurs qui ne correspondent pas aux dates enlevées\n",
    "X_train = X_train[~X_train['DELIVERY_START'].isin(eliminated_starts)] # de même ici pour être cohérent sur le nombre de lignes\n",
    "\n",
    "y_train.to_csv('../data/y_train_clean.csv', index=False)\n",
    "# X_train to_csv à la fin"
   ]
  },
  {
   "cell_type": "code",
   "execution_count": 14,
   "metadata": {},
   "outputs": [
    {
     "data": {
      "text/plain": [
       "3"
      ]
     },
     "execution_count": 14,
     "metadata": {},
     "output_type": "execute_result"
    }
   ],
   "source": [
    "eliminated_starts.size"
   ]
  },
  {
   "cell_type": "markdown",
   "metadata": {},
   "source": [
    "## 2) Prédiction de *load_forecast*\n",
    "\n",
    "Il y a environ 1500 données manquantes, que l'on va prédire à l'aide d'un modèle de régression Ridge:"
   ]
  },
  {
   "cell_type": "code",
   "execution_count": 15,
   "metadata": {
    "scrolled": true
   },
   "outputs": [
    {
     "data": {
      "text/plain": [
       "<AxesSubplot:>"
      ]
     },
     "execution_count": 15,
     "metadata": {},
     "output_type": "execute_result"
    },
    {
     "data": {
      "image/png": "[encoded data removed]",
      "text/plain": [
       "<Figure size 432x288 with 1 Axes>"
      ]
     },
     "metadata": {
      "needs_background": "light"
     },
     "output_type": "display_data"
    }
   ],
   "source": [
    "sns.heatmap(X_train.isna(),cbar=False)"
   ]
  },
  {
   "cell_type": "code",
   "execution_count": 16,
   "metadata": {},
   "outputs": [],
   "source": [
    "predicted_spot_price_train = X_train['predicted_spot_price']\n",
    "predicted_spot_price_rendu = X_rendu['predicted_spot_price']"
   ]
  },
  {
   "cell_type": "code",
   "execution_count": 17,
   "metadata": {},
   "outputs": [
    {
     "name": "stdout",
     "output_type": "stream",
     "text": [
      "linear regression score:  0.6707459050358678\n",
      "gradient boosting regression score:  0.7958027800267109\n",
      "random forest regression score:  0.8809966571223234\n"
     ]
    }
   ],
   "source": [
    "from sklearn.ensemble import GradientBoostingRegressor\n",
    "from sklearn.ensemble import RandomForestRegressor\n",
    "\n",
    "y_load = X_train.dropna(subset=['load_forecast'])['load_forecast']\n",
    "X_load = X_train.dropna(subset=['load_forecast'])\n",
    "X_load = X_load.loc[:, X_load.columns != 'predicted_spot_price']\n",
    "X_load = X_load.loc[:, X_load.columns != 'load_forecast']\n",
    "\n",
    "X_train_load, X_test_load, y_train_load, y_test_load = train_test_split(X_load, y_load, test_size=0.3)\n",
    "\n",
    "clf = LinearRegression()\n",
    "clf.fit(X_train_load.set_index('DELIVERY_START'), y_train_load)\n",
    "print('linear regression score: ', clf.score(X_test_load.set_index('DELIVERY_START'), y_test_load))\n",
    "\n",
    "clf = GradientBoostingRegressor()\n",
    "clf.fit(X_train_load.set_index('DELIVERY_START'), y_train_load)\n",
    "print('gradient boosting regression score: ', clf.score(X_test_load.set_index('DELIVERY_START'), y_test_load))\n",
    "\n",
    "clf = RandomForestRegressor()\n",
    "clf.fit(X_train_load.set_index('DELIVERY_START'), y_train_load)\n",
    "print('random forest regression score: ', clf.score(X_test_load.set_index('DELIVERY_START'), y_test_load))"
   ]
  },
  {
   "cell_type": "markdown",
   "metadata": {},
   "source": [
    "\n",
    "On choisit donc ici la régression ayant le meilleur score : Random Forest. On peut maintenant prédire les valeurs manquantes pour le *load_forecast* :"
   ]
  },
  {
   "cell_type": "code",
   "execution_count": 18,
   "metadata": {},
   "outputs": [
    {
     "data": {
      "text/html": [
       "<div>\n",
       "<style scoped>\n",
       "    .dataframe tbody tr th:only-of-type {\n",
       "        vertical-align: middle;\n",
       "    }\n",
       "\n",
       "    .dataframe tbody tr th {\n",
       "        vertical-align: top;\n",
       "    }\n",
       "\n",
       "    .dataframe thead th {\n",
       "        text-align: right;\n",
       "    }\n",
       "</style>\n",
       "<table border=\"1\" class=\"dataframe\">\n",
       "  <thead>\n",
       "    <tr style=\"text-align: right;\">\n",
       "      <th></th>\n",
       "      <th>DELIVERY_START</th>\n",
       "      <th>load_forecast</th>\n",
       "      <th>coal_power_available</th>\n",
       "      <th>gas_power_available</th>\n",
       "      <th>nucelear_power_available</th>\n",
       "      <th>wind_power_forecasts_average</th>\n",
       "      <th>solar_power_forecasts_average</th>\n",
       "      <th>wind_power_forecasts_std</th>\n",
       "      <th>solar_power_forecasts_std</th>\n",
       "      <th>predicted_spot_price</th>\n",
       "    </tr>\n",
       "  </thead>\n",
       "  <tbody>\n",
       "    <tr>\n",
       "      <th>4849</th>\n",
       "      <td>2022-07-29 03:00:00+02:00</td>\n",
       "      <td>38650.05</td>\n",
       "      <td>2226.0</td>\n",
       "      <td>11525.0</td>\n",
       "      <td>26430.0</td>\n",
       "      <td>1633.0</td>\n",
       "      <td>0.0</td>\n",
       "      <td>30.453919</td>\n",
       "      <td>0.000000</td>\n",
       "      <td>NaN</td>\n",
       "    </tr>\n",
       "    <tr>\n",
       "      <th>4223</th>\n",
       "      <td>2022-07-03 01:00:00+02:00</td>\n",
       "      <td>39368.68</td>\n",
       "      <td>2226.0</td>\n",
       "      <td>10555.0</td>\n",
       "      <td>28140.0</td>\n",
       "      <td>1655.0</td>\n",
       "      <td>0.0</td>\n",
       "      <td>23.064629</td>\n",
       "      <td>0.000000</td>\n",
       "      <td>NaN</td>\n",
       "    </tr>\n",
       "    <tr>\n",
       "      <th>4682</th>\n",
       "      <td>2022-07-22 04:00:00+02:00</td>\n",
       "      <td>39358.58</td>\n",
       "      <td>2226.0</td>\n",
       "      <td>11525.0</td>\n",
       "      <td>27380.0</td>\n",
       "      <td>2531.0</td>\n",
       "      <td>0.0</td>\n",
       "      <td>89.148587</td>\n",
       "      <td>0.000000</td>\n",
       "      <td>NaN</td>\n",
       "    </tr>\n",
       "    <tr>\n",
       "      <th>4320</th>\n",
       "      <td>2022-07-07 02:00:00+02:00</td>\n",
       "      <td>37014.35</td>\n",
       "      <td>2226.0</td>\n",
       "      <td>11115.0</td>\n",
       "      <td>27905.0</td>\n",
       "      <td>3116.0</td>\n",
       "      <td>0.0</td>\n",
       "      <td>65.772533</td>\n",
       "      <td>0.000000</td>\n",
       "      <td>NaN</td>\n",
       "    </tr>\n",
       "    <tr>\n",
       "      <th>4793</th>\n",
       "      <td>2022-07-26 19:00:00+02:00</td>\n",
       "      <td>46925.79</td>\n",
       "      <td>2226.0</td>\n",
       "      <td>11525.0</td>\n",
       "      <td>25582.0</td>\n",
       "      <td>2759.0</td>\n",
       "      <td>2052.0</td>\n",
       "      <td>171.245380</td>\n",
       "      <td>22.990681</td>\n",
       "      <td>NaN</td>\n",
       "    </tr>\n",
       "  </tbody>\n",
       "</table>\n",
       "</div>"
      ],
      "text/plain": [
       "                 DELIVERY_START  load_forecast  coal_power_available  \\\n",
       "4849  2022-07-29 03:00:00+02:00       38650.05                2226.0   \n",
       "4223  2022-07-03 01:00:00+02:00       39368.68                2226.0   \n",
       "4682  2022-07-22 04:00:00+02:00       39358.58                2226.0   \n",
       "4320  2022-07-07 02:00:00+02:00       37014.35                2226.0   \n",
       "4793  2022-07-26 19:00:00+02:00       46925.79                2226.0   \n",
       "\n",
       "      gas_power_available  nucelear_power_available  \\\n",
       "4849              11525.0                   26430.0   \n",
       "4223              10555.0                   28140.0   \n",
       "4682              11525.0                   27380.0   \n",
       "4320              11115.0                   27905.0   \n",
       "4793              11525.0                   25582.0   \n",
       "\n",
       "      wind_power_forecasts_average  solar_power_forecasts_average  \\\n",
       "4849                        1633.0                            0.0   \n",
       "4223                        1655.0                            0.0   \n",
       "4682                        2531.0                            0.0   \n",
       "4320                        3116.0                            0.0   \n",
       "4793                        2759.0                         2052.0   \n",
       "\n",
       "      wind_power_forecasts_std  solar_power_forecasts_std  \\\n",
       "4849                 30.453919                   0.000000   \n",
       "4223                 23.064629                   0.000000   \n",
       "4682                 89.148587                   0.000000   \n",
       "4320                 65.772533                   0.000000   \n",
       "4793                171.245380                  22.990681   \n",
       "\n",
       "      predicted_spot_price  \n",
       "4849                   NaN  \n",
       "4223                   NaN  \n",
       "4682                   NaN  \n",
       "4320                   NaN  \n",
       "4793                   NaN  "
      ]
     },
     "execution_count": 18,
     "metadata": {},
     "output_type": "execute_result"
    }
   ],
   "source": [
    "X_predict_load = X_train[X_train['load_forecast'].isna()]\n",
    "X_predict_load = X_predict_load.loc[:, X_predict_load.columns != 'predicted_spot_price']\n",
    "X_predict_load = X_predict_load.loc[:, X_predict_load.columns != 'load_forecast']\n",
    "\n",
    "X_predict_load_rendu = X_rendu[X_rendu['load_forecast'].isna()]\n",
    "X_predict_load_rendu = X_predict_load_rendu.loc[:, X_predict_load_rendu.columns != 'predicted_spot_price']\n",
    "X_predict_load_rendu = X_predict_load_rendu.loc[:, X_predict_load_rendu.columns != 'load_forecast']\n",
    "\n",
    "X_predict_load.insert(1, 'load_forecast', clf.predict(X_predict_load.set_index('DELIVERY_START')))\n",
    "X_predict_load = X_predict_load.join(X_train.pop('predicted_spot_price'))\n",
    "\n",
    "X_predict_load_rendu.insert(1, 'load_forecast', clf.predict(X_predict_load_rendu.set_index('DELIVERY_START')))\n",
    "X_predict_load_rendu = X_predict_load_rendu.join(X_rendu.pop('predicted_spot_price'))\n",
    "\n",
    "X_predict_load.head()"
   ]
  },
  {
   "cell_type": "code",
   "execution_count": 19,
   "metadata": {},
   "outputs": [
    {
     "data": {
      "text/html": [
       "<div>\n",
       "<style scoped>\n",
       "    .dataframe tbody tr th:only-of-type {\n",
       "        vertical-align: middle;\n",
       "    }\n",
       "\n",
       "    .dataframe tbody tr th {\n",
       "        vertical-align: top;\n",
       "    }\n",
       "\n",
       "    .dataframe thead th {\n",
       "        text-align: right;\n",
       "    }\n",
       "</style>\n",
       "<table border=\"1\" class=\"dataframe\">\n",
       "  <thead>\n",
       "    <tr style=\"text-align: right;\">\n",
       "      <th></th>\n",
       "      <th>DELIVERY_START</th>\n",
       "      <th>load_forecast</th>\n",
       "      <th>coal_power_available</th>\n",
       "      <th>gas_power_available</th>\n",
       "      <th>nucelear_power_available</th>\n",
       "      <th>wind_power_forecasts_average</th>\n",
       "      <th>solar_power_forecasts_average</th>\n",
       "      <th>wind_power_forecasts_std</th>\n",
       "      <th>solar_power_forecasts_std</th>\n",
       "      <th>predicted_spot_price</th>\n",
       "    </tr>\n",
       "  </thead>\n",
       "  <tbody>\n",
       "    <tr>\n",
       "      <th>5984</th>\n",
       "      <td>2022-09-17 10:00:00+02:00</td>\n",
       "      <td>42593.0</td>\n",
       "      <td>2226.0</td>\n",
       "      <td>10819.0</td>\n",
       "      <td>27360.0</td>\n",
       "      <td>4079.0</td>\n",
       "      <td>6062.0</td>\n",
       "      <td>110.569548</td>\n",
       "      <td>36.878399</td>\n",
       "      <td>NaN</td>\n",
       "    </tr>\n",
       "    <tr>\n",
       "      <th>10118</th>\n",
       "      <td>2023-03-09 16:00:00+01:00</td>\n",
       "      <td>52698.0</td>\n",
       "      <td>3386.0</td>\n",
       "      <td>11945.0</td>\n",
       "      <td>39815.0</td>\n",
       "      <td>11812.0</td>\n",
       "      <td>2777.0</td>\n",
       "      <td>505.979474</td>\n",
       "      <td>103.648685</td>\n",
       "      <td>NaN</td>\n",
       "    </tr>\n",
       "    <tr>\n",
       "      <th>8138</th>\n",
       "      <td>2022-12-16 04:00:00+01:00</td>\n",
       "      <td>60213.0</td>\n",
       "      <td>3386.0</td>\n",
       "      <td>11742.0</td>\n",
       "      <td>41880.0</td>\n",
       "      <td>5734.0</td>\n",
       "      <td>0.0</td>\n",
       "      <td>132.079212</td>\n",
       "      <td>0.000000</td>\n",
       "      <td>NaN</td>\n",
       "    </tr>\n",
       "    <tr>\n",
       "      <th>3353</th>\n",
       "      <td>2022-05-24 19:00:00+02:00</td>\n",
       "      <td>47934.0</td>\n",
       "      <td>2806.0</td>\n",
       "      <td>11140.0</td>\n",
       "      <td>30099.0</td>\n",
       "      <td>2284.0</td>\n",
       "      <td>1473.0</td>\n",
       "      <td>161.078062</td>\n",
       "      <td>25.593526</td>\n",
       "      <td>NaN</td>\n",
       "    </tr>\n",
       "    <tr>\n",
       "      <th>6252</th>\n",
       "      <td>2022-09-28 14:00:00+02:00</td>\n",
       "      <td>50221.0</td>\n",
       "      <td>2226.0</td>\n",
       "      <td>10699.0</td>\n",
       "      <td>30240.0</td>\n",
       "      <td>3705.0</td>\n",
       "      <td>4787.0</td>\n",
       "      <td>45.202124</td>\n",
       "      <td>54.294675</td>\n",
       "      <td>NaN</td>\n",
       "    </tr>\n",
       "  </tbody>\n",
       "</table>\n",
       "</div>"
      ],
      "text/plain": [
       "                  DELIVERY_START  load_forecast  coal_power_available  \\\n",
       "5984   2022-09-17 10:00:00+02:00        42593.0                2226.0   \n",
       "10118  2023-03-09 16:00:00+01:00        52698.0                3386.0   \n",
       "8138   2022-12-16 04:00:00+01:00        60213.0                3386.0   \n",
       "3353   2022-05-24 19:00:00+02:00        47934.0                2806.0   \n",
       "6252   2022-09-28 14:00:00+02:00        50221.0                2226.0   \n",
       "\n",
       "       gas_power_available  nucelear_power_available  \\\n",
       "5984               10819.0                   27360.0   \n",
       "10118              11945.0                   39815.0   \n",
       "8138               11742.0                   41880.0   \n",
       "3353               11140.0                   30099.0   \n",
       "6252               10699.0                   30240.0   \n",
       "\n",
       "       wind_power_forecasts_average  solar_power_forecasts_average  \\\n",
       "5984                         4079.0                         6062.0   \n",
       "10118                       11812.0                         2777.0   \n",
       "8138                         5734.0                            0.0   \n",
       "3353                         2284.0                         1473.0   \n",
       "6252                         3705.0                         4787.0   \n",
       "\n",
       "       wind_power_forecasts_std  solar_power_forecasts_std  \\\n",
       "5984                 110.569548                  36.878399   \n",
       "10118                505.979474                 103.648685   \n",
       "8138                 132.079212                   0.000000   \n",
       "3353                 161.078062                  25.593526   \n",
       "6252                  45.202124                  54.294675   \n",
       "\n",
       "       predicted_spot_price  \n",
       "5984                    NaN  \n",
       "10118                   NaN  \n",
       "8138                    NaN  \n",
       "3353                    NaN  \n",
       "6252                    NaN  "
      ]
     },
     "execution_count": 19,
     "metadata": {},
     "output_type": "execute_result"
    }
   ],
   "source": [
    "X_train = pd.concat([X_train[~X_train['load_forecast'].isna()], X_predict_load])\n",
    "X_rendu = pd.concat([X_rendu[~X_rendu['load_forecast'].isna()], X_predict_load_rendu])\n",
    "X_train.head()"
   ]
  },
  {
   "cell_type": "code",
   "execution_count": 20,
   "metadata": {},
   "outputs": [
    {
     "data": {
      "text/plain": [
       "count    1267.000000\n",
       "mean      140.322739\n",
       "std        33.981070\n",
       "min        42.420000\n",
       "25%       120.035000\n",
       "50%       139.720000\n",
       "75%       160.540000\n",
       "max       254.190000\n",
       "Name: predicted_spot_price, dtype: float64"
      ]
     },
     "execution_count": 20,
     "metadata": {},
     "output_type": "execute_result"
    }
   ],
   "source": [
    "X_train['predicted_spot_price'] = predicted_spot_price_train\n",
    "X_rendu['predicted_spot_price'] = predicted_spot_price_rendu\n",
    "X_train['predicted_spot_price'].describe()"
   ]
  },
  {
   "cell_type": "markdown",
   "metadata": {},
   "source": [
    "## 3) Prédiction de *predicted_spot_price*\n",
    "\n",
    "Maintenant, les valeurs pour de *load_forecast* NaN ont été remplacées. De part la forte corrélation en *predicted_spot_price* en *load_forecast*, et comme on dispose de toutes les valeurs de *load_forecast*, on peut maintenant créer un modèle capable de nous prédire les valeurs de *predicted_spot_price* manquantes:"
   ]
  },
  {
   "cell_type": "code",
   "execution_count": 21,
   "metadata": {},
   "outputs": [
    {
     "data": {
      "text/plain": [
       "<AxesSubplot:>"
      ]
     },
     "execution_count": 21,
     "metadata": {},
     "output_type": "execute_result"
    },
    {
     "data": {
      "image/png": "[encoded data removed]",
      "text/plain": [
       "<Figure size 432x288 with 1 Axes>"
      ]
     },
     "metadata": {
      "needs_background": "light"
     },
     "output_type": "display_data"
    }
   ],
   "source": [
    "sns.heatmap(X_train.isna(),cbar=False) # vérification qu'il n'y a plus de valeur manquante dans load_forecast"
   ]
  },
  {
   "cell_type": "code",
   "execution_count": 22,
   "metadata": {},
   "outputs": [
    {
     "name": "stdout",
     "output_type": "stream",
     "text": [
      "nombre de valeurs non NaN:  1267\n",
      "linear regression score:  0.797742663327206\n",
      "random forest regression score:  0.8525460057016047\n",
      "gradient boosting regression score:  0.8591020477754523\n"
     ]
    }
   ],
   "source": [
    "from sklearn.model_selection import RandomizedSearchCV\n",
    "from scipy.stats import uniform\n",
    "from scipy.stats import randint\n",
    "\n",
    "delivery_starts = X_train['DELIVERY_START']\n",
    "\n",
    "y_spot = X_train.dropna(subset=['predicted_spot_price'])['predicted_spot_price']\n",
    "X_spot = X_train.dropna(subset=['predicted_spot_price'])\n",
    "X_spot = X_spot.loc[:, X_spot.columns != 'predicted_spot_price']\n",
    "X_spot = X_spot.set_index('DELIVERY_START')\n",
    "\n",
    "print('nombre de valeurs non NaN: ', len(y_spot))\n",
    "\n",
    "X_train_spot, X_test_spot, y_train_spot, y_test_spot = train_test_split(X_spot, y_spot, test_size=0.25)\n",
    "\n",
    "clf = LinearRegression()\n",
    "clf.fit(X_train_spot, y_train_spot)\n",
    "print('linear regression score: ', clf.score(X_test_spot, y_test_spot))\n",
    "\n",
    "clf = RandomForestRegressor()\n",
    "clf.fit(X_train_spot, y_train_spot)\n",
    "print('random forest regression score: ', clf.score(X_test_spot, y_test_spot))\n",
    "\n",
    "clf = GradientBoostingRegressor()\n",
    "clf.fit(X_train_spot, y_train_spot)\n",
    "print('gradient boosting regression score: ', clf.score(X_test_spot, y_test_spot))"
   ]
  },
  {
   "cell_type": "code",
   "execution_count": 23,
   "metadata": {},
   "outputs": [
    {
     "data": {
      "text/html": [
       "<div>\n",
       "<style scoped>\n",
       "    .dataframe tbody tr th:only-of-type {\n",
       "        vertical-align: middle;\n",
       "    }\n",
       "\n",
       "    .dataframe tbody tr th {\n",
       "        vertical-align: top;\n",
       "    }\n",
       "\n",
       "    .dataframe thead th {\n",
       "        text-align: right;\n",
       "    }\n",
       "</style>\n",
       "<table border=\"1\" class=\"dataframe\">\n",
       "  <thead>\n",
       "    <tr style=\"text-align: right;\">\n",
       "      <th></th>\n",
       "      <th>load_forecast</th>\n",
       "      <th>coal_power_available</th>\n",
       "      <th>gas_power_available</th>\n",
       "      <th>nucelear_power_available</th>\n",
       "      <th>wind_power_forecasts_average</th>\n",
       "      <th>solar_power_forecasts_average</th>\n",
       "      <th>wind_power_forecasts_std</th>\n",
       "      <th>solar_power_forecasts_std</th>\n",
       "      <th>predicted_spot_price</th>\n",
       "    </tr>\n",
       "    <tr>\n",
       "      <th>DELIVERY_START</th>\n",
       "      <th></th>\n",
       "      <th></th>\n",
       "      <th></th>\n",
       "      <th></th>\n",
       "      <th></th>\n",
       "      <th></th>\n",
       "      <th></th>\n",
       "      <th></th>\n",
       "      <th></th>\n",
       "    </tr>\n",
       "  </thead>\n",
       "  <tbody>\n",
       "    <tr>\n",
       "      <th>2022-09-17 10:00:00+02:00</th>\n",
       "      <td>42593.0</td>\n",
       "      <td>2226.0</td>\n",
       "      <td>10819.0</td>\n",
       "      <td>27360.0</td>\n",
       "      <td>4079.0</td>\n",
       "      <td>6062.0</td>\n",
       "      <td>110.569548</td>\n",
       "      <td>36.878399</td>\n",
       "      <td>85.878258</td>\n",
       "    </tr>\n",
       "    <tr>\n",
       "      <th>2022-12-16 04:00:00+01:00</th>\n",
       "      <td>60213.0</td>\n",
       "      <td>3386.0</td>\n",
       "      <td>11742.0</td>\n",
       "      <td>41880.0</td>\n",
       "      <td>5734.0</td>\n",
       "      <td>0.0</td>\n",
       "      <td>132.079212</td>\n",
       "      <td>0.000000</td>\n",
       "      <td>144.096841</td>\n",
       "    </tr>\n",
       "    <tr>\n",
       "      <th>2022-05-24 19:00:00+02:00</th>\n",
       "      <td>47934.0</td>\n",
       "      <td>2806.0</td>\n",
       "      <td>11140.0</td>\n",
       "      <td>30099.0</td>\n",
       "      <td>2284.0</td>\n",
       "      <td>1473.0</td>\n",
       "      <td>161.078062</td>\n",
       "      <td>25.593526</td>\n",
       "      <td>108.104245</td>\n",
       "    </tr>\n",
       "    <tr>\n",
       "      <th>2022-09-28 14:00:00+02:00</th>\n",
       "      <td>50221.0</td>\n",
       "      <td>2226.0</td>\n",
       "      <td>10699.0</td>\n",
       "      <td>30240.0</td>\n",
       "      <td>3705.0</td>\n",
       "      <td>4787.0</td>\n",
       "      <td>45.202124</td>\n",
       "      <td>54.294675</td>\n",
       "      <td>101.094395</td>\n",
       "    </tr>\n",
       "    <tr>\n",
       "      <th>2022-10-23 11:00:00+02:00</th>\n",
       "      <td>40844.0</td>\n",
       "      <td>2806.0</td>\n",
       "      <td>11480.0</td>\n",
       "      <td>29250.0</td>\n",
       "      <td>7831.0</td>\n",
       "      <td>3098.0</td>\n",
       "      <td>288.872278</td>\n",
       "      <td>79.519559</td>\n",
       "      <td>82.430735</td>\n",
       "    </tr>\n",
       "  </tbody>\n",
       "</table>\n",
       "</div>"
      ],
      "text/plain": [
       "                           load_forecast  coal_power_available  \\\n",
       "DELIVERY_START                                                   \n",
       "2022-09-17 10:00:00+02:00        42593.0                2226.0   \n",
       "2022-12-16 04:00:00+01:00        60213.0                3386.0   \n",
       "2022-05-24 19:00:00+02:00        47934.0                2806.0   \n",
       "2022-09-28 14:00:00+02:00        50221.0                2226.0   \n",
       "2022-10-23 11:00:00+02:00        40844.0                2806.0   \n",
       "\n",
       "                           gas_power_available  nucelear_power_available  \\\n",
       "DELIVERY_START                                                             \n",
       "2022-09-17 10:00:00+02:00              10819.0                   27360.0   \n",
       "2022-12-16 04:00:00+01:00              11742.0                   41880.0   \n",
       "2022-05-24 19:00:00+02:00              11140.0                   30099.0   \n",
       "2022-09-28 14:00:00+02:00              10699.0                   30240.0   \n",
       "2022-10-23 11:00:00+02:00              11480.0                   29250.0   \n",
       "\n",
       "                           wind_power_forecasts_average  \\\n",
       "DELIVERY_START                                            \n",
       "2022-09-17 10:00:00+02:00                        4079.0   \n",
       "2022-12-16 04:00:00+01:00                        5734.0   \n",
       "2022-05-24 19:00:00+02:00                        2284.0   \n",
       "2022-09-28 14:00:00+02:00                        3705.0   \n",
       "2022-10-23 11:00:00+02:00                        7831.0   \n",
       "\n",
       "                           solar_power_forecasts_average  \\\n",
       "DELIVERY_START                                             \n",
       "2022-09-17 10:00:00+02:00                         6062.0   \n",
       "2022-12-16 04:00:00+01:00                            0.0   \n",
       "2022-05-24 19:00:00+02:00                         1473.0   \n",
       "2022-09-28 14:00:00+02:00                         4787.0   \n",
       "2022-10-23 11:00:00+02:00                         3098.0   \n",
       "\n",
       "                           wind_power_forecasts_std  \\\n",
       "DELIVERY_START                                        \n",
       "2022-09-17 10:00:00+02:00                110.569548   \n",
       "2022-12-16 04:00:00+01:00                132.079212   \n",
       "2022-05-24 19:00:00+02:00                161.078062   \n",
       "2022-09-28 14:00:00+02:00                 45.202124   \n",
       "2022-10-23 11:00:00+02:00                288.872278   \n",
       "\n",
       "                           solar_power_forecasts_std  predicted_spot_price  \n",
       "DELIVERY_START                                                              \n",
       "2022-09-17 10:00:00+02:00                  36.878399             85.878258  \n",
       "2022-12-16 04:00:00+01:00                   0.000000            144.096841  \n",
       "2022-05-24 19:00:00+02:00                  25.593526            108.104245  \n",
       "2022-09-28 14:00:00+02:00                  54.294675            101.094395  \n",
       "2022-10-23 11:00:00+02:00                  79.519559             82.430735  "
      ]
     },
     "execution_count": 23,
     "metadata": {},
     "output_type": "execute_result"
    }
   ],
   "source": [
    "X_predict_spot = X_train[X_train['predicted_spot_price'].isna()]\n",
    "X_predict_spot = X_predict_spot.loc[:, X_predict_spot.columns != 'predicted_spot_price']\n",
    "X_predict_spot = X_predict_spot.set_index('DELIVERY_START')\n",
    "\n",
    "X_predict_rendu = X_rendu[X_rendu['predicted_spot_price'].isna()]\n",
    "X_predict_rendu = X_predict_rendu.loc[:, X_predict_rendu.columns != 'predicted_spot_price']\n",
    "X_predict_rendu = X_predict_rendu.set_index('DELIVERY_START')\n",
    "\n",
    "X_predict_spot.insert(8, 'predicted_spot_price', clf.predict(X_predict_spot))\n",
    "X_predict_rendu.insert(8, 'predicted_spot_price', clf.predict(X_predict_rendu))\n",
    "X_predict_spot.head()"
   ]
  },
  {
   "cell_type": "code",
   "execution_count": 24,
   "metadata": {},
   "outputs": [
    {
     "data": {
      "text/plain": [
       "<AxesSubplot:>"
      ]
     },
     "execution_count": 24,
     "metadata": {},
     "output_type": "execute_result"
    },
    {
     "data": {
      "image/png": "[encoded data removed]",
      "text/plain": [
       "<Figure size 432x288 with 1 Axes>"
      ]
     },
     "metadata": {
      "needs_background": "light"
     },
     "output_type": "display_data"
    }
   ],
   "source": [
    "X_train = pd.concat([X_train[~X_train['predicted_spot_price'].isna()], X_predict_spot.reset_index('DELIVERY_START')])\n",
    "X_rendu = pd.concat([X_rendu[~X_rendu['predicted_spot_price'].isna()], X_predict_rendu.reset_index('DELIVERY_START')])\n",
    "sns.heatmap(X_train.isna(),cbar=False)"
   ]
  },
  {
   "cell_type": "code",
   "execution_count": 25,
   "metadata": {},
   "outputs": [
    {
     "data": {
      "text/plain": [
       "<AxesSubplot:>"
      ]
     },
     "execution_count": 25,
     "metadata": {},
     "output_type": "execute_result"
    },
    {
     "data": {
      "image/png": "[encoded data removed]",
      "text/plain": [
       "<Figure size 432x288 with 1 Axes>"
      ]
     },
     "metadata": {
      "needs_background": "light"
     },
     "output_type": "display_data"
    }
   ],
   "source": [
    "sns.heatmap(X_rendu.isna(),cbar=False)"
   ]
  },
  {
   "cell_type": "code",
   "execution_count": 26,
   "metadata": {},
   "outputs": [],
   "source": [
    "X_train.to_csv('../data/X_train_clean.csv')\n",
    "X_rendu.to_csv('../data/X_test_clean.csv')"
   ]
  },
  {
   "cell_type": "markdown",
   "metadata": {},
   "source": [
    "On remarque bien que le database est maintenant dépourvu de valeurs NaN !"
   ]
  },
  {
   "cell_type": "markdown",
   "metadata": {},
   "source": [
    "## Astuces et idées d'amélioration\n",
    "\n",
    "- Réféchir à la modélation des différents facteurs qui font bouger les prix de l'électricité dans chaque pays pourra être utile. \n",
    "\n",
    "- Le jeu de données est relativement petit - c'est un \"small data challenge\" - alors attention à ne pas surapprendre les paramètres de vos modèles ! Il sera certainement utile de mettre en place de bonnes pratiques de validation croisée.\n"
   ]
  },
  {
   "cell_type": "code",
   "execution_count": 27,
   "metadata": {},
   "outputs": [
    {
     "ename": "NameError",
     "evalue": "name 'X_train_clean' is not defined",
     "output_type": "error",
     "traceback": [
      "\u001b[1;31m---------------------------------------------------------------------------\u001b[0m",
      "\u001b[1;31mNameError\u001b[0m                                 Traceback (most recent call last)",
      "\u001b[1;32m<ipython-input-27-fb58e97b8d92>\u001b[0m in \u001b[0;36m<module>\u001b[1;34m\u001b[0m\n\u001b[0;32m      1\u001b[0m \u001b[0mlm\u001b[0m\u001b[1;33m=\u001b[0m\u001b[0mLinearRegression\u001b[0m\u001b[1;33m(\u001b[0m\u001b[1;33m)\u001b[0m\u001b[1;33m\u001b[0m\u001b[1;33m\u001b[0m\u001b[0m\n\u001b[1;32m----> 2\u001b[1;33m \u001b[0mZ\u001b[0m \u001b[1;33m=\u001b[0m \u001b[0mX_train_clean\u001b[0m\u001b[1;33m\u001b[0m\u001b[1;33m\u001b[0m\u001b[0m\n\u001b[0m\u001b[0;32m      3\u001b[0m \u001b[0mlm\u001b[0m\u001b[1;33m.\u001b[0m\u001b[0mfit\u001b[0m\u001b[1;33m(\u001b[0m\u001b[0mZ\u001b[0m\u001b[1;33m,\u001b[0m \u001b[0mY_train\u001b[0m\u001b[1;33m[\u001b[0m\u001b[1;34m'spot_id_delta'\u001b[0m\u001b[1;33m]\u001b[0m\u001b[1;33m)\u001b[0m\u001b[1;33m\u001b[0m\u001b[1;33m\u001b[0m\u001b[0m\n\u001b[0;32m      4\u001b[0m \u001b[0mY_hat\u001b[0m \u001b[1;33m=\u001b[0m \u001b[0mlm\u001b[0m\u001b[1;33m.\u001b[0m\u001b[0mpredict\u001b[0m\u001b[1;33m(\u001b[0m\u001b[0mX_train_clean\u001b[0m\u001b[1;33m)\u001b[0m\u001b[1;33m\u001b[0m\u001b[1;33m\u001b[0m\u001b[0m\n\u001b[0;32m      5\u001b[0m \u001b[0msns\u001b[0m\u001b[1;33m.\u001b[0m\u001b[0mresidplot\u001b[0m\u001b[1;33m(\u001b[0m\u001b[0mZ\u001b[0m\u001b[1;33m[\u001b[0m\u001b[1;34m'load_forecast'\u001b[0m\u001b[1;33m]\u001b[0m\u001b[1;33m,\u001b[0m \u001b[0mY_train\u001b[0m\u001b[1;33m[\u001b[0m\u001b[1;34m'spot_id_delta'\u001b[0m\u001b[1;33m]\u001b[0m\u001b[1;33m)\u001b[0m\u001b[1;33m\u001b[0m\u001b[1;33m\u001b[0m\u001b[0m\n",
      "\u001b[1;31mNameError\u001b[0m: name 'X_train_clean' is not defined"
     ]
    }
   ],
   "source": [
    "lm=LinearRegression()\n",
    "Z = X_train_clean\n",
    "lm.fit(Z, Y_train['spot_id_delta'])\n",
    "Y_hat = lm.predict(X_train_clean)\n",
    "sns.residplot(Z['load_forecast'], Y_train['spot_id_delta'])"
   ]
  },
  {
   "cell_type": "code",
   "execution_count": null,
   "metadata": {},
   "outputs": [],
   "source": [
    "Input = [('Scale',StandardScaler()),('polynomial',PolynomialFeatures(degree=2)),('model',LinearRegression())]\n",
    "pipe=Pipeline(Input)\n",
    "pipe.fit(X_train_clean,Y_train['spot_id_delta'])\n",
    "Y_hat=pipe.predict(X_train_clean)"
   ]
  },
  {
   "cell_type": "markdown",
   "metadata": {},
   "source": [
    "On voit quand on trace les résidus de la regression linéaire entre le load_forecast en France et la différence, une distribution équiprobable partout ce qui laisse penser que la regression linéaire est correcte\n"
   ]
  },
  {
   "cell_type": "code",
   "execution_count": null,
   "metadata": {},
   "outputs": [],
   "source": [
    "RSQ_test= []\n",
    "lr=LinearRegression()\n",
    "X_test_clean = X_test.drop(['DELIVERY_START'], axis=1).fillna(0)\n",
    "Y_test_clean = Y_train.drop(['DELIVERY_START'], axis=1).fillna(0)\n",
    "order = [1,2,3,4,5]\n",
    "for n in order :\n",
    "    pr = PolynomialFeatures(degree=n)\n",
    "    x_train_pr=pr.fit_transform(X_train_clean[['load_forecast']])\n",
    "    x_test_pr=pr.fit_transform(X_test_clean[['load_forecast']])\n",
    "    lr.fit(x_train_pr,Y_train_clean)\n",
    "    RSQ_test.append(lr.score(x_test_pr,Y_test_clean))"
   ]
  },
  {
   "cell_type": "code",
   "execution_count": null,
   "metadata": {},
   "outputs": [],
   "source": [
    "from sklearn.linear_model import Ridge\n",
    "from sklearn.model_selection import GridSearchCV\n",
    "\n",
    "RidgeModel = Ridge(alpha=0.1)\n",
    "RidgeModel.fit(X_train_clean,Y_train_clean)\n",
    "Yhat=RidgeModel.predict(X_train_clean)\n",
    "\n",
    "parameters = [{'alpha': [0.001,2,10,100,1000,10000,100000,1000000000]}]\n",
    "RR=Ridge()\n",
    "Grid1=GridSearchCV(RR,parameters,cv=5)\n",
    "Grid1.fit(X_train_clean,Y_train_clean)\n",
    "Grid1.best_estimator_\n",
    "scores=Grid1.cv_results_\n",
    "\n",
    "\n",
    "for param, mean_val in zip(scores['params'],scores['mean_test_score']):\n",
    "    print(param, \"R^2 on test data:\", mean_val)\n",
    "    \n"
   ]
  }
 ],
 "metadata": {
  "hide_input": false,
  "kernelspec": {
   "display_name": "Python 3",
   "language": "python",
   "name": "python3"
  },
  "language_info": {
   "codemirror_mode": {
    "name": "ipython",
    "version": 3
   },
   "file_extension": ".py",
   "mimetype": "text/x-python",
   "name": "python",
   "nbconvert_exporter": "python",
   "pygments_lexer": "ipython3",
   "version": "3.8.8"
  },
  "toc": {
   "base_numbering": 1,
   "nav_menu": {},
   "number_sections": true,
   "sideBar": true,
   "skip_h1_title": false,
   "title_cell": "Table of Contents",
   "title_sidebar": "Contents",
   "toc_cell": false,
   "toc_position": {},
   "toc_section_display": true,
   "toc_window_display": false
  },
  "vscode": {
   "interpreter": {
    "hash": "e98505b2ea4c5ad54dad79b106a9e9e74f288112ea588ce88c6ce949430e0824"
   }
  }
 },
 "nbformat": 4,
 "nbformat_minor": 2
}
