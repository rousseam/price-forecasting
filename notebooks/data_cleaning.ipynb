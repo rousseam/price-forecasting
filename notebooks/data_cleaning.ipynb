{
 "cells": [
  {
   "cell_type": "markdown",
   "id": "9efe8380",
   "metadata": {},
   "source": []
  },
  {
   "cell_type": "code",
   "execution_count": 2,
   "id": "c8f7dfbf",
   "metadata": {},
   "outputs": [],
   "source": [
    "import pandas as pd\n",
    "import numpy as np\n",
    "\n",
    "y_train = pd.read_csv('../data/y_train.csv').fillna(0)\n",
    "X_train = pd.read_csv('../data/X_train.csv').fillna(0)\n",
    "\n",
    "threshold = 600\n",
    "eliminated_starts = y_train[abs(y_train['spot_id_delta']) - threshold >= 0].DELIVERY_START\n",
    "\n",
    "y_train = y_train[~y_train['DELIVERY_START'].isin(eliminated_starts)]\n",
    "X_train = X_train[~X_train['DELIVERY_START'].isin(eliminated_starts)]\n",
    "\n",
    "y_train.to_csv('../data/y_train_clean.csv', index=False)\n",
    "X_train.to_csv('../data/X_train_clean.csv', index=False)\n"
   ]
  },
  {
   "cell_type": "code",
   "execution_count": null,
   "id": "f469a9cb",
   "metadata": {},
   "outputs": [],
   "source": []
  }
 ],
 "metadata": {
  "kernelspec": {
   "display_name": "Python 3",
   "language": "python",
   "name": "python3"
  },
  "language_info": {
   "codemirror_mode": {
    "name": "ipython",
    "version": 3
   },
   "file_extension": ".py",
   "mimetype": "text/x-python",
   "name": "python",
   "nbconvert_exporter": "python",
   "pygments_lexer": "ipython3",
   "version": "3.8.8"
  }
 },
 "nbformat": 4,
 "nbformat_minor": 5
}
