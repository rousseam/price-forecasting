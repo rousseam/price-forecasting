{
 "cells": [
  {
   "cell_type": "markdown",
   "id": "eca447b1",
   "metadata": {},
   "source": [
    "# [Challenge Data - Electricity price forecasting by Elmy](https://challengedata.ens.fr/challenges/140)\n",
    "\n",
    "## Decision Tree Classifier\n",
    "\n",
    "Ce notebook vise à faire l'étude (mise en place, optimisation et score) de la méthode de Decision Tree Learning sur notre problème de prédiction du paramètre _spot_id_delta_. Pour cela, nous allons regrouper les données d'entrainement en deux groupes :\n",
    "* _spot_id_delta_ >= 0\n",
    "* _spot_id_delta_ <= 0"
   ]
  },
  {
   "cell_type": "code",
   "execution_count": null,
   "id": "e1bc9a87",
   "metadata": {},
   "outputs": [],
   "source": [
    "def classifier(y: DataFrame):\n",
    "    # y['spot_id_delta'] = \n",
    "    pass"
   ]
  },
  {
   "cell_type": "code",
   "execution_count": 9,
   "id": "028cb3bc",
   "metadata": {},
   "outputs": [],
   "source": [
    "import numpy as np\n",
    "import pandas as pd\n",
    "from scipy import stats\n",
    "\n",
    "from sklearn.model_selection import train_test_split\n",
    "\n",
    "X = pd.read_csv('../data/X_train.csv').drop('DELIVERY_START', axis=1).fillna(0)\n",
    "y = pd.read_csv('../data/y_train.csv').drop('DELIVERY_START', axis=1).fillna(0)\n",
    "X_rendu = pd.read_csv('../data/X_test.csv')\n",
    "\n",
    "X_train, X_test, y_train, y_test = train_test_split(X, y, test_size=0.3)\n",
    "\n",
    "y_train = y_train.loc[:, ['spot_id_delta']] # permet de ne pas déclencher un SettingWithCopyWarning\n",
    "y_test = y_test.loc[:, ['spot_id_delta']]   # permet de ne pas déclencher un SettingWithCopyWarning\n",
    "y_train['spot_id_delta'] = np.sign(y_train['spot_id_delta'])\n",
    "y_test['spot_id_delta'] = np.sign(y_test['spot_id_delta'])"
   ]
  },
  {
   "cell_type": "code",
   "execution_count": 4,
   "id": "f39dfc8e",
   "metadata": {},
   "outputs": [
    {
     "data": {
      "text/html": [
       "<div>\n",
       "<style scoped>\n",
       "    .dataframe tbody tr th:only-of-type {\n",
       "        vertical-align: middle;\n",
       "    }\n",
       "\n",
       "    .dataframe tbody tr th {\n",
       "        vertical-align: top;\n",
       "    }\n",
       "\n",
       "    .dataframe thead th {\n",
       "        text-align: right;\n",
       "    }\n",
       "</style>\n",
       "<table border=\"1\" class=\"dataframe\">\n",
       "  <thead>\n",
       "    <tr style=\"text-align: right;\">\n",
       "      <th></th>\n",
       "      <th>spot_id_delta</th>\n",
       "    </tr>\n",
       "  </thead>\n",
       "  <tbody>\n",
       "    <tr>\n",
       "      <th>3933</th>\n",
       "      <td>1.0</td>\n",
       "    </tr>\n",
       "    <tr>\n",
       "      <th>4322</th>\n",
       "      <td>1.0</td>\n",
       "    </tr>\n",
       "    <tr>\n",
       "      <th>8177</th>\n",
       "      <td>1.0</td>\n",
       "    </tr>\n",
       "    <tr>\n",
       "      <th>3025</th>\n",
       "      <td>1.0</td>\n",
       "    </tr>\n",
       "    <tr>\n",
       "      <th>8326</th>\n",
       "      <td>1.0</td>\n",
       "    </tr>\n",
       "  </tbody>\n",
       "</table>\n",
       "</div>"
      ],
      "text/plain": [
       "      spot_id_delta\n",
       "3933            1.0\n",
       "4322            1.0\n",
       "8177            1.0\n",
       "3025            1.0\n",
       "8326            1.0"
      ]
     },
     "execution_count": 4,
     "metadata": {},
     "output_type": "execute_result"
    }
   ],
   "source": [
    "y_train.head()"
   ]
  },
  {
   "cell_type": "markdown",
   "id": "222ce424",
   "metadata": {},
   "source": [
    "Maintenant que les données sont classifiées, on peut entraîner un modèle de Decistion Tree Learning:"
   ]
  },
  {
   "cell_type": "code",
   "execution_count": 10,
   "id": "67d92f29",
   "metadata": {},
   "outputs": [
    {
     "data": {
      "text/plain": [
       "<matplotlib.legend.Legend at 0x1951e068370>"
      ]
     },
     "execution_count": 10,
     "metadata": {},
     "output_type": "execute_result"
    },
    {
     "data": {
      "image/png": "[encoded data removed]",
      "text/plain": [
       "<Figure size 720x360 with 1 Axes>"
      ]
     },
     "metadata": {
      "needs_background": "light"
     },
     "output_type": "display_data"
    }
   ],
   "source": [
    "import matplotlib.pyplot as plt\n",
    "from sklearn.tree import DecisionTreeClassifier\n",
    "\n",
    "depths = np.arange(1, 30)\n",
    "train_weights = []\n",
    "test_weights = []\n",
    "train_scores = []\n",
    "test_scores = []\n",
    "\n",
    "for depth in depths:\n",
    "    clf = DecisionTreeClassifier(max_depth=depth)\n",
    "    clf.fit(X_train, y_train)\n",
    "    train_scores.append(clf.score(X_train, y_train))\n",
    "    test_scores.append(clf.score(X_test, y_test))\n",
    "    \n",
    "\n",
    "plt.figure(figsize=(10, 5))\n",
    "plt.plot(depths, train_scores, color=\"b\", linestyle=':', label=\"train\")\n",
    "plt.plot(depths, test_scores, color=\"r\", linestyle='-', label=\"test\")\n",
    "plt.xlabel(\"Tree depth\")\n",
    "plt.ylabel(\"Score\")\n",
    "plt.grid()\n",
    "plt.legend(loc=\"best\")\n"
   ]
  },
  {
   "cell_type": "markdown",
   "id": "534d6ea7",
   "metadata": {},
   "source": [
    "On en déduit la profondeur optimale pour le Decision Tree Classifier :"
   ]
  },
  {
   "cell_type": "code",
   "execution_count": 11,
   "id": "d9e51e2d",
   "metadata": {},
   "outputs": [
    {
     "name": "stdout",
     "output_type": "stream",
     "text": [
      "best_depth = 28 for a score of 0.677561282212445\n"
     ]
    }
   ],
   "source": [
    "best_depth = depths[np.argmax(test_scores)]\n",
    "print(f\"best_depth = {best_depth} for a score of {max(test_scores)}\")"
   ]
  },
  {
   "cell_type": "markdown",
   "id": "feebb624",
   "metadata": {},
   "source": [
    "Le score étant supérieur à 0.5, on peut donc prédire avec ce modèle **avec plus d'une chance sur deux** si le prix sera plus élevé sur le marché SPOT ou sur le marché Intraday.\n",
    "\n",
    "On souhaite maintenant faire les prédictions à partir du data set X_rendu :"
   ]
  },
  {
   "cell_type": "code",
   "execution_count": 14,
   "id": "88aa36a1",
   "metadata": {},
   "outputs": [],
   "source": [
    "clf = DecisionTreeClassifier(max_depth=24)\n",
    "clf.fit(X_train, y_train)\n",
    "\n",
    "Y_test_submission = X_rendu[['DELIVERY_START']].copy()\n",
    "Y_test_submission['spot_id_delta'] = clf.predict(X_rendu.drop('DELIVERY_START', axis=1).fillna(0))\n"
   ]
  },
  {
   "cell_type": "code",
   "execution_count": 15,
   "id": "51718e41",
   "metadata": {},
   "outputs": [
    {
     "data": {
      "text/html": [
       "<div>\n",
       "<style scoped>\n",
       "    .dataframe tbody tr th:only-of-type {\n",
       "        vertical-align: middle;\n",
       "    }\n",
       "\n",
       "    .dataframe tbody tr th {\n",
       "        vertical-align: top;\n",
       "    }\n",
       "\n",
       "    .dataframe thead th {\n",
       "        text-align: right;\n",
       "    }\n",
       "</style>\n",
       "<table border=\"1\" class=\"dataframe\">\n",
       "  <thead>\n",
       "    <tr style=\"text-align: right;\">\n",
       "      <th></th>\n",
       "      <th>DELIVERY_START</th>\n",
       "      <th>spot_id_delta</th>\n",
       "    </tr>\n",
       "  </thead>\n",
       "  <tbody>\n",
       "    <tr>\n",
       "      <th>0</th>\n",
       "      <td>2023-04-02 00:00:00+02:00</td>\n",
       "      <td>1.0</td>\n",
       "    </tr>\n",
       "    <tr>\n",
       "      <th>1</th>\n",
       "      <td>2023-04-02 01:00:00+02:00</td>\n",
       "      <td>1.0</td>\n",
       "    </tr>\n",
       "    <tr>\n",
       "      <th>2</th>\n",
       "      <td>2023-04-02 02:00:00+02:00</td>\n",
       "      <td>1.0</td>\n",
       "    </tr>\n",
       "    <tr>\n",
       "      <th>3</th>\n",
       "      <td>2023-04-02 03:00:00+02:00</td>\n",
       "      <td>-1.0</td>\n",
       "    </tr>\n",
       "    <tr>\n",
       "      <th>4</th>\n",
       "      <td>2023-04-02 04:00:00+02:00</td>\n",
       "      <td>-1.0</td>\n",
       "    </tr>\n",
       "  </tbody>\n",
       "</table>\n",
       "</div>"
      ],
      "text/plain": [
       "              DELIVERY_START  spot_id_delta\n",
       "0  2023-04-02 00:00:00+02:00            1.0\n",
       "1  2023-04-02 01:00:00+02:00            1.0\n",
       "2  2023-04-02 02:00:00+02:00            1.0\n",
       "3  2023-04-02 03:00:00+02:00           -1.0\n",
       "4  2023-04-02 04:00:00+02:00           -1.0"
      ]
     },
     "execution_count": 15,
     "metadata": {},
     "output_type": "execute_result"
    }
   ],
   "source": [
    "Y_test_submission.head()"
   ]
  },
  {
   "cell_type": "code",
   "execution_count": 16,
   "id": "fbc01cf3",
   "metadata": {},
   "outputs": [],
   "source": [
    "Y_test_submission.to_csv('../data/y_submission.csv', index=False)"
   ]
  },
  {
   "cell_type": "code",
   "execution_count": 34,
   "id": "30b31232",
   "metadata": {},
   "outputs": [
    {
     "name": "stdout",
     "output_type": "stream",
     "text": [
      "2141    2022-04-04 07:00:00+02:00\n",
      "2142    2022-04-04 08:00:00+02:00\n",
      "4796    2022-07-26 22:00:00+02:00\n",
      "Name: DELIVERY_START, dtype: object\n"
     ]
    },
    {
     "data": {
      "text/plain": [
       "<matplotlib.collections.PathCollection at 0x1951e813eb0>"
      ]
     },
     "execution_count": 34,
     "metadata": {},
     "output_type": "execute_result"
    },
    {
     "data": {
      "image/png": "[encoded data removed]",
      "text/plain": [
       "<Figure size 432x288 with 1 Axes>"
      ]
     },
     "metadata": {
      "needs_background": "light"
     },
     "output_type": "display_data"
    }
   ],
   "source": [
    "y_train = pd.read_csv('../data/y_train.csv').fillna(0)\n",
    "X_train = pd.read_csv('../data/X_train.csv').fillna(0)\n",
    "\n",
    "threshold = 600\n",
    "\n",
    "eliminated = y_train[abs(y_train['spot_id_delta']) - threshold >= 0].DELIVERY_START\n",
    "print(eliminated)\n",
    "y_train = y_train[~y_train['DELIVERY_START'].isin(eliminated)]\n",
    "X_train = X_train[~X_train['DELIVERY_START'].isin(eliminated)]\n",
    "\n",
    "\n",
    "y=y_train['spot_id_delta']\n",
    "x=X_train[\"load_forecast\"]\n",
    "plt.title(\"écart en fonction de la prévision de consommation totale d'éléctricité en France\")\n",
    "plt.xlabel(\"prévision\")\n",
    "plt.ylabel(\"écart\")\n",
    "plt.scatter(x,y)"
   ]
  },
  {
   "cell_type": "code",
   "execution_count": 25,
   "id": "92a9f56c",
   "metadata": {},
   "outputs": [
    {
     "data": {
      "text/plain": [
       "7423"
      ]
     },
     "execution_count": 25,
     "metadata": {},
     "output_type": "execute_result"
    }
   ],
   "source": [
    "x.size"
   ]
  },
  {
   "cell_type": "code",
   "execution_count": 26,
   "id": "701597e0",
   "metadata": {},
   "outputs": [
    {
     "data": {
      "text/plain": [
       "10605"
      ]
     },
     "execution_count": 26,
     "metadata": {},
     "output_type": "execute_result"
    }
   ],
   "source": [
    "y.size"
   ]
  },
  {
   "cell_type": "code",
   "execution_count": null,
   "id": "12f32d33",
   "metadata": {},
   "outputs": [],
   "source": []
  }
 ],
 "metadata": {
  "kernelspec": {
   "display_name": "Python 3",
   "language": "python",
   "name": "python3"
  },
  "language_info": {
   "codemirror_mode": {
    "name": "ipython",
    "version": 3
   },
   "file_extension": ".py",
   "mimetype": "text/x-python",
   "name": "python",
   "nbconvert_exporter": "python",
   "pygments_lexer": "ipython3",
   "version": "3.8.8"
  }
 },
 "nbformat": 4,
 "nbformat_minor": 5
}
