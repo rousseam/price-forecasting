{
 "cells": [
  {
   "cell_type": "markdown",
   "id": "eca447b1",
   "metadata": {},
   "source": [
    "# [Challenge Data - Electricity price forecasting by Elmy](https://challengedata.ens.fr/challenges/140)\n",
    "\n",
    "## Decision Tree Classifier\n",
    "\n",
    "Ce notebook vise à faire l'étude (mise en place, optimisation et score) de la méthode de Decision Tree Learning sur notre problème de prédiction du paramètre _spot_id_delta_. Pour cela, nous allons regrouper les données d'entrainement en deux groupes :\n",
    "* _spot_id_delta_ >= 0\n",
    "* _spot_id_delta_ <= 0"
   ]
  },
  {
   "cell_type": "code",
   "execution_count": 3,
   "id": "028cb3bc",
   "metadata": {},
   "outputs": [],
   "source": [
    "import numpy as np\n",
    "import pandas as pd\n",
    "import seaborn as sns\n",
    "from scipy import stats\n",
    "\n",
    "from sklearn.model_selection import train_test_split\n",
    "from sklearn.metrics import balanced_accuracy_score\n",
    "\n",
    "X = pd.read_csv('../data/X_train.csv').set_index('DELIVERY_START')\n",
    "y = pd.read_csv('../data/y_train.csv') #.set_index('DELIVERY_START')\n",
    "X_rendu = pd.read_csv('../data/X_test.csv').set_index('DELIVERY_START')\n",
    "\n",
    "X_train, X_test, y_train, y_test = train_test_split(X, y, test_size=0.3)\n",
    "\n",
    "y_train_classified = y_train.copy()\n",
    "y_train_classified['spot_id_delta'] = np.sign(y_train_classified['spot_id_delta'])\n",
    "y_test_classified = y_test.copy()\n",
    "y_test_classified['spot_id_delta'] = np.sign(y_test_classified['spot_id_delta'])"
   ]
  },
  {
   "cell_type": "code",
   "execution_count": 4,
   "id": "f39dfc8e",
   "metadata": {},
   "outputs": [
    {
     "data": {
      "text/html": [
       "<div>\n",
       "<style scoped>\n",
       "    .dataframe tbody tr th:only-of-type {\n",
       "        vertical-align: middle;\n",
       "    }\n",
       "\n",
       "    .dataframe tbody tr th {\n",
       "        vertical-align: top;\n",
       "    }\n",
       "\n",
       "    .dataframe thead th {\n",
       "        text-align: right;\n",
       "    }\n",
       "</style>\n",
       "<table border=\"1\" class=\"dataframe\">\n",
       "  <thead>\n",
       "    <tr style=\"text-align: right;\">\n",
       "      <th></th>\n",
       "      <th>Unnamed: 0</th>\n",
       "      <th>DELIVERY_START</th>\n",
       "      <th>spot_id_delta</th>\n",
       "    </tr>\n",
       "  </thead>\n",
       "  <tbody>\n",
       "    <tr>\n",
       "      <th>553</th>\n",
       "      <td>9849</td>\n",
       "      <td>2023-02-26 11:00:00+01:00</td>\n",
       "      <td>-14.591457</td>\n",
       "    </tr>\n",
       "    <tr>\n",
       "      <th>2374</th>\n",
       "      <td>5670</td>\n",
       "      <td>2022-09-01 08:00:00+02:00</td>\n",
       "      <td>-14.896794</td>\n",
       "    </tr>\n",
       "    <tr>\n",
       "      <th>1061</th>\n",
       "      <td>4433</td>\n",
       "      <td>2022-07-11 19:00:00+02:00</td>\n",
       "      <td>16.143834</td>\n",
       "    </tr>\n",
       "    <tr>\n",
       "      <th>6370</th>\n",
       "      <td>8239</td>\n",
       "      <td>2022-12-20 09:00:00+01:00</td>\n",
       "      <td>-33.480208</td>\n",
       "    </tr>\n",
       "    <tr>\n",
       "      <th>2674</th>\n",
       "      <td>2177</td>\n",
       "      <td>2022-04-05 19:00:00+02:00</td>\n",
       "      <td>-15.206277</td>\n",
       "    </tr>\n",
       "  </tbody>\n",
       "</table>\n",
       "</div>"
      ],
      "text/plain": [
       "      Unnamed: 0             DELIVERY_START  spot_id_delta\n",
       "553         9849  2023-02-26 11:00:00+01:00     -14.591457\n",
       "2374        5670  2022-09-01 08:00:00+02:00     -14.896794\n",
       "1061        4433  2022-07-11 19:00:00+02:00      16.143834\n",
       "6370        8239  2022-12-20 09:00:00+01:00     -33.480208\n",
       "2674        2177  2022-04-05 19:00:00+02:00     -15.206277"
      ]
     },
     "execution_count": 4,
     "metadata": {},
     "output_type": "execute_result"
    }
   ],
   "source": [
    "y_train.head()"
   ]
  },
  {
   "cell_type": "code",
   "execution_count": null,
   "id": "108da533",
   "metadata": {},
   "outputs": [],
   "source": [
    "def weighted_accuracy(y_true: pd.DataFrame, y_pred: np.ndarray):\n",
    "    y_pred = pd.DataFrame(data={'y_pred': y_pred})\n",
    "    df = pd.concat([y_true.rename(columns={'spot_id_delta': 'y_true'}), y_pred], axis=1)\n",
    "    df['accuracy'] = df.apply(lambda row: (math.floor(abs((np.sign(row.y_true) + np.sign(row.y_pred)/2))))*(1 - abs((row.y_true - row.y_pred)/row.y_true)), axis=1)\n",
    "    return df['accuracy'].mean()"
   ]
  },
  {
   "cell_type": "markdown",
   "id": "222ce424",
   "metadata": {},
   "source": [
    "Maintenant que les données sont classifiées, on peut entraîner un modèle de Decistion Tree Learning:"
   ]
  },
  {
   "cell_type": "code",
   "execution_count": null,
   "id": "67d92f29",
   "metadata": {},
   "outputs": [],
   "source": [
    "import matplotlib.pyplot as plt\n",
    "import math\n",
    "from sklearn.tree import DecisionTreeClassifier\n",
    "\n",
    "clf = DecisionTreeClassifier(max)\n",
    "clf.fit(X_train, y_train_classified)\n",
    "y_pred = pd.DataFrame(clf.predict(X_train)[:, 1])"
   ]
  },
  {
   "cell_type": "code",
   "execution_count": null,
   "id": "c6c052d2",
   "metadata": {},
   "outputs": [],
   "source": [
    "sns.heatmap(y_pred.isna(),cbar=False)"
   ]
  },
  {
   "cell_type": "code",
   "execution_count": null,
   "id": "5e2aeb4b",
   "metadata": {},
   "outputs": [],
   "source": [
    "sns.heatmap(y_train.isna(),cbar=False)"
   ]
  },
  {
   "cell_type": "code",
   "execution_count": null,
   "id": "15dbc794",
   "metadata": {},
   "outputs": [],
   "source": [
    "print(\"weighted accuracy on y_train: \", weighted_accuracy(y_train, y_pred))\n",
    "print(\"weighted accuracy on y_train: \", weighted_accuracy(y_test, clf.predict(X_test)[:, 1]))"
   ]
  },
  {
   "cell_type": "code",
   "execution_count": null,
   "id": "a7441d21",
   "metadata": {},
   "outputs": [],
   "source": [
    "plt.figure(figsize=(10, 5))\n",
    "plt.plot(depths, train_scores, color=\"b\", linestyle=':', label=\"train\")\n",
    "plt.plot(depths, test_scores, color=\"r\", linestyle='-', label=\"test\")\n",
    "plt.xlabel(\"Tree depth\")\n",
    "plt.ylabel(\"Score\")\n",
    "plt.grid()\n",
    "plt.legend(loc=\"best\")"
   ]
  },
  {
   "cell_type": "markdown",
   "id": "534d6ea7",
   "metadata": {},
   "source": [
    "On en déduit la profondeur optimale pour le Decision Tree Classifier :"
   ]
  },
  {
   "cell_type": "code",
   "execution_count": null,
   "id": "d9e51e2d",
   "metadata": {},
   "outputs": [],
   "source": [
    "best_depth = depths[np.argmax(test_scores)]\n",
    "print(f\"best_depth = {best_depth} for a score of {max(test_scores)}\")"
   ]
  },
  {
   "cell_type": "markdown",
   "id": "feebb624",
   "metadata": {},
   "source": [
    "Le score étant supérieur à 0.5, on peut donc prédire avec ce modèle **avec plus d'une chance sur deux** si le prix sera plus élevé sur le marché SPOT ou sur le marché Intraday.\n",
    "\n",
    "On souhaite maintenant faire les prédictions à partir du data set X_rendu :"
   ]
  },
  {
   "cell_type": "code",
   "execution_count": null,
   "id": "88aa36a1",
   "metadata": {},
   "outputs": [],
   "source": [
    "clf = DecisionTreeClassifier(max_depth=24)\n",
    "clf.fit(X_train, y_train_classified)\n",
    "\n",
    "Y_test_submission = X_rendu[['DELIVERY_START']].copy()\n",
    "Y_test_submission['spot_id_delta'] = clf.predict(X_rendu.drop('DELIVERY_START', axis=1).fillna(0))\n"
   ]
  },
  {
   "cell_type": "code",
   "execution_count": null,
   "id": "cfb9fd9d",
   "metadata": {},
   "outputs": [],
   "source": [
    "Y_test_submission.head()"
   ]
  },
  {
   "cell_type": "code",
   "execution_count": null,
   "id": "d118e241",
   "metadata": {},
   "outputs": [],
   "source": [
    "Y_test_submission.to_csv('../data/y_submission.csv', index=False)"
   ]
  },
  {
   "cell_type": "code",
   "execution_count": null,
   "id": "1ebae279",
   "metadata": {},
   "outputs": [],
   "source": [
    "y_train = pd.read_csv('../data/y_train.csv').fillna(0)\n",
    "X_train = pd.read_csv('../data/X_train.csv').fillna(0)\n",
    "\n",
    "threshold = 600\n",
    "\n",
    "eliminated = y_train[abs(y_train['spot_id_delta']) - threshold >= 0].DELIVERY_START\n",
    "print(eliminated)\n",
    "y_train = y_train[~y_train['DELIVERY_START'].isin(eliminated)]\n",
    "X_train = X_train[~X_train['DELIVERY_START'].isin(eliminated)]\n",
    "\n",
    "\n",
    "y=y_train['spot_id_delta']\n",
    "x=X_train[\"load_forecast\"]\n",
    "plt.title(\"écart en fonction de la prévision de consommation totale d'éléctricité en France\")\n",
    "plt.xlabel(\"prévision\")\n",
    "plt.ylabel(\"écart\")\n",
    "plt.scatter(x,y)"
   ]
  },
  {
   "cell_type": "code",
   "execution_count": null,
   "id": "0ea5d97e",
   "metadata": {},
   "outputs": [],
   "source": [
    "x.size"
   ]
  },
  {
   "cell_type": "code",
   "execution_count": null,
   "id": "313cf356",
   "metadata": {},
   "outputs": [],
   "source": [
    "y.size"
   ]
  },
  {
   "cell_type": "code",
   "execution_count": null,
   "id": "a2c8940b",
   "metadata": {},
   "outputs": [],
   "source": []
  }
 ],
 "metadata": {
  "kernelspec": {
   "display_name": "Python 3",
   "language": "python",
   "name": "python3"
  },
  "language_info": {
   "codemirror_mode": {
    "name": "ipython",
    "version": 3
   },
   "file_extension": ".py",
   "mimetype": "text/x-python",
   "name": "python",
   "nbconvert_exporter": "python",
   "pygments_lexer": "ipython3",
   "version": "3.8.8"
  }
 },
 "nbformat": 4,
 "nbformat_minor": 5
}
